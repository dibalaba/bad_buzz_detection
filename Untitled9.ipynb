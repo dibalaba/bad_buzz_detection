{
  "cells": [
    {
      "cell_type": "markdown",
      "metadata": {
        "id": "view-in-github",
        "colab_type": "text"
      },
      "source": [
        "<a href=\"https://colab.research.google.com/github/dibalaba/bad_buzz_detection/blob/consolidate_model_and_add_unit_test/Untitled9.ipynb\" target=\"_parent\"><img src=\"https://colab.research.google.com/assets/colab-badge.svg\" alt=\"Open In Colab\"/></a>"
      ]
    },
    {
      "cell_type": "code",
      "execution_count": null,
      "metadata": {
        "colab": {
          "base_uri": "https://localhost:8080/"
        },
        "id": "RG8GkEubTXXG",
        "outputId": "de793161-7b58-46e0-8d75-559e803fcd1a"
      },
      "outputs": [
        {
          "output_type": "stream",
          "name": "stdout",
          "text": [
            "Collecting opendatasets\n",
            "  Downloading opendatasets-0.1.22-py3-none-any.whl (15 kB)\n",
            "Requirement already satisfied: tqdm in /usr/local/lib/python3.10/dist-packages (from opendatasets) (4.66.1)\n",
            "Requirement already satisfied: kaggle in /usr/local/lib/python3.10/dist-packages (from opendatasets) (1.5.16)\n",
            "Requirement already satisfied: click in /usr/local/lib/python3.10/dist-packages (from opendatasets) (8.1.7)\n",
            "Requirement already satisfied: six>=1.10 in /usr/local/lib/python3.10/dist-packages (from kaggle->opendatasets) (1.16.0)\n",
            "Requirement already satisfied: certifi in /usr/local/lib/python3.10/dist-packages (from kaggle->opendatasets) (2023.7.22)\n",
            "Requirement already satisfied: python-dateutil in /usr/local/lib/python3.10/dist-packages (from kaggle->opendatasets) (2.8.2)\n",
            "Requirement already satisfied: requests in /usr/local/lib/python3.10/dist-packages (from kaggle->opendatasets) (2.31.0)\n",
            "Requirement already satisfied: python-slugify in /usr/local/lib/python3.10/dist-packages (from kaggle->opendatasets) (8.0.1)\n",
            "Requirement already satisfied: urllib3 in /usr/local/lib/python3.10/dist-packages (from kaggle->opendatasets) (2.0.5)\n",
            "Requirement already satisfied: bleach in /usr/local/lib/python3.10/dist-packages (from kaggle->opendatasets) (6.0.0)\n",
            "Requirement already satisfied: webencodings in /usr/local/lib/python3.10/dist-packages (from bleach->kaggle->opendatasets) (0.5.1)\n",
            "Requirement already satisfied: text-unidecode>=1.3 in /usr/local/lib/python3.10/dist-packages (from python-slugify->kaggle->opendatasets) (1.3)\n",
            "Requirement already satisfied: charset-normalizer<4,>=2 in /usr/local/lib/python3.10/dist-packages (from requests->kaggle->opendatasets) (3.2.0)\n",
            "Requirement already satisfied: idna<4,>=2.5 in /usr/local/lib/python3.10/dist-packages (from requests->kaggle->opendatasets) (3.4)\n",
            "Installing collected packages: opendatasets\n",
            "Successfully installed opendatasets-0.1.22\n",
            "Collecting mlflow\n",
            "  Downloading mlflow-2.7.1-py3-none-any.whl (18.5 MB)\n",
            "\u001b[2K     \u001b[90m━━━━━━━━━━━━━━━━━━━━━━━━━━━━━━━━━━━━━━━━\u001b[0m \u001b[32m18.5/18.5 MB\u001b[0m \u001b[31m77.9 MB/s\u001b[0m eta \u001b[36m0:00:00\u001b[0m\n",
            "\u001b[?25hRequirement already satisfied: click<9,>=7.0 in /usr/local/lib/python3.10/dist-packages (from mlflow) (8.1.7)\n",
            "Requirement already satisfied: cloudpickle<3 in /usr/local/lib/python3.10/dist-packages (from mlflow) (2.2.1)\n",
            "Collecting databricks-cli<1,>=0.8.7 (from mlflow)\n",
            "  Downloading databricks-cli-0.17.8.tar.gz (85 kB)\n",
            "\u001b[2K     \u001b[90m━━━━━━━━━━━━━━━━━━━━━━━━━━━━━━━━━━━━━━━━\u001b[0m \u001b[32m85.2/85.2 kB\u001b[0m \u001b[31m11.0 MB/s\u001b[0m eta \u001b[36m0:00:00\u001b[0m\n",
            "\u001b[?25h  Preparing metadata (setup.py) ... \u001b[?25l\u001b[?25hdone\n",
            "Requirement already satisfied: entrypoints<1 in /usr/local/lib/python3.10/dist-packages (from mlflow) (0.4)\n",
            "Collecting gitpython<4,>=2.1.0 (from mlflow)\n",
            "  Downloading GitPython-3.1.37-py3-none-any.whl (190 kB)\n",
            "\u001b[2K     \u001b[90m━━━━━━━━━━━━━━━━━━━━━━━━━━━━━━━━━━━━━━\u001b[0m \u001b[32m190.0/190.0 kB\u001b[0m \u001b[31m21.4 MB/s\u001b[0m eta \u001b[36m0:00:00\u001b[0m\n",
            "\u001b[?25hRequirement already satisfied: pyyaml<7,>=5.1 in /usr/local/lib/python3.10/dist-packages (from mlflow) (6.0.1)\n",
            "Requirement already satisfied: protobuf<5,>=3.12.0 in /usr/local/lib/python3.10/dist-packages (from mlflow) (3.20.3)\n",
            "Requirement already satisfied: pytz<2024 in /usr/local/lib/python3.10/dist-packages (from mlflow) (2023.3.post1)\n",
            "Requirement already satisfied: requests<3,>=2.17.3 in /usr/local/lib/python3.10/dist-packages (from mlflow) (2.31.0)\n",
            "Requirement already satisfied: packaging<24 in /usr/local/lib/python3.10/dist-packages (from mlflow) (23.1)\n",
            "Requirement already satisfied: importlib-metadata!=4.7.0,<7,>=3.7.0 in /usr/local/lib/python3.10/dist-packages (from mlflow) (6.8.0)\n",
            "Requirement already satisfied: sqlparse<1,>=0.4.0 in /usr/local/lib/python3.10/dist-packages (from mlflow) (0.4.4)\n",
            "Collecting alembic!=1.10.0,<2 (from mlflow)\n",
            "  Downloading alembic-1.12.0-py3-none-any.whl (226 kB)\n",
            "\u001b[2K     \u001b[90m━━━━━━━━━━━━━━━━━━━━━━━━━━━━━━━━━━━━━━\u001b[0m \u001b[32m226.0/226.0 kB\u001b[0m \u001b[31m24.3 MB/s\u001b[0m eta \u001b[36m0:00:00\u001b[0m\n",
            "\u001b[?25hCollecting docker<7,>=4.0.0 (from mlflow)\n",
            "  Downloading docker-6.1.3-py3-none-any.whl (148 kB)\n",
            "\u001b[2K     \u001b[90m━━━━━━━━━━━━━━━━━━━━━━━━━━━━━━━━━━━━━━\u001b[0m \u001b[32m148.1/148.1 kB\u001b[0m \u001b[31m17.4 MB/s\u001b[0m eta \u001b[36m0:00:00\u001b[0m\n",
            "\u001b[?25hRequirement already satisfied: Flask<3 in /usr/local/lib/python3.10/dist-packages (from mlflow) (2.2.5)\n",
            "Requirement already satisfied: numpy<2 in /usr/local/lib/python3.10/dist-packages (from mlflow) (1.23.5)\n",
            "Requirement already satisfied: scipy<2 in /usr/local/lib/python3.10/dist-packages (from mlflow) (1.11.3)\n",
            "Requirement already satisfied: pandas<3 in /usr/local/lib/python3.10/dist-packages (from mlflow) (1.5.3)\n",
            "Collecting querystring-parser<2 (from mlflow)\n",
            "  Downloading querystring_parser-1.2.4-py2.py3-none-any.whl (7.9 kB)\n",
            "Requirement already satisfied: sqlalchemy<3,>=1.4.0 in /usr/local/lib/python3.10/dist-packages (from mlflow) (2.0.21)\n",
            "Requirement already satisfied: scikit-learn<2 in /usr/local/lib/python3.10/dist-packages (from mlflow) (1.2.2)\n",
            "Requirement already satisfied: pyarrow<14,>=4.0.0 in /usr/local/lib/python3.10/dist-packages (from mlflow) (9.0.0)\n",
            "Requirement already satisfied: markdown<4,>=3.3 in /usr/local/lib/python3.10/dist-packages (from mlflow) (3.4.4)\n",
            "Requirement already satisfied: matplotlib<4 in /usr/local/lib/python3.10/dist-packages (from mlflow) (3.7.1)\n",
            "Collecting gunicorn<22 (from mlflow)\n",
            "  Downloading gunicorn-21.2.0-py3-none-any.whl (80 kB)\n",
            "\u001b[2K     \u001b[90m━━━━━━━━━━━━━━━━━━━━━━━━━━━━━━━━━━━━━━━━\u001b[0m \u001b[32m80.2/80.2 kB\u001b[0m \u001b[31m9.5 MB/s\u001b[0m eta \u001b[36m0:00:00\u001b[0m\n",
            "\u001b[?25hRequirement already satisfied: Jinja2<4,>=2.11 in /usr/local/lib/python3.10/dist-packages (from mlflow) (3.1.2)\n",
            "Collecting Mako (from alembic!=1.10.0,<2->mlflow)\n",
            "  Downloading Mako-1.2.4-py3-none-any.whl (78 kB)\n",
            "\u001b[2K     \u001b[90m━━━━━━━━━━━━━━━━━━━━━━━━━━━━━━━━━━━━━━━━\u001b[0m \u001b[32m78.7/78.7 kB\u001b[0m \u001b[31m8.8 MB/s\u001b[0m eta \u001b[36m0:00:00\u001b[0m\n",
            "\u001b[?25hRequirement already satisfied: typing-extensions>=4 in /usr/local/lib/python3.10/dist-packages (from alembic!=1.10.0,<2->mlflow) (4.5.0)\n",
            "Requirement already satisfied: pyjwt>=1.7.0 in /usr/lib/python3/dist-packages (from databricks-cli<1,>=0.8.7->mlflow) (2.3.0)\n",
            "Requirement already satisfied: oauthlib>=3.1.0 in /usr/local/lib/python3.10/dist-packages (from databricks-cli<1,>=0.8.7->mlflow) (3.2.2)\n",
            "Requirement already satisfied: tabulate>=0.7.7 in /usr/local/lib/python3.10/dist-packages (from databricks-cli<1,>=0.8.7->mlflow) (0.9.0)\n",
            "Requirement already satisfied: six>=1.10.0 in /usr/local/lib/python3.10/dist-packages (from databricks-cli<1,>=0.8.7->mlflow) (1.16.0)\n",
            "Collecting urllib3<2.0.0,>=1.26.7 (from databricks-cli<1,>=0.8.7->mlflow)\n",
            "  Downloading urllib3-1.26.17-py2.py3-none-any.whl (143 kB)\n",
            "\u001b[2K     \u001b[90m━━━━━━━━━━━━━━━━━━━━━━━━━━━━━━━━━━━━━━\u001b[0m \u001b[32m143.4/143.4 kB\u001b[0m \u001b[31m16.5 MB/s\u001b[0m eta \u001b[36m0:00:00\u001b[0m\n",
            "\u001b[?25hRequirement already satisfied: websocket-client>=0.32.0 in /usr/local/lib/python3.10/dist-packages (from docker<7,>=4.0.0->mlflow) (1.6.3)\n",
            "Requirement already satisfied: Werkzeug>=2.2.2 in /usr/local/lib/python3.10/dist-packages (from Flask<3->mlflow) (2.3.7)\n",
            "Requirement already satisfied: itsdangerous>=2.0 in /usr/local/lib/python3.10/dist-packages (from Flask<3->mlflow) (2.1.2)\n",
            "Collecting gitdb<5,>=4.0.1 (from gitpython<4,>=2.1.0->mlflow)\n",
            "  Downloading gitdb-4.0.10-py3-none-any.whl (62 kB)\n",
            "\u001b[2K     \u001b[90m━━━━━━━━━━━━━━━━━━━━━━━━━━━━━━━━━━━━━━━━\u001b[0m \u001b[32m62.7/62.7 kB\u001b[0m \u001b[31m7.6 MB/s\u001b[0m eta \u001b[36m0:00:00\u001b[0m\n",
            "\u001b[?25hRequirement already satisfied: zipp>=0.5 in /usr/local/lib/python3.10/dist-packages (from importlib-metadata!=4.7.0,<7,>=3.7.0->mlflow) (3.17.0)\n",
            "Requirement already satisfied: MarkupSafe>=2.0 in /usr/local/lib/python3.10/dist-packages (from Jinja2<4,>=2.11->mlflow) (2.1.3)\n",
            "Requirement already satisfied: contourpy>=1.0.1 in /usr/local/lib/python3.10/dist-packages (from matplotlib<4->mlflow) (1.1.1)\n",
            "Requirement already satisfied: cycler>=0.10 in /usr/local/lib/python3.10/dist-packages (from matplotlib<4->mlflow) (0.12.0)\n",
            "Requirement already satisfied: fonttools>=4.22.0 in /usr/local/lib/python3.10/dist-packages (from matplotlib<4->mlflow) (4.43.0)\n",
            "Requirement already satisfied: kiwisolver>=1.0.1 in /usr/local/lib/python3.10/dist-packages (from matplotlib<4->mlflow) (1.4.5)\n",
            "Requirement already satisfied: pillow>=6.2.0 in /usr/local/lib/python3.10/dist-packages (from matplotlib<4->mlflow) (9.4.0)\n",
            "Requirement already satisfied: pyparsing>=2.3.1 in /usr/local/lib/python3.10/dist-packages (from matplotlib<4->mlflow) (3.1.1)\n",
            "Requirement already satisfied: python-dateutil>=2.7 in /usr/local/lib/python3.10/dist-packages (from matplotlib<4->mlflow) (2.8.2)\n",
            "Requirement already satisfied: charset-normalizer<4,>=2 in /usr/local/lib/python3.10/dist-packages (from requests<3,>=2.17.3->mlflow) (3.2.0)\n",
            "Requirement already satisfied: idna<4,>=2.5 in /usr/local/lib/python3.10/dist-packages (from requests<3,>=2.17.3->mlflow) (3.4)\n",
            "Requirement already satisfied: certifi>=2017.4.17 in /usr/local/lib/python3.10/dist-packages (from requests<3,>=2.17.3->mlflow) (2023.7.22)\n",
            "Requirement already satisfied: joblib>=1.1.1 in /usr/local/lib/python3.10/dist-packages (from scikit-learn<2->mlflow) (1.3.2)\n",
            "Requirement already satisfied: threadpoolctl>=2.0.0 in /usr/local/lib/python3.10/dist-packages (from scikit-learn<2->mlflow) (3.2.0)\n",
            "Requirement already satisfied: greenlet!=0.4.17 in /usr/local/lib/python3.10/dist-packages (from sqlalchemy<3,>=1.4.0->mlflow) (2.0.2)\n",
            "Collecting smmap<6,>=3.0.1 (from gitdb<5,>=4.0.1->gitpython<4,>=2.1.0->mlflow)\n",
            "  Downloading smmap-5.0.1-py3-none-any.whl (24 kB)\n",
            "Building wheels for collected packages: databricks-cli\n",
            "  Building wheel for databricks-cli (setup.py) ... \u001b[?25l\u001b[?25hdone\n",
            "  Created wheel for databricks-cli: filename=databricks_cli-0.17.8-py3-none-any.whl size=145466 sha256=0894678306f4523287967762ec1d0645195306027bb90c763a248ee1466813e9\n",
            "  Stored in directory: /root/.cache/pip/wheels/7d/c3/96/9efd9f76a128935c533c654a62f6d0f950d638b295553797f5\n",
            "Successfully built databricks-cli\n",
            "Installing collected packages: urllib3, smmap, querystring-parser, Mako, gunicorn, gitdb, alembic, gitpython, docker, databricks-cli, mlflow\n",
            "  Attempting uninstall: urllib3\n",
            "    Found existing installation: urllib3 2.0.5\n",
            "    Uninstalling urllib3-2.0.5:\n",
            "      Successfully uninstalled urllib3-2.0.5\n",
            "Successfully installed Mako-1.2.4 alembic-1.12.0 databricks-cli-0.17.8 docker-6.1.3 gitdb-4.0.10 gitpython-3.1.37 gunicorn-21.2.0 mlflow-2.7.1 querystring-parser-1.2.4 smmap-5.0.1 urllib3-1.26.17\n",
            "Collecting pyngrok\n",
            "  Downloading pyngrok-7.0.0.tar.gz (718 kB)\n",
            "\u001b[2K     \u001b[90m━━━━━━━━━━━━━━━━━━━━━━━━━━━━━━━━━━━━━━\u001b[0m \u001b[32m718.7/718.7 kB\u001b[0m \u001b[31m11.7 MB/s\u001b[0m eta \u001b[36m0:00:00\u001b[0m\n",
            "\u001b[?25h  Preparing metadata (setup.py) ... \u001b[?25l\u001b[?25hdone\n",
            "Requirement already satisfied: PyYAML in /usr/local/lib/python3.10/dist-packages (from pyngrok) (6.0.1)\n",
            "Building wheels for collected packages: pyngrok\n",
            "  Building wheel for pyngrok (setup.py) ... \u001b[?25l\u001b[?25hdone\n",
            "  Created wheel for pyngrok: filename=pyngrok-7.0.0-py3-none-any.whl size=21129 sha256=afd438972cd21fa184cc6b095ec198a44242463dcc1ebd95edf6789e2e95cb0c\n",
            "  Stored in directory: /root/.cache/pip/wheels/60/29/7b/f64332aa7e5e88fbd56d4002185ae22dcdc83b35b3d1c2cbf5\n",
            "Successfully built pyngrok\n",
            "Installing collected packages: pyngrok\n",
            "Successfully installed pyngrok-7.0.0\n",
            "Requirement already satisfied: pyyaml in /usr/local/lib/python3.10/dist-packages (6.0.1)\n",
            "Requirement already satisfied: keras in /usr/local/lib/python3.10/dist-packages (2.12.0)\n",
            "Collecting uvicorn\n",
            "  Downloading uvicorn-0.23.2-py3-none-any.whl (59 kB)\n",
            "\u001b[2K     \u001b[90m━━━━━━━━━━━━━━━━━━━━━━━━━━━━━━━━━━━━━━━━\u001b[0m \u001b[32m59.5/59.5 kB\u001b[0m \u001b[31m1.8 MB/s\u001b[0m eta \u001b[36m0:00:00\u001b[0m\n",
            "\u001b[?25hRequirement already satisfied: click>=7.0 in /usr/local/lib/python3.10/dist-packages (from uvicorn) (8.1.7)\n",
            "Collecting h11>=0.8 (from uvicorn)\n",
            "  Downloading h11-0.14.0-py3-none-any.whl (58 kB)\n",
            "\u001b[2K     \u001b[90m━━━━━━━━━━━━━━━━━━━━━━━━━━━━━━━━━━━━━━━━\u001b[0m \u001b[32m58.3/58.3 kB\u001b[0m \u001b[31m6.1 MB/s\u001b[0m eta \u001b[36m0:00:00\u001b[0m\n",
            "\u001b[?25hRequirement already satisfied: typing-extensions>=4.0 in /usr/local/lib/python3.10/dist-packages (from uvicorn) (4.5.0)\n",
            "Installing collected packages: h11, uvicorn\n",
            "Successfully installed h11-0.14.0 uvicorn-0.23.2\n"
          ]
        }
      ],
      "source": [
        "!pip install opendatasets --upgrade\n",
        "!pip install mlflow\n",
        "!pip install pyngrok\n",
        "!pip install pyyaml\n",
        "!pip install keras\n",
        "!pip install uvicorn\n"
      ]
    },
    {
      "cell_type": "code",
      "execution_count": null,
      "metadata": {
        "id": "ZUjdQoDmN8o0"
      },
      "outputs": [],
      "source": []
    },
    {
      "cell_type": "code",
      "execution_count": null,
      "metadata": {
        "colab": {
          "base_uri": "https://localhost:8080/"
        },
        "id": "uxEAKNb-TYfQ",
        "outputId": "bc0c19b3-82ec-4d23-caa4-c4b429c7003a"
      },
      "outputs": [
        {
          "output_type": "stream",
          "name": "stdout",
          "text": [
            "Requirement already satisfied: pyngrok in /usr/local/lib/python3.10/dist-packages (7.0.0)\n",
            "Requirement already satisfied: PyYAML in /usr/local/lib/python3.10/dist-packages (from pyngrok) (6.0.1)\n",
            "Collecting fastapi\n",
            "  Downloading fastapi-0.103.2-py3-none-any.whl (66 kB)\n",
            "\u001b[2K     \u001b[90m━━━━━━━━━━━━━━━━━━━━━━━━━━━━━━━━━━━━━━━━\u001b[0m \u001b[32m66.3/66.3 kB\u001b[0m \u001b[31m1.9 MB/s\u001b[0m eta \u001b[36m0:00:00\u001b[0m\n",
            "\u001b[?25hRequirement already satisfied: anyio<4.0.0,>=3.7.1 in /usr/local/lib/python3.10/dist-packages (from fastapi) (3.7.1)\n",
            "Requirement already satisfied: pydantic!=1.8,!=1.8.1,!=2.0.0,!=2.0.1,!=2.1.0,<3.0.0,>=1.7.4 in /usr/local/lib/python3.10/dist-packages (from fastapi) (1.10.13)\n",
            "Collecting starlette<0.28.0,>=0.27.0 (from fastapi)\n",
            "  Downloading starlette-0.27.0-py3-none-any.whl (66 kB)\n",
            "\u001b[2K     \u001b[90m━━━━━━━━━━━━━━━━━━━━━━━━━━━━━━━━━━━━━━━━\u001b[0m \u001b[32m67.0/67.0 kB\u001b[0m \u001b[31m6.0 MB/s\u001b[0m eta \u001b[36m0:00:00\u001b[0m\n",
            "\u001b[?25hRequirement already satisfied: typing-extensions>=4.5.0 in /usr/local/lib/python3.10/dist-packages (from fastapi) (4.5.0)\n",
            "Requirement already satisfied: idna>=2.8 in /usr/local/lib/python3.10/dist-packages (from anyio<4.0.0,>=3.7.1->fastapi) (3.4)\n",
            "Requirement already satisfied: sniffio>=1.1 in /usr/local/lib/python3.10/dist-packages (from anyio<4.0.0,>=3.7.1->fastapi) (1.3.0)\n",
            "Requirement already satisfied: exceptiongroup in /usr/local/lib/python3.10/dist-packages (from anyio<4.0.0,>=3.7.1->fastapi) (1.1.3)\n",
            "Installing collected packages: starlette, fastapi\n",
            "Successfully installed fastapi-0.103.2 starlette-0.27.0\n",
            "\u001b[2K     \u001b[90m━━━━━━━━━━━━━━━━━━━━━━━━━━━━━━━━━━━━━━━━\u001b[0m \u001b[32m45.5/45.5 kB\u001b[0m \u001b[31m1.8 MB/s\u001b[0m eta \u001b[36m0:00:00\u001b[0m\n",
            "\u001b[2K     \u001b[90m━━━━━━━━━━━━━━━━━━━━━━━━━━━━━━━━━━━━━━━━\u001b[0m \u001b[32m8.3/8.3 MB\u001b[0m \u001b[31m64.9 MB/s\u001b[0m eta \u001b[36m0:00:00\u001b[0m\n",
            "\u001b[2K     \u001b[90m━━━━━━━━━━━━━━━━━━━━━━━━━━━━━━━━━━━━━━━━\u001b[0m \u001b[32m57.2/57.2 kB\u001b[0m \u001b[31m6.5 MB/s\u001b[0m eta \u001b[36m0:00:00\u001b[0m\n",
            "\u001b[2K     \u001b[90m━━━━━━━━━━━━━━━━━━━━━━━━━━━━━━━━━━━━━━━━\u001b[0m \u001b[32m10.0/10.0 MB\u001b[0m \u001b[31m51.3 MB/s\u001b[0m eta \u001b[36m0:00:00\u001b[0m\n",
            "\u001b[2K     \u001b[90m━━━━━━━━━━━━━━━━━━━━━━━━━━━━━━━━━━━━━━━━\u001b[0m \u001b[32m82.8/82.8 kB\u001b[0m \u001b[31m9.9 MB/s\u001b[0m eta \u001b[36m0:00:00\u001b[0m\n",
            "\u001b[2K     \u001b[90m━━━━━━━━━━━━━━━━━━━━━━━━━━━━━━━━━━━━━━━\u001b[0m \u001b[32m10.0/10.0 MB\u001b[0m \u001b[31m108.9 MB/s\u001b[0m eta \u001b[36m0:00:00\u001b[0m\n",
            "\u001b[2K     \u001b[90m━━━━━━━━━━━━━━━━━━━━━━━━━━━━━━━━━━━━━━━\u001b[0m \u001b[32m10.0/10.0 MB\u001b[0m \u001b[31m108.4 MB/s\u001b[0m eta \u001b[36m0:00:00\u001b[0m\n",
            "\u001b[2K     \u001b[90m━━━━━━━━━━━━━━━━━━━━━━━━━━━━━━━━━━━━━━━\u001b[0m \u001b[32m10.0/10.0 MB\u001b[0m \u001b[31m112.0 MB/s\u001b[0m eta \u001b[36m0:00:00\u001b[0m\n",
            "\u001b[2K     \u001b[90m━━━━━━━━━━━━━━━━━━━━━━━━━━━━━━━━━━━━━━━\u001b[0m \u001b[32m10.0/10.0 MB\u001b[0m \u001b[31m104.1 MB/s\u001b[0m eta \u001b[36m0:00:00\u001b[0m\n",
            "\u001b[2K     \u001b[90m━━━━━━━━━━━━━━━━━━━━━━━━━━━━━━━━━━━━━━━\u001b[0m \u001b[32m10.0/10.0 MB\u001b[0m \u001b[31m101.5 MB/s\u001b[0m eta \u001b[36m0:00:00\u001b[0m\n",
            "\u001b[2K     \u001b[90m━━━━━━━━━━━━━━━━━━━━━━━━━━━━━━━━━━━━━━━━\u001b[0m \u001b[32m9.8/9.8 MB\u001b[0m \u001b[31m78.7 MB/s\u001b[0m eta \u001b[36m0:00:00\u001b[0m\n",
            "\u001b[2K     \u001b[90m━━━━━━━━━━━━━━━━━━━━━━━━━━━━━━━━━━━━━━━━\u001b[0m \u001b[32m9.8/9.8 MB\u001b[0m \u001b[31m89.1 MB/s\u001b[0m eta \u001b[36m0:00:00\u001b[0m\n",
            "\u001b[2K     \u001b[90m━━━━━━━━━━━━━━━━━━━━━━━━━━━━━━━━━━━━━━━━\u001b[0m \u001b[32m9.8/9.8 MB\u001b[0m \u001b[31m96.8 MB/s\u001b[0m eta \u001b[36m0:00:00\u001b[0m\n",
            "\u001b[2K     \u001b[90m━━━━━━━━━━━━━━━━━━━━━━━━━━━━━━━━━━━━━━━━\u001b[0m \u001b[32m9.8/9.8 MB\u001b[0m \u001b[31m90.1 MB/s\u001b[0m eta \u001b[36m0:00:00\u001b[0m\n",
            "\u001b[2K     \u001b[90m━━━━━━━━━━━━━━━━━━━━━━━━━━━━━━━━━━━━━━━━\u001b[0m \u001b[32m9.8/9.8 MB\u001b[0m \u001b[31m100.1 MB/s\u001b[0m eta \u001b[36m0:00:00\u001b[0m\n",
            "\u001b[2K     \u001b[90m━━━━━━━━━━━━━━━━━━━━━━━━━━━━━━━━━━━━━━━━\u001b[0m \u001b[32m9.7/9.7 MB\u001b[0m \u001b[31m105.3 MB/s\u001b[0m eta \u001b[36m0:00:00\u001b[0m\n",
            "\u001b[2K     \u001b[90m━━━━━━━━━━━━━━━━━━━━━━━━━━━━━━━━━━━━━━━━\u001b[0m \u001b[32m9.7/9.7 MB\u001b[0m \u001b[31m102.5 MB/s\u001b[0m eta \u001b[36m0:00:00\u001b[0m\n",
            "\u001b[2K     \u001b[90m━━━━━━━━━━━━━━━━━━━━━━━━━━━━━━━━━━━━━━━━\u001b[0m \u001b[32m9.7/9.7 MB\u001b[0m \u001b[31m102.6 MB/s\u001b[0m eta \u001b[36m0:00:00\u001b[0m\n",
            "\u001b[2K     \u001b[90m━━━━━━━━━━━━━━━━━━━━━━━━━━━━━━━━━━━━━━\u001b[0m \u001b[32m529.8/529.8 kB\u001b[0m \u001b[31m40.4 MB/s\u001b[0m eta \u001b[36m0:00:00\u001b[0m\n",
            "\u001b[2K     \u001b[90m━━━━━━━━━━━━━━━━━━━━━━━━━━━━━━━━━━━━━━\u001b[0m \u001b[32m529.8/529.8 kB\u001b[0m \u001b[31m46.8 MB/s\u001b[0m eta \u001b[36m0:00:00\u001b[0m\n",
            "\u001b[2K     \u001b[90m━━━━━━━━━━━━━━━━━━━━━━━━━━━━━━━━━━━━━━\u001b[0m \u001b[32m529.7/529.7 kB\u001b[0m \u001b[31m42.4 MB/s\u001b[0m eta \u001b[36m0:00:00\u001b[0m\n",
            "\u001b[2K     \u001b[90m━━━━━━━━━━━━━━━━━━━━━━━━━━━━━━━━━━━━━━\u001b[0m \u001b[32m439.1/439.1 kB\u001b[0m \u001b[31m41.3 MB/s\u001b[0m eta \u001b[36m0:00:00\u001b[0m\n",
            "\u001b[2K     \u001b[90m━━━━━━━━━━━━━━━━━━━━━━━━━━━━━━━━━━━━━━\u001b[0m \u001b[32m439.1/439.1 kB\u001b[0m \u001b[31m40.8 MB/s\u001b[0m eta \u001b[36m0:00:00\u001b[0m\n",
            "\u001b[2K     \u001b[90m━━━━━━━━━━━━━━━━━━━━━━━━━━━━━━━━━━━━━━━━\u001b[0m \u001b[32m9.9/9.9 MB\u001b[0m \u001b[31m96.8 MB/s\u001b[0m eta \u001b[36m0:00:00\u001b[0m\n",
            "\u001b[2K     \u001b[90m━━━━━━━━━━━━━━━━━━━━━━━━━━━━━━━━━━━━━━━━\u001b[0m \u001b[32m9.9/9.9 MB\u001b[0m \u001b[31m103.7 MB/s\u001b[0m eta \u001b[36m0:00:00\u001b[0m\n",
            "\u001b[2K     \u001b[90m━━━━━━━━━━━━━━━━━━━━━━━━━━━━━━━━━━━━━━━━\u001b[0m \u001b[32m9.9/9.9 MB\u001b[0m \u001b[31m104.5 MB/s\u001b[0m eta \u001b[36m0:00:00\u001b[0m\n",
            "\u001b[2K     \u001b[90m━━━━━━━━━━━━━━━━━━━━━━━━━━━━━━━━━━━━━━━━\u001b[0m \u001b[32m9.9/9.9 MB\u001b[0m \u001b[31m107.9 MB/s\u001b[0m eta \u001b[36m0:00:00\u001b[0m\n",
            "\u001b[2K     \u001b[90m━━━━━━━━━━━━━━━━━━━━━━━━━━━━━━━━━━━━━━━━\u001b[0m \u001b[32m9.9/9.9 MB\u001b[0m \u001b[31m106.2 MB/s\u001b[0m eta \u001b[36m0:00:00\u001b[0m\n",
            "\u001b[2K     \u001b[90m━━━━━━━━━━━━━━━━━━━━━━━━━━━━━━━━━━━━━━━━\u001b[0m \u001b[32m9.9/9.9 MB\u001b[0m \u001b[31m102.4 MB/s\u001b[0m eta \u001b[36m0:00:00\u001b[0m\n",
            "\u001b[2K     \u001b[90m━━━━━━━━━━━━━━━━━━━━━━━━━━━━━━━━━━━━━━━━\u001b[0m \u001b[32m9.9/9.9 MB\u001b[0m \u001b[31m108.8 MB/s\u001b[0m eta \u001b[36m0:00:00\u001b[0m\n",
            "\u001b[2K     \u001b[90m━━━━━━━━━━━━━━━━━━━━━━━━━━━━━━━━━━━━━━━━\u001b[0m \u001b[32m9.9/9.9 MB\u001b[0m \u001b[31m113.3 MB/s\u001b[0m eta \u001b[36m0:00:00\u001b[0m\n",
            "\u001b[2K     \u001b[90m━━━━━━━━━━━━━━━━━━━━━━━━━━━━━━━━━━━━━━━━\u001b[0m \u001b[32m9.9/9.9 MB\u001b[0m \u001b[31m114.9 MB/s\u001b[0m eta \u001b[36m0:00:00\u001b[0m\n",
            "\u001b[?25h\u001b[31mERROR: pip's dependency resolver does not currently take into account all the packages that are installed. This behaviour is the source of the following dependency conflicts.\n",
            "fiona 1.9.4.post1 requires click~=8.0, but you have click 7.1.2 which is incompatible.\n",
            "flask 2.2.5 requires click>=8.0, but you have click 7.1.2 which is incompatible.\n",
            "dask 2023.8.1 requires click>=8.0, but you have click 7.1.2 which is incompatible.\n",
            "distributed 2023.8.1 requires click>=8.0, but you have click 7.1.2 which is incompatible.\n",
            "google-colab 1.0.0 requires notebook==6.5.5, but you have notebook 6.4.5 which is incompatible.\n",
            "orbax-checkpoint 0.4.1 requires jax>=0.4.9, but you have jax 0.3.25 which is incompatible.\n",
            "pip-tools 6.13.0 requires click>=8, but you have click 7.1.2 which is incompatible.\u001b[0m\u001b[31m\n",
            "\u001b[0mRequirement already satisfied: google-colab in /usr/local/lib/python3.10/dist-packages (1.0.0)\n",
            "Requirement already satisfied: google-auth==2.17.3 in /usr/local/lib/python3.10/dist-packages (from google-colab) (2.17.3)\n",
            "Requirement already satisfied: ipykernel==5.5.6 in /usr/local/lib/python3.10/dist-packages (from google-colab) (5.5.6)\n",
            "Requirement already satisfied: ipython==7.34.0 in /usr/local/lib/python3.10/dist-packages (from google-colab) (7.34.0)\n",
            "Collecting notebook==6.5.5 (from google-colab)\n",
            "  Downloading notebook-6.5.5-py3-none-any.whl (529 kB)\n",
            "\u001b[2K     \u001b[90m━━━━━━━━━━━━━━━━━━━━━━━━━━━━━━━━━━━━━━━\u001b[0m \u001b[32m529.8/529.8 kB\u001b[0m \u001b[31m9.1 MB/s\u001b[0m eta \u001b[36m0:00:00\u001b[0m\n",
            "\u001b[?25hRequirement already satisfied: pandas==1.5.3 in /usr/local/lib/python3.10/dist-packages (from google-colab) (1.5.3)\n",
            "Requirement already satisfied: portpicker==1.5.2 in /usr/local/lib/python3.10/dist-packages (from google-colab) (1.5.2)\n",
            "Requirement already satisfied: requests==2.31.0 in /usr/local/lib/python3.10/dist-packages (from google-colab) (2.31.0)\n",
            "Requirement already satisfied: tornado==6.3.2 in /usr/local/lib/python3.10/dist-packages (from google-colab) (6.3.2)\n",
            "Requirement already satisfied: cachetools<6.0,>=2.0.0 in /usr/local/lib/python3.10/dist-packages (from google-auth==2.17.3->google-colab) (5.3.1)\n",
            "Requirement already satisfied: pyasn1-modules>=0.2.1 in /usr/local/lib/python3.10/dist-packages (from google-auth==2.17.3->google-colab) (0.3.0)\n",
            "Requirement already satisfied: six>=1.9.0 in /usr/local/lib/python3.10/dist-packages (from google-auth==2.17.3->google-colab) (1.16.0)\n",
            "Requirement already satisfied: rsa<5,>=3.1.4 in /usr/local/lib/python3.10/dist-packages (from google-auth==2.17.3->google-colab) (4.9)\n",
            "Requirement already satisfied: ipython-genutils in /usr/local/lib/python3.10/dist-packages (from ipykernel==5.5.6->google-colab) (0.2.0)\n",
            "Requirement already satisfied: traitlets>=4.1.0 in /usr/local/lib/python3.10/dist-packages (from ipykernel==5.5.6->google-colab) (5.7.1)\n",
            "Requirement already satisfied: jupyter-client in /usr/local/lib/python3.10/dist-packages (from ipykernel==5.5.6->google-colab) (6.1.12)\n",
            "Requirement already satisfied: setuptools>=18.5 in /usr/local/lib/python3.10/dist-packages (from ipython==7.34.0->google-colab) (67.7.2)\n",
            "Requirement already satisfied: jedi>=0.16 in /usr/local/lib/python3.10/dist-packages (from ipython==7.34.0->google-colab) (0.19.1)\n",
            "Requirement already satisfied: decorator in /usr/local/lib/python3.10/dist-packages (from ipython==7.34.0->google-colab) (4.4.2)\n",
            "Requirement already satisfied: pickleshare in /usr/local/lib/python3.10/dist-packages (from ipython==7.34.0->google-colab) (0.7.5)\n",
            "Requirement already satisfied: prompt-toolkit!=3.0.0,!=3.0.1,<3.1.0,>=2.0.0 in /usr/local/lib/python3.10/dist-packages (from ipython==7.34.0->google-colab) (3.0.39)\n",
            "Requirement already satisfied: pygments in /usr/local/lib/python3.10/dist-packages (from ipython==7.34.0->google-colab) (2.16.1)\n",
            "Requirement already satisfied: backcall in /usr/local/lib/python3.10/dist-packages (from ipython==7.34.0->google-colab) (0.2.0)\n",
            "Requirement already satisfied: matplotlib-inline in /usr/local/lib/python3.10/dist-packages (from ipython==7.34.0->google-colab) (0.1.6)\n",
            "Requirement already satisfied: pexpect>4.3 in /usr/local/lib/python3.10/dist-packages (from ipython==7.34.0->google-colab) (4.8.0)\n",
            "Requirement already satisfied: jinja2 in /usr/local/lib/python3.10/dist-packages (from notebook==6.5.5->google-colab) (3.1.2)\n",
            "Requirement already satisfied: pyzmq<25,>=17 in /usr/local/lib/python3.10/dist-packages (from notebook==6.5.5->google-colab) (23.2.1)\n",
            "Requirement already satisfied: argon2-cffi in /usr/local/lib/python3.10/dist-packages (from notebook==6.5.5->google-colab) (23.1.0)\n",
            "Requirement already satisfied: jupyter-core>=4.6.1 in /usr/local/lib/python3.10/dist-packages (from notebook==6.5.5->google-colab) (5.3.2)\n",
            "Requirement already satisfied: nbformat in /usr/local/lib/python3.10/dist-packages (from notebook==6.5.5->google-colab) (5.9.2)\n",
            "Requirement already satisfied: nbconvert>=5 in /usr/local/lib/python3.10/dist-packages (from notebook==6.5.5->google-colab) (6.5.4)\n",
            "Collecting nest-asyncio>=1.5 (from notebook==6.5.5->google-colab)\n",
            "  Downloading nest_asyncio-1.5.8-py3-none-any.whl (5.3 kB)\n",
            "Requirement already satisfied: Send2Trash>=1.8.0 in /usr/local/lib/python3.10/dist-packages (from notebook==6.5.5->google-colab) (1.8.2)\n",
            "Requirement already satisfied: terminado>=0.8.3 in /usr/local/lib/python3.10/dist-packages (from notebook==6.5.5->google-colab) (0.17.1)\n",
            "Requirement already satisfied: prometheus-client in /usr/local/lib/python3.10/dist-packages (from notebook==6.5.5->google-colab) (0.17.1)\n",
            "Collecting nbclassic>=0.4.7 (from notebook==6.5.5->google-colab)\n",
            "  Downloading nbclassic-1.0.0-py3-none-any.whl (10.0 MB)\n",
            "\u001b[2K     \u001b[90m━━━━━━━━━━━━━━━━━━━━━━━━━━━━━━━━━━━━━━━\u001b[0m \u001b[32m10.0/10.0 MB\u001b[0m \u001b[31m101.0 MB/s\u001b[0m eta \u001b[36m0:00:00\u001b[0m\n",
            "\u001b[?25hRequirement already satisfied: python-dateutil>=2.8.1 in /usr/local/lib/python3.10/dist-packages (from pandas==1.5.3->google-colab) (2.8.2)\n",
            "Requirement already satisfied: pytz>=2020.1 in /usr/local/lib/python3.10/dist-packages (from pandas==1.5.3->google-colab) (2023.3.post1)\n",
            "Requirement already satisfied: numpy>=1.21.0 in /usr/local/lib/python3.10/dist-packages (from pandas==1.5.3->google-colab) (1.23.5)\n",
            "Requirement already satisfied: psutil in /usr/local/lib/python3.10/dist-packages (from portpicker==1.5.2->google-colab) (5.9.5)\n",
            "Requirement already satisfied: charset-normalizer<4,>=2 in /usr/local/lib/python3.10/dist-packages (from requests==2.31.0->google-colab) (3.2.0)\n",
            "Requirement already satisfied: idna<4,>=2.5 in /usr/local/lib/python3.10/dist-packages (from requests==2.31.0->google-colab) (3.4)\n",
            "Requirement already satisfied: urllib3<3,>=1.21.1 in /usr/local/lib/python3.10/dist-packages (from requests==2.31.0->google-colab) (1.26.17)\n",
            "Requirement already satisfied: certifi>=2017.4.17 in /usr/local/lib/python3.10/dist-packages (from requests==2.31.0->google-colab) (2023.7.22)\n",
            "Requirement already satisfied: parso<0.9.0,>=0.8.3 in /usr/local/lib/python3.10/dist-packages (from jedi>=0.16->ipython==7.34.0->google-colab) (0.8.3)\n",
            "Requirement already satisfied: platformdirs>=2.5 in /usr/local/lib/python3.10/dist-packages (from jupyter-core>=4.6.1->notebook==6.5.5->google-colab) (3.10.0)\n",
            "Requirement already satisfied: jupyter-server>=1.8 in /usr/local/lib/python3.10/dist-packages (from nbclassic>=0.4.7->notebook==6.5.5->google-colab) (1.24.0)\n",
            "Requirement already satisfied: notebook-shim>=0.2.3 in /usr/local/lib/python3.10/dist-packages (from nbclassic>=0.4.7->notebook==6.5.5->google-colab) (0.2.3)\n",
            "Requirement already satisfied: lxml in /usr/local/lib/python3.10/dist-packages (from nbconvert>=5->notebook==6.5.5->google-colab) (4.9.3)\n",
            "Requirement already satisfied: beautifulsoup4 in /usr/local/lib/python3.10/dist-packages (from nbconvert>=5->notebook==6.5.5->google-colab) (4.11.2)\n",
            "Requirement already satisfied: bleach in /usr/local/lib/python3.10/dist-packages (from nbconvert>=5->notebook==6.5.5->google-colab) (6.0.0)\n",
            "Requirement already satisfied: defusedxml in /usr/local/lib/python3.10/dist-packages (from nbconvert>=5->notebook==6.5.5->google-colab) (0.7.1)\n",
            "Requirement already satisfied: entrypoints>=0.2.2 in /usr/local/lib/python3.10/dist-packages (from nbconvert>=5->notebook==6.5.5->google-colab) (0.4)\n",
            "Requirement already satisfied: jupyterlab-pygments in /usr/local/lib/python3.10/dist-packages (from nbconvert>=5->notebook==6.5.5->google-colab) (0.2.2)\n",
            "Requirement already satisfied: MarkupSafe>=2.0 in /usr/local/lib/python3.10/dist-packages (from nbconvert>=5->notebook==6.5.5->google-colab) (2.1.3)\n",
            "Requirement already satisfied: mistune<2,>=0.8.1 in /usr/local/lib/python3.10/dist-packages (from nbconvert>=5->notebook==6.5.5->google-colab) (0.8.4)\n",
            "Requirement already satisfied: nbclient>=0.5.0 in /usr/local/lib/python3.10/dist-packages (from nbconvert>=5->notebook==6.5.5->google-colab) (0.8.0)\n",
            "Requirement already satisfied: packaging in /usr/local/lib/python3.10/dist-packages (from nbconvert>=5->notebook==6.5.5->google-colab) (23.1)\n",
            "Requirement already satisfied: pandocfilters>=1.4.1 in /usr/local/lib/python3.10/dist-packages (from nbconvert>=5->notebook==6.5.5->google-colab) (1.5.0)\n",
            "Requirement already satisfied: tinycss2 in /usr/local/lib/python3.10/dist-packages (from nbconvert>=5->notebook==6.5.5->google-colab) (1.2.1)\n",
            "Requirement already satisfied: fastjsonschema in /usr/local/lib/python3.10/dist-packages (from nbformat->notebook==6.5.5->google-colab) (2.18.0)\n",
            "Requirement already satisfied: jsonschema>=2.6 in /usr/local/lib/python3.10/dist-packages (from nbformat->notebook==6.5.5->google-colab) (4.19.1)\n",
            "Requirement already satisfied: ptyprocess>=0.5 in /usr/local/lib/python3.10/dist-packages (from pexpect>4.3->ipython==7.34.0->google-colab) (0.7.0)\n",
            "Requirement already satisfied: wcwidth in /usr/local/lib/python3.10/dist-packages (from prompt-toolkit!=3.0.0,!=3.0.1,<3.1.0,>=2.0.0->ipython==7.34.0->google-colab) (0.2.7)\n",
            "Requirement already satisfied: pyasn1<0.6.0,>=0.4.6 in /usr/local/lib/python3.10/dist-packages (from pyasn1-modules>=0.2.1->google-auth==2.17.3->google-colab) (0.5.0)\n",
            "Requirement already satisfied: argon2-cffi-bindings in /usr/local/lib/python3.10/dist-packages (from argon2-cffi->notebook==6.5.5->google-colab) (21.2.0)\n",
            "Requirement already satisfied: attrs>=22.2.0 in /usr/local/lib/python3.10/dist-packages (from jsonschema>=2.6->nbformat->notebook==6.5.5->google-colab) (23.1.0)\n",
            "Requirement already satisfied: jsonschema-specifications>=2023.03.6 in /usr/local/lib/python3.10/dist-packages (from jsonschema>=2.6->nbformat->notebook==6.5.5->google-colab) (2023.7.1)\n",
            "Requirement already satisfied: referencing>=0.28.4 in /usr/local/lib/python3.10/dist-packages (from jsonschema>=2.6->nbformat->notebook==6.5.5->google-colab) (0.30.2)\n",
            "Requirement already satisfied: rpds-py>=0.7.1 in /usr/local/lib/python3.10/dist-packages (from jsonschema>=2.6->nbformat->notebook==6.5.5->google-colab) (0.10.3)\n",
            "Requirement already satisfied: anyio<4,>=3.1.0 in /usr/local/lib/python3.10/dist-packages (from jupyter-server>=1.8->nbclassic>=0.4.7->notebook==6.5.5->google-colab) (3.7.1)\n",
            "Requirement already satisfied: websocket-client in /usr/local/lib/python3.10/dist-packages (from jupyter-server>=1.8->nbclassic>=0.4.7->notebook==6.5.5->google-colab) (1.6.3)\n",
            "Requirement already satisfied: cffi>=1.0.1 in /usr/local/lib/python3.10/dist-packages (from argon2-cffi-bindings->argon2-cffi->notebook==6.5.5->google-colab) (1.16.0)\n",
            "Requirement already satisfied: soupsieve>1.2 in /usr/local/lib/python3.10/dist-packages (from beautifulsoup4->nbconvert>=5->notebook==6.5.5->google-colab) (2.5)\n",
            "Requirement already satisfied: webencodings in /usr/local/lib/python3.10/dist-packages (from bleach->nbconvert>=5->notebook==6.5.5->google-colab) (0.5.1)\n",
            "Requirement already satisfied: sniffio>=1.1 in /usr/local/lib/python3.10/dist-packages (from anyio<4,>=3.1.0->jupyter-server>=1.8->nbclassic>=0.4.7->notebook==6.5.5->google-colab) (1.3.0)\n",
            "Requirement already satisfied: exceptiongroup in /usr/local/lib/python3.10/dist-packages (from anyio<4,>=3.1.0->jupyter-server>=1.8->nbclassic>=0.4.7->notebook==6.5.5->google-colab) (1.1.3)\n",
            "Requirement already satisfied: pycparser in /usr/local/lib/python3.10/dist-packages (from cffi>=1.0.1->argon2-cffi-bindings->argon2-cffi->notebook==6.5.5->google-colab) (2.21)\n",
            "Installing collected packages: nest-asyncio, nbclassic, notebook\n",
            "  Attempting uninstall: nest-asyncio\n",
            "    Found existing installation: nest-asyncio 1.4.3\n",
            "    Uninstalling nest-asyncio-1.4.3:\n",
            "      Successfully uninstalled nest-asyncio-1.4.3\n",
            "  Attempting uninstall: nbclassic\n",
            "    Found existing installation: nbclassic 0.3.7\n",
            "    Uninstalling nbclassic-0.3.7:\n",
            "      Successfully uninstalled nbclassic-0.3.7\n",
            "  Attempting uninstall: notebook\n",
            "    Found existing installation: notebook 6.4.5\n",
            "    Uninstalling notebook-6.4.5:\n",
            "      Successfully uninstalled notebook-6.4.5\n",
            "\u001b[31mERROR: pip's dependency resolver does not currently take into account all the packages that are installed. This behaviour is the source of the following dependency conflicts.\n",
            "colabcode 0.3.0 requires nest-asyncio==1.4.3, but you have nest-asyncio 1.5.8 which is incompatible.\n",
            "jupyterlab 3.0.7 requires nbclassic~=0.2, but you have nbclassic 1.0.0 which is incompatible.\n",
            "orbax-checkpoint 0.4.1 requires jax>=0.4.9, but you have jax 0.3.25 which is incompatible.\u001b[0m\u001b[31m\n",
            "\u001b[0mSuccessfully installed nbclassic-1.0.0 nest-asyncio-1.5.8 notebook-6.5.5\n"
          ]
        }
      ],
      "source": [
        "!pip install pyngrok\n",
        "!pip install fastapi\n",
        "!pip install -q colabcode\n",
        "!pip install google-colab"
      ]
    },
    {
      "cell_type": "code",
      "execution_count": null,
      "metadata": {
        "id": "blrLK48BVjjv"
      },
      "outputs": [],
      "source": []
    },
    {
      "cell_type": "code",
      "execution_count": null,
      "metadata": {
        "colab": {
          "base_uri": "https://localhost:8080/"
        },
        "id": "Y16BeeGmIRJZ",
        "outputId": "bc0998e3-8567-4b33-fd83-ab93d87a808e"
      },
      "outputs": [
        {
          "output_type": "stream",
          "name": "stdout",
          "text": [
            "Collecting tensorflow-text==2.13.*\n",
            "  Downloading tensorflow_text-2.13.0-cp310-cp310-manylinux_2_17_x86_64.manylinux2014_x86_64.whl (6.5 MB)\n",
            "\u001b[2K     \u001b[90m━━━━━━━━━━━━━━━━━━━━━━━━━━━━━━━━━━━━━━━━\u001b[0m \u001b[32m6.5/6.5 MB\u001b[0m \u001b[31m50.7 MB/s\u001b[0m eta \u001b[36m0:00:00\u001b[0m\n",
            "\u001b[?25hRequirement already satisfied: tensorflow-hub>=0.8.0 in /usr/local/lib/python3.10/dist-packages (from tensorflow-text==2.13.*) (0.14.0)\n",
            "Collecting tensorflow<2.14,>=2.13.0 (from tensorflow-text==2.13.*)\n",
            "  Downloading tensorflow-2.13.1-cp310-cp310-manylinux_2_17_x86_64.manylinux2014_x86_64.whl (479.7 MB)\n",
            "\u001b[2K     \u001b[90m━━━━━━━━━━━━━━━━━━━━━━━━━━━━━━━━━━━━━━━\u001b[0m \u001b[32m479.7/479.7 MB\u001b[0m \u001b[31m3.8 MB/s\u001b[0m eta \u001b[36m0:00:00\u001b[0m\n",
            "\u001b[?25hRequirement already satisfied: absl-py>=1.0.0 in /usr/local/lib/python3.10/dist-packages (from tensorflow<2.14,>=2.13.0->tensorflow-text==2.13.*) (1.4.0)\n",
            "Requirement already satisfied: astunparse>=1.6.0 in /usr/local/lib/python3.10/dist-packages (from tensorflow<2.14,>=2.13.0->tensorflow-text==2.13.*) (1.6.3)\n",
            "Requirement already satisfied: flatbuffers>=23.1.21 in /usr/local/lib/python3.10/dist-packages (from tensorflow<2.14,>=2.13.0->tensorflow-text==2.13.*) (23.5.26)\n",
            "Requirement already satisfied: gast<=0.4.0,>=0.2.1 in /usr/local/lib/python3.10/dist-packages (from tensorflow<2.14,>=2.13.0->tensorflow-text==2.13.*) (0.4.0)\n",
            "Requirement already satisfied: google-pasta>=0.1.1 in /usr/local/lib/python3.10/dist-packages (from tensorflow<2.14,>=2.13.0->tensorflow-text==2.13.*) (0.2.0)\n",
            "Requirement already satisfied: grpcio<2.0,>=1.24.3 in /usr/local/lib/python3.10/dist-packages (from tensorflow<2.14,>=2.13.0->tensorflow-text==2.13.*) (1.58.0)\n",
            "Requirement already satisfied: h5py>=2.9.0 in /usr/local/lib/python3.10/dist-packages (from tensorflow<2.14,>=2.13.0->tensorflow-text==2.13.*) (3.9.0)\n",
            "Collecting keras<2.14,>=2.13.1 (from tensorflow<2.14,>=2.13.0->tensorflow-text==2.13.*)\n",
            "  Downloading keras-2.13.1-py3-none-any.whl (1.7 MB)\n",
            "\u001b[2K     \u001b[90m━━━━━━━━━━━━━━━━━━━━━━━━━━━━━━━━━━━━━━━━\u001b[0m \u001b[32m1.7/1.7 MB\u001b[0m \u001b[31m83.5 MB/s\u001b[0m eta \u001b[36m0:00:00\u001b[0m\n",
            "\u001b[?25hRequirement already satisfied: libclang>=13.0.0 in /usr/local/lib/python3.10/dist-packages (from tensorflow<2.14,>=2.13.0->tensorflow-text==2.13.*) (16.0.6)\n",
            "Requirement already satisfied: numpy<=1.24.3,>=1.22 in /usr/local/lib/python3.10/dist-packages (from tensorflow<2.14,>=2.13.0->tensorflow-text==2.13.*) (1.23.5)\n",
            "Requirement already satisfied: opt-einsum>=2.3.2 in /usr/local/lib/python3.10/dist-packages (from tensorflow<2.14,>=2.13.0->tensorflow-text==2.13.*) (3.3.0)\n",
            "Requirement already satisfied: packaging in /usr/local/lib/python3.10/dist-packages (from tensorflow<2.14,>=2.13.0->tensorflow-text==2.13.*) (23.1)\n",
            "Requirement already satisfied: protobuf!=4.21.0,!=4.21.1,!=4.21.2,!=4.21.3,!=4.21.4,!=4.21.5,<5.0.0dev,>=3.20.3 in /usr/local/lib/python3.10/dist-packages (from tensorflow<2.14,>=2.13.0->tensorflow-text==2.13.*) (3.20.3)\n",
            "Requirement already satisfied: setuptools in /usr/local/lib/python3.10/dist-packages (from tensorflow<2.14,>=2.13.0->tensorflow-text==2.13.*) (67.7.2)\n",
            "Requirement already satisfied: six>=1.12.0 in /usr/local/lib/python3.10/dist-packages (from tensorflow<2.14,>=2.13.0->tensorflow-text==2.13.*) (1.16.0)\n",
            "Collecting tensorboard<2.14,>=2.13 (from tensorflow<2.14,>=2.13.0->tensorflow-text==2.13.*)\n",
            "  Downloading tensorboard-2.13.0-py3-none-any.whl (5.6 MB)\n",
            "\u001b[2K     \u001b[90m━━━━━━━━━━━━━━━━━━━━━━━━━━━━━━━━━━━━━━━━\u001b[0m \u001b[32m5.6/5.6 MB\u001b[0m \u001b[31m108.2 MB/s\u001b[0m eta \u001b[36m0:00:00\u001b[0m\n",
            "\u001b[?25hCollecting tensorflow-estimator<2.14,>=2.13.0 (from tensorflow<2.14,>=2.13.0->tensorflow-text==2.13.*)\n",
            "  Downloading tensorflow_estimator-2.13.0-py2.py3-none-any.whl (440 kB)\n",
            "\u001b[2K     \u001b[90m━━━━━━━━━━━━━━━━━━━━━━━━━━━━━━━━━━━━━━\u001b[0m \u001b[32m440.8/440.8 kB\u001b[0m \u001b[31m45.4 MB/s\u001b[0m eta \u001b[36m0:00:00\u001b[0m\n",
            "\u001b[?25hRequirement already satisfied: termcolor>=1.1.0 in /usr/local/lib/python3.10/dist-packages (from tensorflow<2.14,>=2.13.0->tensorflow-text==2.13.*) (2.3.0)\n",
            "Requirement already satisfied: typing-extensions<4.6.0,>=3.6.6 in /usr/local/lib/python3.10/dist-packages (from tensorflow<2.14,>=2.13.0->tensorflow-text==2.13.*) (4.5.0)\n",
            "Requirement already satisfied: wrapt>=1.11.0 in /usr/local/lib/python3.10/dist-packages (from tensorflow<2.14,>=2.13.0->tensorflow-text==2.13.*) (1.14.1)\n",
            "Requirement already satisfied: tensorflow-io-gcs-filesystem>=0.23.1 in /usr/local/lib/python3.10/dist-packages (from tensorflow<2.14,>=2.13.0->tensorflow-text==2.13.*) (0.34.0)\n",
            "Requirement already satisfied: wheel<1.0,>=0.23.0 in /usr/local/lib/python3.10/dist-packages (from astunparse>=1.6.0->tensorflow<2.14,>=2.13.0->tensorflow-text==2.13.*) (0.41.2)\n",
            "Requirement already satisfied: google-auth<3,>=1.6.3 in /usr/local/lib/python3.10/dist-packages (from tensorboard<2.14,>=2.13->tensorflow<2.14,>=2.13.0->tensorflow-text==2.13.*) (2.17.3)\n",
            "Collecting google-auth-oauthlib<1.1,>=0.5 (from tensorboard<2.14,>=2.13->tensorflow<2.14,>=2.13.0->tensorflow-text==2.13.*)\n",
            "  Downloading google_auth_oauthlib-1.0.0-py2.py3-none-any.whl (18 kB)\n",
            "Requirement already satisfied: markdown>=2.6.8 in /usr/local/lib/python3.10/dist-packages (from tensorboard<2.14,>=2.13->tensorflow<2.14,>=2.13.0->tensorflow-text==2.13.*) (3.4.4)\n",
            "Requirement already satisfied: requests<3,>=2.21.0 in /usr/local/lib/python3.10/dist-packages (from tensorboard<2.14,>=2.13->tensorflow<2.14,>=2.13.0->tensorflow-text==2.13.*) (2.31.0)\n",
            "Requirement already satisfied: tensorboard-data-server<0.8.0,>=0.7.0 in /usr/local/lib/python3.10/dist-packages (from tensorboard<2.14,>=2.13->tensorflow<2.14,>=2.13.0->tensorflow-text==2.13.*) (0.7.1)\n",
            "Requirement already satisfied: werkzeug>=1.0.1 in /usr/local/lib/python3.10/dist-packages (from tensorboard<2.14,>=2.13->tensorflow<2.14,>=2.13.0->tensorflow-text==2.13.*) (2.3.7)\n",
            "Requirement already satisfied: cachetools<6.0,>=2.0.0 in /usr/local/lib/python3.10/dist-packages (from google-auth<3,>=1.6.3->tensorboard<2.14,>=2.13->tensorflow<2.14,>=2.13.0->tensorflow-text==2.13.*) (5.3.1)\n",
            "Requirement already satisfied: pyasn1-modules>=0.2.1 in /usr/local/lib/python3.10/dist-packages (from google-auth<3,>=1.6.3->tensorboard<2.14,>=2.13->tensorflow<2.14,>=2.13.0->tensorflow-text==2.13.*) (0.3.0)\n",
            "Requirement already satisfied: rsa<5,>=3.1.4 in /usr/local/lib/python3.10/dist-packages (from google-auth<3,>=1.6.3->tensorboard<2.14,>=2.13->tensorflow<2.14,>=2.13.0->tensorflow-text==2.13.*) (4.9)\n",
            "Requirement already satisfied: requests-oauthlib>=0.7.0 in /usr/local/lib/python3.10/dist-packages (from google-auth-oauthlib<1.1,>=0.5->tensorboard<2.14,>=2.13->tensorflow<2.14,>=2.13.0->tensorflow-text==2.13.*) (1.3.1)\n",
            "Requirement already satisfied: charset-normalizer<4,>=2 in /usr/local/lib/python3.10/dist-packages (from requests<3,>=2.21.0->tensorboard<2.14,>=2.13->tensorflow<2.14,>=2.13.0->tensorflow-text==2.13.*) (3.2.0)\n",
            "Requirement already satisfied: idna<4,>=2.5 in /usr/local/lib/python3.10/dist-packages (from requests<3,>=2.21.0->tensorboard<2.14,>=2.13->tensorflow<2.14,>=2.13.0->tensorflow-text==2.13.*) (3.4)\n",
            "Requirement already satisfied: urllib3<3,>=1.21.1 in /usr/local/lib/python3.10/dist-packages (from requests<3,>=2.21.0->tensorboard<2.14,>=2.13->tensorflow<2.14,>=2.13.0->tensorflow-text==2.13.*) (1.26.17)\n",
            "Requirement already satisfied: certifi>=2017.4.17 in /usr/local/lib/python3.10/dist-packages (from requests<3,>=2.21.0->tensorboard<2.14,>=2.13->tensorflow<2.14,>=2.13.0->tensorflow-text==2.13.*) (2023.7.22)\n",
            "Requirement already satisfied: MarkupSafe>=2.1.1 in /usr/local/lib/python3.10/dist-packages (from werkzeug>=1.0.1->tensorboard<2.14,>=2.13->tensorflow<2.14,>=2.13.0->tensorflow-text==2.13.*) (2.1.3)\n",
            "Requirement already satisfied: pyasn1<0.6.0,>=0.4.6 in /usr/local/lib/python3.10/dist-packages (from pyasn1-modules>=0.2.1->google-auth<3,>=1.6.3->tensorboard<2.14,>=2.13->tensorflow<2.14,>=2.13.0->tensorflow-text==2.13.*) (0.5.0)\n",
            "Requirement already satisfied: oauthlib>=3.0.0 in /usr/local/lib/python3.10/dist-packages (from requests-oauthlib>=0.7.0->google-auth-oauthlib<1.1,>=0.5->tensorboard<2.14,>=2.13->tensorflow<2.14,>=2.13.0->tensorflow-text==2.13.*) (3.2.2)\n",
            "Installing collected packages: tensorflow-estimator, keras, google-auth-oauthlib, tensorboard, tensorflow, tensorflow-text\n",
            "  Attempting uninstall: tensorflow-estimator\n",
            "    Found existing installation: tensorflow-estimator 2.12.0\n",
            "    Uninstalling tensorflow-estimator-2.12.0:\n",
            "      Successfully uninstalled tensorflow-estimator-2.12.0\n",
            "  Attempting uninstall: keras\n",
            "    Found existing installation: keras 2.12.0\n",
            "    Uninstalling keras-2.12.0:\n",
            "      Successfully uninstalled keras-2.12.0\n",
            "  Attempting uninstall: google-auth-oauthlib\n",
            "    Found existing installation: google-auth-oauthlib 0.4.6\n",
            "    Uninstalling google-auth-oauthlib-0.4.6:\n",
            "      Successfully uninstalled google-auth-oauthlib-0.4.6\n",
            "  Attempting uninstall: tensorboard\n",
            "    Found existing installation: tensorboard 2.12.0\n",
            "    Uninstalling tensorboard-2.12.0:\n",
            "      Successfully uninstalled tensorboard-2.12.0\n",
            "  Attempting uninstall: tensorflow\n",
            "    Found existing installation: tensorflow 2.12.0\n",
            "    Uninstalling tensorflow-2.12.0:\n",
            "      Successfully uninstalled tensorflow-2.12.0\n",
            "Successfully installed google-auth-oauthlib-1.0.0 keras-2.13.1 tensorboard-2.13.0 tensorflow-2.13.1 tensorflow-estimator-2.13.0 tensorflow-text-2.13.0\n",
            "Collecting tf-models-official==2.13.*\n",
            "  Downloading tf_models_official-2.13.2-py2.py3-none-any.whl (2.6 MB)\n",
            "\u001b[2K     \u001b[90m━━━━━━━━━━━━━━━━━━━━━━━━━━━━━━━━━━━━━━━━\u001b[0m \u001b[32m2.6/2.6 MB\u001b[0m \u001b[31m28.0 MB/s\u001b[0m eta \u001b[36m0:00:00\u001b[0m\n",
            "\u001b[?25hRequirement already satisfied: Cython in /usr/local/lib/python3.10/dist-packages (from tf-models-official==2.13.*) (3.0.2)\n",
            "Requirement already satisfied: Pillow in /usr/local/lib/python3.10/dist-packages (from tf-models-official==2.13.*) (9.4.0)\n",
            "Requirement already satisfied: gin-config in /usr/local/lib/python3.10/dist-packages (from tf-models-official==2.13.*) (0.5.0)\n",
            "Requirement already satisfied: google-api-python-client>=1.6.7 in /usr/local/lib/python3.10/dist-packages (from tf-models-official==2.13.*) (2.84.0)\n",
            "Collecting immutabledict (from tf-models-official==2.13.*)\n",
            "  Downloading immutabledict-3.0.0-py3-none-any.whl (4.0 kB)\n",
            "Requirement already satisfied: kaggle>=1.3.9 in /usr/local/lib/python3.10/dist-packages (from tf-models-official==2.13.*) (1.5.16)\n",
            "Requirement already satisfied: matplotlib in /usr/local/lib/python3.10/dist-packages (from tf-models-official==2.13.*) (3.7.1)\n",
            "Requirement already satisfied: numpy>=1.20 in /usr/local/lib/python3.10/dist-packages (from tf-models-official==2.13.*) (1.23.5)\n",
            "Requirement already satisfied: oauth2client in /usr/local/lib/python3.10/dist-packages (from tf-models-official==2.13.*) (4.1.3)\n",
            "Requirement already satisfied: opencv-python-headless in /usr/local/lib/python3.10/dist-packages (from tf-models-official==2.13.*) (4.8.1.78)\n",
            "Requirement already satisfied: pandas>=0.22.0 in /usr/local/lib/python3.10/dist-packages (from tf-models-official==2.13.*) (1.5.3)\n",
            "Requirement already satisfied: psutil>=5.4.3 in /usr/local/lib/python3.10/dist-packages (from tf-models-official==2.13.*) (5.9.5)\n",
            "Requirement already satisfied: py-cpuinfo>=3.3.0 in /usr/local/lib/python3.10/dist-packages (from tf-models-official==2.13.*) (9.0.0)\n",
            "Requirement already satisfied: pycocotools in /usr/local/lib/python3.10/dist-packages (from tf-models-official==2.13.*) (2.0.7)\n",
            "Requirement already satisfied: pyyaml>=6.0.0 in /usr/local/lib/python3.10/dist-packages (from tf-models-official==2.13.*) (6.0.1)\n",
            "Collecting sacrebleu (from tf-models-official==2.13.*)\n",
            "  Downloading sacrebleu-2.3.1-py3-none-any.whl (118 kB)\n",
            "\u001b[2K     \u001b[90m━━━━━━━━━━━━━━━━━━━━━━━━━━━━━━━━━━━━━━\u001b[0m \u001b[32m118.9/118.9 kB\u001b[0m \u001b[31m14.4 MB/s\u001b[0m eta \u001b[36m0:00:00\u001b[0m\n",
            "\u001b[?25hRequirement already satisfied: scipy>=0.19.1 in /usr/local/lib/python3.10/dist-packages (from tf-models-official==2.13.*) (1.11.3)\n",
            "Collecting sentencepiece (from tf-models-official==2.13.*)\n",
            "  Downloading sentencepiece-0.1.99-cp310-cp310-manylinux_2_17_x86_64.manylinux2014_x86_64.whl (1.3 MB)\n",
            "\u001b[2K     \u001b[90m━━━━━━━━━━━━━━━━━━━━━━━━━━━━━━━━━━━━━━━━\u001b[0m \u001b[32m1.3/1.3 MB\u001b[0m \u001b[31m71.0 MB/s\u001b[0m eta \u001b[36m0:00:00\u001b[0m\n",
            "\u001b[?25hCollecting seqeval (from tf-models-official==2.13.*)\n",
            "  Downloading seqeval-1.2.2.tar.gz (43 kB)\n",
            "\u001b[2K     \u001b[90m━━━━━━━━━━━━━━━━━━━━━━━━━━━━━━━━━━━━━━━━\u001b[0m \u001b[32m43.6/43.6 kB\u001b[0m \u001b[31m4.8 MB/s\u001b[0m eta \u001b[36m0:00:00\u001b[0m\n",
            "\u001b[?25h  Preparing metadata (setup.py) ... \u001b[?25l\u001b[?25hdone\n",
            "Requirement already satisfied: six in /usr/local/lib/python3.10/dist-packages (from tf-models-official==2.13.*) (1.16.0)\n",
            "Requirement already satisfied: tensorflow-datasets in /usr/local/lib/python3.10/dist-packages (from tf-models-official==2.13.*) (4.9.3)\n",
            "Requirement already satisfied: tensorflow-hub>=0.6.0 in /usr/local/lib/python3.10/dist-packages (from tf-models-official==2.13.*) (0.14.0)\n",
            "Collecting tensorflow-model-optimization>=0.4.1 (from tf-models-official==2.13.*)\n",
            "  Downloading tensorflow_model_optimization-0.7.5-py2.py3-none-any.whl (241 kB)\n",
            "\u001b[2K     \u001b[90m━━━━━━━━━━━━━━━━━━━━━━━━━━━━━━━━━━━━━━\u001b[0m \u001b[32m241.2/241.2 kB\u001b[0m \u001b[31m29.5 MB/s\u001b[0m eta \u001b[36m0:00:00\u001b[0m\n",
            "\u001b[?25hRequirement already satisfied: tensorflow-text~=2.13.0 in /usr/local/lib/python3.10/dist-packages (from tf-models-official==2.13.*) (2.13.0)\n",
            "Requirement already satisfied: tensorflow~=2.13.0 in /usr/local/lib/python3.10/dist-packages (from tf-models-official==2.13.*) (2.13.1)\n",
            "Requirement already satisfied: tf-slim>=1.1.0 in /usr/local/lib/python3.10/dist-packages (from tf-models-official==2.13.*) (1.1.0)\n",
            "Requirement already satisfied: httplib2<1dev,>=0.15.0 in /usr/local/lib/python3.10/dist-packages (from google-api-python-client>=1.6.7->tf-models-official==2.13.*) (0.22.0)\n",
            "Requirement already satisfied: google-auth<3.0.0dev,>=1.19.0 in /usr/local/lib/python3.10/dist-packages (from google-api-python-client>=1.6.7->tf-models-official==2.13.*) (2.17.3)\n",
            "Requirement already satisfied: google-auth-httplib2>=0.1.0 in /usr/local/lib/python3.10/dist-packages (from google-api-python-client>=1.6.7->tf-models-official==2.13.*) (0.1.1)\n",
            "Requirement already satisfied: google-api-core!=2.0.*,!=2.1.*,!=2.2.*,!=2.3.0,<3.0.0dev,>=1.31.5 in /usr/local/lib/python3.10/dist-packages (from google-api-python-client>=1.6.7->tf-models-official==2.13.*) (2.11.1)\n",
            "Requirement already satisfied: uritemplate<5,>=3.0.1 in /usr/local/lib/python3.10/dist-packages (from google-api-python-client>=1.6.7->tf-models-official==2.13.*) (4.1.1)\n",
            "Requirement already satisfied: certifi in /usr/local/lib/python3.10/dist-packages (from kaggle>=1.3.9->tf-models-official==2.13.*) (2023.7.22)\n",
            "Requirement already satisfied: python-dateutil in /usr/local/lib/python3.10/dist-packages (from kaggle>=1.3.9->tf-models-official==2.13.*) (2.8.2)\n",
            "Requirement already satisfied: requests in /usr/local/lib/python3.10/dist-packages (from kaggle>=1.3.9->tf-models-official==2.13.*) (2.31.0)\n",
            "Requirement already satisfied: tqdm in /usr/local/lib/python3.10/dist-packages (from kaggle>=1.3.9->tf-models-official==2.13.*) (4.66.1)\n",
            "Requirement already satisfied: python-slugify in /usr/local/lib/python3.10/dist-packages (from kaggle>=1.3.9->tf-models-official==2.13.*) (8.0.1)\n",
            "Requirement already satisfied: urllib3 in /usr/local/lib/python3.10/dist-packages (from kaggle>=1.3.9->tf-models-official==2.13.*) (1.26.17)\n",
            "Requirement already satisfied: bleach in /usr/local/lib/python3.10/dist-packages (from kaggle>=1.3.9->tf-models-official==2.13.*) (6.0.0)\n",
            "Requirement already satisfied: pytz>=2020.1 in /usr/local/lib/python3.10/dist-packages (from pandas>=0.22.0->tf-models-official==2.13.*) (2023.3.post1)\n",
            "Requirement already satisfied: absl-py>=1.0.0 in /usr/local/lib/python3.10/dist-packages (from tensorflow~=2.13.0->tf-models-official==2.13.*) (1.4.0)\n",
            "Requirement already satisfied: astunparse>=1.6.0 in /usr/local/lib/python3.10/dist-packages (from tensorflow~=2.13.0->tf-models-official==2.13.*) (1.6.3)\n",
            "Requirement already satisfied: flatbuffers>=23.1.21 in /usr/local/lib/python3.10/dist-packages (from tensorflow~=2.13.0->tf-models-official==2.13.*) (23.5.26)\n",
            "Requirement already satisfied: gast<=0.4.0,>=0.2.1 in /usr/local/lib/python3.10/dist-packages (from tensorflow~=2.13.0->tf-models-official==2.13.*) (0.4.0)\n",
            "Requirement already satisfied: google-pasta>=0.1.1 in /usr/local/lib/python3.10/dist-packages (from tensorflow~=2.13.0->tf-models-official==2.13.*) (0.2.0)\n",
            "Requirement already satisfied: grpcio<2.0,>=1.24.3 in /usr/local/lib/python3.10/dist-packages (from tensorflow~=2.13.0->tf-models-official==2.13.*) (1.58.0)\n",
            "Requirement already satisfied: h5py>=2.9.0 in /usr/local/lib/python3.10/dist-packages (from tensorflow~=2.13.0->tf-models-official==2.13.*) (3.9.0)\n",
            "Requirement already satisfied: keras<2.14,>=2.13.1 in /usr/local/lib/python3.10/dist-packages (from tensorflow~=2.13.0->tf-models-official==2.13.*) (2.13.1)\n",
            "Requirement already satisfied: libclang>=13.0.0 in /usr/local/lib/python3.10/dist-packages (from tensorflow~=2.13.0->tf-models-official==2.13.*) (16.0.6)\n",
            "Requirement already satisfied: opt-einsum>=2.3.2 in /usr/local/lib/python3.10/dist-packages (from tensorflow~=2.13.0->tf-models-official==2.13.*) (3.3.0)\n",
            "Requirement already satisfied: packaging in /usr/local/lib/python3.10/dist-packages (from tensorflow~=2.13.0->tf-models-official==2.13.*) (23.1)\n",
            "Requirement already satisfied: protobuf!=4.21.0,!=4.21.1,!=4.21.2,!=4.21.3,!=4.21.4,!=4.21.5,<5.0.0dev,>=3.20.3 in /usr/local/lib/python3.10/dist-packages (from tensorflow~=2.13.0->tf-models-official==2.13.*) (3.20.3)\n",
            "Requirement already satisfied: setuptools in /usr/local/lib/python3.10/dist-packages (from tensorflow~=2.13.0->tf-models-official==2.13.*) (67.7.2)\n",
            "Requirement already satisfied: tensorboard<2.14,>=2.13 in /usr/local/lib/python3.10/dist-packages (from tensorflow~=2.13.0->tf-models-official==2.13.*) (2.13.0)\n",
            "Requirement already satisfied: tensorflow-estimator<2.14,>=2.13.0 in /usr/local/lib/python3.10/dist-packages (from tensorflow~=2.13.0->tf-models-official==2.13.*) (2.13.0)\n",
            "Requirement already satisfied: termcolor>=1.1.0 in /usr/local/lib/python3.10/dist-packages (from tensorflow~=2.13.0->tf-models-official==2.13.*) (2.3.0)\n",
            "Requirement already satisfied: typing-extensions<4.6.0,>=3.6.6 in /usr/local/lib/python3.10/dist-packages (from tensorflow~=2.13.0->tf-models-official==2.13.*) (4.5.0)\n",
            "Requirement already satisfied: wrapt>=1.11.0 in /usr/local/lib/python3.10/dist-packages (from tensorflow~=2.13.0->tf-models-official==2.13.*) (1.14.1)\n",
            "Requirement already satisfied: tensorflow-io-gcs-filesystem>=0.23.1 in /usr/local/lib/python3.10/dist-packages (from tensorflow~=2.13.0->tf-models-official==2.13.*) (0.34.0)\n",
            "Requirement already satisfied: dm-tree~=0.1.1 in /usr/local/lib/python3.10/dist-packages (from tensorflow-model-optimization>=0.4.1->tf-models-official==2.13.*) (0.1.8)\n",
            "Requirement already satisfied: contourpy>=1.0.1 in /usr/local/lib/python3.10/dist-packages (from matplotlib->tf-models-official==2.13.*) (1.1.1)\n",
            "Requirement already satisfied: cycler>=0.10 in /usr/local/lib/python3.10/dist-packages (from matplotlib->tf-models-official==2.13.*) (0.12.0)\n",
            "Requirement already satisfied: fonttools>=4.22.0 in /usr/local/lib/python3.10/dist-packages (from matplotlib->tf-models-official==2.13.*) (4.43.0)\n",
            "Requirement already satisfied: kiwisolver>=1.0.1 in /usr/local/lib/python3.10/dist-packages (from matplotlib->tf-models-official==2.13.*) (1.4.5)\n",
            "Requirement already satisfied: pyparsing>=2.3.1 in /usr/local/lib/python3.10/dist-packages (from matplotlib->tf-models-official==2.13.*) (3.1.1)\n",
            "Requirement already satisfied: pyasn1>=0.1.7 in /usr/local/lib/python3.10/dist-packages (from oauth2client->tf-models-official==2.13.*) (0.5.0)\n",
            "Requirement already satisfied: pyasn1-modules>=0.0.5 in /usr/local/lib/python3.10/dist-packages (from oauth2client->tf-models-official==2.13.*) (0.3.0)\n",
            "Requirement already satisfied: rsa>=3.1.4 in /usr/local/lib/python3.10/dist-packages (from oauth2client->tf-models-official==2.13.*) (4.9)\n",
            "Collecting portalocker (from sacrebleu->tf-models-official==2.13.*)\n",
            "  Downloading portalocker-2.8.2-py3-none-any.whl (17 kB)\n",
            "Requirement already satisfied: regex in /usr/local/lib/python3.10/dist-packages (from sacrebleu->tf-models-official==2.13.*) (2023.6.3)\n",
            "Requirement already satisfied: tabulate>=0.8.9 in /usr/local/lib/python3.10/dist-packages (from sacrebleu->tf-models-official==2.13.*) (0.9.0)\n",
            "Collecting colorama (from sacrebleu->tf-models-official==2.13.*)\n",
            "  Downloading colorama-0.4.6-py2.py3-none-any.whl (25 kB)\n",
            "Requirement already satisfied: lxml in /usr/local/lib/python3.10/dist-packages (from sacrebleu->tf-models-official==2.13.*) (4.9.3)\n",
            "Requirement already satisfied: scikit-learn>=0.21.3 in /usr/local/lib/python3.10/dist-packages (from seqeval->tf-models-official==2.13.*) (1.2.2)\n",
            "Requirement already satisfied: array-record in /usr/local/lib/python3.10/dist-packages (from tensorflow-datasets->tf-models-official==2.13.*) (0.4.1)\n",
            "Requirement already satisfied: click in /usr/local/lib/python3.10/dist-packages (from tensorflow-datasets->tf-models-official==2.13.*) (7.1.2)\n",
            "Requirement already satisfied: etils[enp,epath,etree]>=0.9.0 in /usr/local/lib/python3.10/dist-packages (from tensorflow-datasets->tf-models-official==2.13.*) (1.5.0)\n",
            "Requirement already satisfied: promise in /usr/local/lib/python3.10/dist-packages (from tensorflow-datasets->tf-models-official==2.13.*) (2.3)\n",
            "Requirement already satisfied: tensorflow-metadata in /usr/local/lib/python3.10/dist-packages (from tensorflow-datasets->tf-models-official==2.13.*) (1.14.0)\n",
            "Requirement already satisfied: toml in /usr/local/lib/python3.10/dist-packages (from tensorflow-datasets->tf-models-official==2.13.*) (0.10.2)\n",
            "Requirement already satisfied: wheel<1.0,>=0.23.0 in /usr/local/lib/python3.10/dist-packages (from astunparse>=1.6.0->tensorflow~=2.13.0->tf-models-official==2.13.*) (0.41.2)\n",
            "Requirement already satisfied: fsspec in /usr/local/lib/python3.10/dist-packages (from etils[enp,epath,etree]>=0.9.0->tensorflow-datasets->tf-models-official==2.13.*) (2023.6.0)\n",
            "Requirement already satisfied: importlib_resources in /usr/local/lib/python3.10/dist-packages (from etils[enp,epath,etree]>=0.9.0->tensorflow-datasets->tf-models-official==2.13.*) (6.1.0)\n",
            "Requirement already satisfied: zipp in /usr/local/lib/python3.10/dist-packages (from etils[enp,epath,etree]>=0.9.0->tensorflow-datasets->tf-models-official==2.13.*) (3.17.0)\n",
            "Requirement already satisfied: googleapis-common-protos<2.0.dev0,>=1.56.2 in /usr/local/lib/python3.10/dist-packages (from google-api-core!=2.0.*,!=2.1.*,!=2.2.*,!=2.3.0,<3.0.0dev,>=1.31.5->google-api-python-client>=1.6.7->tf-models-official==2.13.*) (1.60.0)\n",
            "Requirement already satisfied: cachetools<6.0,>=2.0.0 in /usr/local/lib/python3.10/dist-packages (from google-auth<3.0.0dev,>=1.19.0->google-api-python-client>=1.6.7->tf-models-official==2.13.*) (5.3.1)\n",
            "Requirement already satisfied: charset-normalizer<4,>=2 in /usr/local/lib/python3.10/dist-packages (from requests->kaggle>=1.3.9->tf-models-official==2.13.*) (3.2.0)\n",
            "Requirement already satisfied: idna<4,>=2.5 in /usr/local/lib/python3.10/dist-packages (from requests->kaggle>=1.3.9->tf-models-official==2.13.*) (3.4)\n",
            "Requirement already satisfied: joblib>=1.1.1 in /usr/local/lib/python3.10/dist-packages (from scikit-learn>=0.21.3->seqeval->tf-models-official==2.13.*) (1.3.2)\n",
            "Requirement already satisfied: threadpoolctl>=2.0.0 in /usr/local/lib/python3.10/dist-packages (from scikit-learn>=0.21.3->seqeval->tf-models-official==2.13.*) (3.2.0)\n",
            "Requirement already satisfied: google-auth-oauthlib<1.1,>=0.5 in /usr/local/lib/python3.10/dist-packages (from tensorboard<2.14,>=2.13->tensorflow~=2.13.0->tf-models-official==2.13.*) (1.0.0)\n",
            "Requirement already satisfied: markdown>=2.6.8 in /usr/local/lib/python3.10/dist-packages (from tensorboard<2.14,>=2.13->tensorflow~=2.13.0->tf-models-official==2.13.*) (3.4.4)\n",
            "Requirement already satisfied: tensorboard-data-server<0.8.0,>=0.7.0 in /usr/local/lib/python3.10/dist-packages (from tensorboard<2.14,>=2.13->tensorflow~=2.13.0->tf-models-official==2.13.*) (0.7.1)\n",
            "Requirement already satisfied: werkzeug>=1.0.1 in /usr/local/lib/python3.10/dist-packages (from tensorboard<2.14,>=2.13->tensorflow~=2.13.0->tf-models-official==2.13.*) (2.3.7)\n",
            "Requirement already satisfied: webencodings in /usr/local/lib/python3.10/dist-packages (from bleach->kaggle>=1.3.9->tf-models-official==2.13.*) (0.5.1)\n",
            "Requirement already satisfied: text-unidecode>=1.3 in /usr/local/lib/python3.10/dist-packages (from python-slugify->kaggle>=1.3.9->tf-models-official==2.13.*) (1.3)\n",
            "Requirement already satisfied: requests-oauthlib>=0.7.0 in /usr/local/lib/python3.10/dist-packages (from google-auth-oauthlib<1.1,>=0.5->tensorboard<2.14,>=2.13->tensorflow~=2.13.0->tf-models-official==2.13.*) (1.3.1)\n",
            "Requirement already satisfied: MarkupSafe>=2.1.1 in /usr/local/lib/python3.10/dist-packages (from werkzeug>=1.0.1->tensorboard<2.14,>=2.13->tensorflow~=2.13.0->tf-models-official==2.13.*) (2.1.3)\n",
            "Requirement already satisfied: oauthlib>=3.0.0 in /usr/local/lib/python3.10/dist-packages (from requests-oauthlib>=0.7.0->google-auth-oauthlib<1.1,>=0.5->tensorboard<2.14,>=2.13->tensorflow~=2.13.0->tf-models-official==2.13.*) (3.2.2)\n",
            "Building wheels for collected packages: seqeval\n",
            "  Building wheel for seqeval (setup.py) ... \u001b[?25l\u001b[?25hdone\n",
            "  Created wheel for seqeval: filename=seqeval-1.2.2-py3-none-any.whl size=16162 sha256=a29e0dc1fb5e5228ccdb6e1769b27c1ef3f29a3962b0e04d43c0c450ceb21de0\n",
            "  Stored in directory: /root/.cache/pip/wheels/1a/67/4a/ad4082dd7dfc30f2abfe4d80a2ed5926a506eb8a972b4767fa\n",
            "Successfully built seqeval\n",
            "Installing collected packages: sentencepiece, tensorflow-model-optimization, portalocker, immutabledict, colorama, sacrebleu, seqeval, tf-models-official\n",
            "Successfully installed colorama-0.4.6 immutabledict-3.0.0 portalocker-2.8.2 sacrebleu-2.3.1 sentencepiece-0.1.99 seqeval-1.2.2 tensorflow-model-optimization-0.7.5 tf-models-official-2.13.2\n",
            "Reading package lists... Done\n",
            "Building dependency tree... Done\n",
            "Reading state information... Done\n",
            "git-lfs is already the newest version (3.0.2-1ubuntu0.2).\n",
            "0 upgraded, 0 newly installed, 0 to remove and 18 not upgraded.\n",
            "Looking in indexes: https://download.pytorch.org/whl/cu117\n",
            "Requirement already satisfied: torch in /usr/local/lib/python3.10/dist-packages (2.0.1+cu118)\n",
            "Requirement already satisfied: torchvision in /usr/local/lib/python3.10/dist-packages (0.15.2+cu118)\n",
            "Requirement already satisfied: torchaudio in /usr/local/lib/python3.10/dist-packages (2.0.2+cu118)\n",
            "Requirement already satisfied: filelock in /usr/local/lib/python3.10/dist-packages (from torch) (3.12.4)\n",
            "Requirement already satisfied: typing-extensions in /usr/local/lib/python3.10/dist-packages (from torch) (4.5.0)\n",
            "Requirement already satisfied: sympy in /usr/local/lib/python3.10/dist-packages (from torch) (1.12)\n",
            "Requirement already satisfied: networkx in /usr/local/lib/python3.10/dist-packages (from torch) (3.1)\n",
            "Requirement already satisfied: jinja2 in /usr/local/lib/python3.10/dist-packages (from torch) (3.1.2)\n",
            "Requirement already satisfied: triton==2.0.0 in /usr/local/lib/python3.10/dist-packages (from torch) (2.0.0)\n",
            "Requirement already satisfied: cmake in /usr/local/lib/python3.10/dist-packages (from triton==2.0.0->torch) (3.27.5)\n",
            "Requirement already satisfied: lit in /usr/local/lib/python3.10/dist-packages (from triton==2.0.0->torch) (17.0.1)\n",
            "Requirement already satisfied: numpy in /usr/local/lib/python3.10/dist-packages (from torchvision) (1.23.5)\n",
            "Requirement already satisfied: requests in /usr/local/lib/python3.10/dist-packages (from torchvision) (2.31.0)\n",
            "Requirement already satisfied: pillow!=8.3.*,>=5.3.0 in /usr/local/lib/python3.10/dist-packages (from torchvision) (9.4.0)\n",
            "Requirement already satisfied: MarkupSafe>=2.0 in /usr/local/lib/python3.10/dist-packages (from jinja2->torch) (2.1.3)\n",
            "Requirement already satisfied: charset-normalizer<4,>=2 in /usr/local/lib/python3.10/dist-packages (from requests->torchvision) (3.2.0)\n",
            "Requirement already satisfied: idna<4,>=2.5 in /usr/local/lib/python3.10/dist-packages (from requests->torchvision) (3.4)\n",
            "Requirement already satisfied: urllib3<3,>=1.21.1 in /usr/local/lib/python3.10/dist-packages (from requests->torchvision) (1.26.17)\n",
            "Requirement already satisfied: certifi>=2017.4.17 in /usr/local/lib/python3.10/dist-packages (from requests->torchvision) (2023.7.22)\n",
            "Requirement already satisfied: mpmath>=0.19 in /usr/local/lib/python3.10/dist-packages (from sympy->torch) (1.3.0)\n"
          ]
        }
      ],
      "source": [
        "!pip install -U \"tensorflow-text==2.13.*\"\n",
        "!pip install \"tf-models-official==2.13.*\"\n",
        "!apt-get install git-lfs\n",
        "!pip3 install torch torchvision torchaudio --index-url https://download.pytorch.org/whl/cu117"
      ]
    },
    {
      "cell_type": "code",
      "execution_count": null,
      "metadata": {
        "id": "mskEe4uUVjll"
      },
      "outputs": [],
      "source": []
    },
    {
      "cell_type": "code",
      "execution_count": null,
      "metadata": {
        "colab": {
          "base_uri": "https://localhost:8080/"
        },
        "id": "8sPdU2EDVjo9",
        "outputId": "464b040a-bd14-4740-8011-2a1ad97c2941"
      },
      "outputs": [
        {
          "output_type": "stream",
          "name": "stdout",
          "text": [
            "Collecting transformers\n",
            "  Downloading transformers-4.34.0-py3-none-any.whl (7.7 MB)\n",
            "\u001b[?25l     \u001b[90m━━━━━━━━━━━━━━━━━━━━━━━━━━━━━━━━━━━━━━━━\u001b[0m \u001b[32m0.0/7.7 MB\u001b[0m \u001b[31m?\u001b[0m eta \u001b[36m-:--:--\u001b[0m\r\u001b[2K     \u001b[91m╸\u001b[0m\u001b[90m━━━━━━━━━━━━━━━━━━━━━━━━━━━━━━━━━━━━━━━\u001b[0m \u001b[32m0.1/7.7 MB\u001b[0m \u001b[31m4.2 MB/s\u001b[0m eta \u001b[36m0:00:02\u001b[0m\r\u001b[2K     \u001b[91m━━━━━━━━\u001b[0m\u001b[90m╺\u001b[0m\u001b[90m━━━━━━━━━━━━━━━━━━━━━━━━━━━━━━━\u001b[0m \u001b[32m1.6/7.7 MB\u001b[0m \u001b[31m22.9 MB/s\u001b[0m eta \u001b[36m0:00:01\u001b[0m\r\u001b[2K     \u001b[91m━━━━━━━━━━━━━━━━━━━━━━━━━━━━━━━━━━━━━━━\u001b[0m\u001b[91m╸\u001b[0m \u001b[32m7.7/7.7 MB\u001b[0m \u001b[31m75.9 MB/s\u001b[0m eta \u001b[36m0:00:01\u001b[0m\r\u001b[2K     \u001b[90m━━━━━━━━━━━━━━━━━━━━━━━━━━━━━━━━━━━━━━━━\u001b[0m \u001b[32m7.7/7.7 MB\u001b[0m \u001b[31m55.5 MB/s\u001b[0m eta \u001b[36m0:00:00\u001b[0m\n",
            "\u001b[?25hRequirement already satisfied: filelock in /usr/local/lib/python3.10/dist-packages (from transformers) (3.12.4)\n",
            "Collecting huggingface-hub<1.0,>=0.16.4 (from transformers)\n",
            "  Downloading huggingface_hub-0.17.3-py3-none-any.whl (295 kB)\n",
            "\u001b[2K     \u001b[90m━━━━━━━━━━━━━━━━━━━━━━━━━━━━━━━━━━━━━━\u001b[0m \u001b[32m295.0/295.0 kB\u001b[0m \u001b[31m33.3 MB/s\u001b[0m eta \u001b[36m0:00:00\u001b[0m\n",
            "\u001b[?25hRequirement already satisfied: numpy>=1.17 in /usr/local/lib/python3.10/dist-packages (from transformers) (1.23.5)\n",
            "Requirement already satisfied: packaging>=20.0 in /usr/local/lib/python3.10/dist-packages (from transformers) (23.1)\n",
            "Requirement already satisfied: pyyaml>=5.1 in /usr/local/lib/python3.10/dist-packages (from transformers) (6.0.1)\n",
            "Requirement already satisfied: regex!=2019.12.17 in /usr/local/lib/python3.10/dist-packages (from transformers) (2023.6.3)\n",
            "Requirement already satisfied: requests in /usr/local/lib/python3.10/dist-packages (from transformers) (2.31.0)\n",
            "Collecting tokenizers<0.15,>=0.14 (from transformers)\n",
            "  Downloading tokenizers-0.14.0-cp310-cp310-manylinux_2_17_x86_64.manylinux2014_x86_64.whl (3.8 MB)\n",
            "\u001b[2K     \u001b[90m━━━━━━━━━━━━━━━━━━━━━━━━━━━━━━━━━━━━━━━━\u001b[0m \u001b[32m3.8/3.8 MB\u001b[0m \u001b[31m96.0 MB/s\u001b[0m eta \u001b[36m0:00:00\u001b[0m\n",
            "\u001b[?25hCollecting safetensors>=0.3.1 (from transformers)\n",
            "  Downloading safetensors-0.3.3-cp310-cp310-manylinux_2_17_x86_64.manylinux2014_x86_64.whl (1.3 MB)\n",
            "\u001b[2K     \u001b[90m━━━━━━━━━━━━━━━━━━━━━━━━━━━━━━━━━━━━━━━━\u001b[0m \u001b[32m1.3/1.3 MB\u001b[0m \u001b[31m53.7 MB/s\u001b[0m eta \u001b[36m0:00:00\u001b[0m\n",
            "\u001b[?25hRequirement already satisfied: tqdm>=4.27 in /usr/local/lib/python3.10/dist-packages (from transformers) (4.66.1)\n",
            "Requirement already satisfied: fsspec in /usr/local/lib/python3.10/dist-packages (from huggingface-hub<1.0,>=0.16.4->transformers) (2023.6.0)\n",
            "Requirement already satisfied: typing-extensions>=3.7.4.3 in /usr/local/lib/python3.10/dist-packages (from huggingface-hub<1.0,>=0.16.4->transformers) (4.5.0)\n",
            "Collecting huggingface-hub<1.0,>=0.16.4 (from transformers)\n",
            "  Downloading huggingface_hub-0.16.4-py3-none-any.whl (268 kB)\n",
            "\u001b[2K     \u001b[90m━━━━━━━━━━━━━━━━━━━━━━━━━━━━━━━━━━━━━━\u001b[0m \u001b[32m268.8/268.8 kB\u001b[0m \u001b[31m30.5 MB/s\u001b[0m eta \u001b[36m0:00:00\u001b[0m\n",
            "\u001b[?25hRequirement already satisfied: charset-normalizer<4,>=2 in /usr/local/lib/python3.10/dist-packages (from requests->transformers) (3.2.0)\n",
            "Requirement already satisfied: idna<4,>=2.5 in /usr/local/lib/python3.10/dist-packages (from requests->transformers) (3.4)\n",
            "Requirement already satisfied: urllib3<3,>=1.21.1 in /usr/local/lib/python3.10/dist-packages (from requests->transformers) (1.26.17)\n",
            "Requirement already satisfied: certifi>=2017.4.17 in /usr/local/lib/python3.10/dist-packages (from requests->transformers) (2023.7.22)\n",
            "Installing collected packages: safetensors, huggingface-hub, tokenizers, transformers\n",
            "Successfully installed huggingface-hub-0.16.4 safetensors-0.3.3 tokenizers-0.14.0 transformers-4.34.0\n",
            "Collecting datasets\n",
            "  Downloading datasets-2.14.5-py3-none-any.whl (519 kB)\n",
            "\u001b[2K     \u001b[90m━━━━━━━━━━━━━━━━━━━━━━━━━━━━━━━━━━━━━━━\u001b[0m \u001b[32m519.6/519.6 kB\u001b[0m \u001b[31m8.8 MB/s\u001b[0m eta \u001b[36m0:00:00\u001b[0m\n",
            "\u001b[?25hRequirement already satisfied: numpy>=1.17 in /usr/local/lib/python3.10/dist-packages (from datasets) (1.23.5)\n",
            "Requirement already satisfied: pyarrow>=8.0.0 in /usr/local/lib/python3.10/dist-packages (from datasets) (9.0.0)\n",
            "Collecting dill<0.3.8,>=0.3.0 (from datasets)\n",
            "  Downloading dill-0.3.7-py3-none-any.whl (115 kB)\n",
            "\u001b[2K     \u001b[90m━━━━━━━━━━━━━━━━━━━━━━━━━━━━━━━━━━━━━━\u001b[0m \u001b[32m115.3/115.3 kB\u001b[0m \u001b[31m14.4 MB/s\u001b[0m eta \u001b[36m0:00:00\u001b[0m\n",
            "\u001b[?25hRequirement already satisfied: pandas in /usr/local/lib/python3.10/dist-packages (from datasets) (1.5.3)\n",
            "Requirement already satisfied: requests>=2.19.0 in /usr/local/lib/python3.10/dist-packages (from datasets) (2.31.0)\n",
            "Requirement already satisfied: tqdm>=4.62.1 in /usr/local/lib/python3.10/dist-packages (from datasets) (4.66.1)\n",
            "Collecting xxhash (from datasets)\n",
            "  Downloading xxhash-3.3.0-cp310-cp310-manylinux_2_17_x86_64.manylinux2014_x86_64.whl (194 kB)\n",
            "\u001b[2K     \u001b[90m━━━━━━━━━━━━━━━━━━━━━━━━━━━━━━━━━━━━━━\u001b[0m \u001b[32m194.1/194.1 kB\u001b[0m \u001b[31m22.2 MB/s\u001b[0m eta \u001b[36m0:00:00\u001b[0m\n",
            "\u001b[?25hCollecting multiprocess (from datasets)\n",
            "  Downloading multiprocess-0.70.15-py310-none-any.whl (134 kB)\n",
            "\u001b[2K     \u001b[90m━━━━━━━━━━━━━━━━━━━━━━━━━━━━━━━━━━━━━━\u001b[0m \u001b[32m134.8/134.8 kB\u001b[0m \u001b[31m16.5 MB/s\u001b[0m eta \u001b[36m0:00:00\u001b[0m\n",
            "\u001b[?25hRequirement already satisfied: fsspec[http]<2023.9.0,>=2023.1.0 in /usr/local/lib/python3.10/dist-packages (from datasets) (2023.6.0)\n",
            "Requirement already satisfied: aiohttp in /usr/local/lib/python3.10/dist-packages (from datasets) (3.8.5)\n",
            "Requirement already satisfied: huggingface-hub<1.0.0,>=0.14.0 in /usr/local/lib/python3.10/dist-packages (from datasets) (0.16.4)\n",
            "Requirement already satisfied: packaging in /usr/local/lib/python3.10/dist-packages (from datasets) (23.1)\n",
            "Requirement already satisfied: pyyaml>=5.1 in /usr/local/lib/python3.10/dist-packages (from datasets) (6.0.1)\n",
            "Requirement already satisfied: attrs>=17.3.0 in /usr/local/lib/python3.10/dist-packages (from aiohttp->datasets) (23.1.0)\n",
            "Requirement already satisfied: charset-normalizer<4.0,>=2.0 in /usr/local/lib/python3.10/dist-packages (from aiohttp->datasets) (3.2.0)\n",
            "Requirement already satisfied: multidict<7.0,>=4.5 in /usr/local/lib/python3.10/dist-packages (from aiohttp->datasets) (6.0.4)\n",
            "Requirement already satisfied: async-timeout<5.0,>=4.0.0a3 in /usr/local/lib/python3.10/dist-packages (from aiohttp->datasets) (4.0.3)\n",
            "Requirement already satisfied: yarl<2.0,>=1.0 in /usr/local/lib/python3.10/dist-packages (from aiohttp->datasets) (1.9.2)\n",
            "Requirement already satisfied: frozenlist>=1.1.1 in /usr/local/lib/python3.10/dist-packages (from aiohttp->datasets) (1.4.0)\n",
            "Requirement already satisfied: aiosignal>=1.1.2 in /usr/local/lib/python3.10/dist-packages (from aiohttp->datasets) (1.3.1)\n",
            "Requirement already satisfied: filelock in /usr/local/lib/python3.10/dist-packages (from huggingface-hub<1.0.0,>=0.14.0->datasets) (3.12.4)\n",
            "Requirement already satisfied: typing-extensions>=3.7.4.3 in /usr/local/lib/python3.10/dist-packages (from huggingface-hub<1.0.0,>=0.14.0->datasets) (4.5.0)\n",
            "Requirement already satisfied: idna<4,>=2.5 in /usr/local/lib/python3.10/dist-packages (from requests>=2.19.0->datasets) (3.4)\n",
            "Requirement already satisfied: urllib3<3,>=1.21.1 in /usr/local/lib/python3.10/dist-packages (from requests>=2.19.0->datasets) (1.26.17)\n",
            "Requirement already satisfied: certifi>=2017.4.17 in /usr/local/lib/python3.10/dist-packages (from requests>=2.19.0->datasets) (2023.7.22)\n",
            "Requirement already satisfied: python-dateutil>=2.8.1 in /usr/local/lib/python3.10/dist-packages (from pandas->datasets) (2.8.2)\n",
            "Requirement already satisfied: pytz>=2020.1 in /usr/local/lib/python3.10/dist-packages (from pandas->datasets) (2023.3.post1)\n",
            "Requirement already satisfied: six>=1.5 in /usr/local/lib/python3.10/dist-packages (from python-dateutil>=2.8.1->pandas->datasets) (1.16.0)\n",
            "Installing collected packages: xxhash, dill, multiprocess, datasets\n",
            "Successfully installed datasets-2.14.5 dill-0.3.7 multiprocess-0.70.15 xxhash-3.3.0\n"
          ]
        }
      ],
      "source": [
        "!pip install transformers\n",
        "!pip install datasets"
      ]
    },
    {
      "cell_type": "code",
      "execution_count": null,
      "metadata": {
        "colab": {
          "base_uri": "https://localhost:8080/"
        },
        "id": "9EyqIJiSVrnY",
        "outputId": "48e4a9e1-297c-45c0-9a5e-3beec44ca814"
      },
      "outputs": [
        {
          "output_type": "stream",
          "name": "stderr",
          "text": [
            "[nltk_data] Downloading package stopwords to /root/nltk_data...\n",
            "[nltk_data]   Unzipping corpora/stopwords.zip.\n",
            "[nltk_data] Downloading package wordnet to /root/nltk_data...\n"
          ]
        },
        {
          "output_type": "stream",
          "name": "stdout",
          "text": [
            "2.13.1\n"
          ]
        }
      ],
      "source": [
        "import numpy as np\n",
        "import pandas as pd\n",
        "import os\n",
        "from sklearn.preprocessing import LabelEncoder\n",
        "from sklearn.preprocessing import MinMaxScaler\n",
        "import opendatasets as od\n",
        "import re\n",
        "import nltk\n",
        "import yaml\n",
        "import matplotlib.pyplot as plt\n",
        "nltk.download('stopwords')\n",
        "nltk.download('wordnet')\n",
        "from nltk.corpus import stopwords\n",
        "from nltk.stem import WordNetLemmatizer\n",
        "import mlflow\n",
        "import pyngrok\n",
        "import tensorflow as tf\n",
        "## Visualization ##\n",
        "from wordcloud import WordCloud\n",
        "import matplotlib.pyplot as plt\n",
        "from plotly.subplots import make_subplots\n",
        "import plotly.express as px\n",
        "import plotly.graph_objects as go\n",
        "import plotly.figure_factory as ff\n",
        "\n",
        "## ML Modelling ##\n",
        "from sklearn.pipeline import Pipeline\n",
        "from sklearn.feature_extraction.text import TfidfVectorizer\n",
        "from sklearn.linear_model import LogisticRegression\n",
        "from sklearn.metrics import accuracy_score\n",
        "from sklearn.model_selection import GridSearchCV\n",
        "from sklearn.metrics import (accuracy_score,\n",
        "                             precision_score,\n",
        "                             recall_score,\n",
        "                             f1_score)\n",
        "from sklearn.model_selection import cross_val_score\n",
        "from sklearn.feature_extraction.text import CountVectorizer\n",
        "from sklearn.feature_extraction.text import TfidfVectorizer\n",
        "from sklearn.model_selection import train_test_split\n",
        "from sklearn.naive_bayes import MultinomialNB\n",
        "from sklearn.linear_model import LogisticRegressionCV\n",
        "from sklearn.metrics import accuracy_score, classification_report\n",
        "\n",
        "import matplotlib.pyplot as plt\n",
        "import seaborn as sns\n",
        "import re\n",
        "import string\n",
        "\n",
        "import tensorflow as tf\n",
        "from tensorflow import keras\n",
        "import tensorflow_datasets as tfds\n",
        "from tensorflow.keras import layers\n",
        "from tensorflow.keras import losses\n",
        "from keras.models import load_model\n",
        "from keras.callbacks import ModelCheckpoint, EarlyStopping\n",
        "print(tf.__version__)\n",
        "# helps in text preprocessing\n",
        "from tensorflow.keras.preprocessing.sequence import pad_sequences\n",
        "from tensorflow.keras.preprocessing.text import Tokenizer\n",
        "\n",
        "# helps in model building\n",
        "from tensorflow.keras.models import Sequential\n",
        "from tensorflow.keras.layers import Dense\n",
        "from tensorflow.keras.layers import SimpleRNN\n",
        "from tensorflow.keras.layers import Flatten\n",
        "from tensorflow.keras.layers import Dropout\n",
        "from tensorflow.keras.layers import Embedding\n",
        "from tensorflow.keras.callbacks import EarlyStopping\n",
        "import seaborn as sns\n",
        "# split data into train and test set\n",
        "from sklearn.model_selection import train_test_split\n",
        "\n",
        "from sklearn.model_selection import train_test_split\n",
        "from sklearn.metrics import accuracy_score,f1_score\n",
        "from sklearn.metrics import classification_report, confusion_matrix, accuracy_score\n",
        "from tensorflow.keras.layers.experimental.preprocessing import TextVectorization\n",
        "import numpy as np\n",
        "from transformers import AutoTokenizer\n",
        "from pyngrok import ngrok\n",
        "from transformers import BertTokenizer, TFBertForSequenceClassification\n",
        "from transformers import InputExample, InputFeatures\n",
        "from keras.models import Model, Sequential\n",
        "from keras.layers import Input, Dense, Dropout, Embedding\n",
        "from keras.optimizers import Adam\n",
        "tf.keras.optimizers.legacy.Adam\n",
        "from transformers import TFBertModel\n",
        "from transformers import AutoTokenizer\n",
        "from sklearn.model_selection import train_test_split\n",
        "from transformers import TrainingArguments, Trainer\n",
        "from datasets import load_metric\n",
        "from transformers import DataCollatorWithPadding\n",
        "\n",
        "import os\n",
        "import shutil\n",
        "\n",
        "\n",
        "import tensorflow_hub as hub\n",
        "import tensorflow_text as text\n",
        "from official.nlp import optimization  # to create AdamW optimizer\n",
        "\n",
        "\n",
        "tf.get_logger().setLevel('ERROR')\n",
        "# A dependency of the preprocessing for BERT inputs\n",
        "\n",
        "from sklearn.metrics import accuracy_score\n",
        "from sklearn.metrics import confusion_matrix\n",
        "from transformers import AutoModelForSequenceClassification\n",
        "\n",
        "\n"
      ]
    },
    {
      "cell_type": "code",
      "execution_count": null,
      "metadata": {
        "id": "QIWl8PSPVrqx"
      },
      "outputs": [],
      "source": []
    },
    {
      "cell_type": "code",
      "execution_count": null,
      "metadata": {
        "id": "rh2jEWSVVruJ"
      },
      "outputs": [],
      "source": []
    },
    {
      "cell_type": "code",
      "execution_count": null,
      "metadata": {
        "id": "lgcXvlEqVryj",
        "colab": {
          "base_uri": "https://localhost:8080/"
        },
        "outputId": "125d2eb2-d0a9-4102-cac5-1172a2bca5e9"
      },
      "outputs": [
        {
          "output_type": "stream",
          "name": "stdout",
          "text": [
            "Mounted at /content/gdrive\n",
            "Cloning into 'bad_buzz_detection'...\n",
            "remote: Enumerating objects: 34, done.\u001b[K\n",
            "remote: Counting objects: 100% (34/34), done.\u001b[K\n",
            "remote: Compressing objects: 100% (28/28), done.\u001b[K\n",
            "remote: Total 34 (delta 6), reused 21 (delta 3), pack-reused 0\u001b[K\n",
            "Receiving objects: 100% (34/34), 140.79 KiB | 1.83 MiB/s, done.\n",
            "Resolving deltas: 100% (6/6), done.\n",
            "/content/bad_buzz_detection\n",
            "Already on 'main'\n",
            "Your branch is up to date with 'origin/main'.\n",
            "Already up to date.\n"
          ]
        }
      ],
      "source": [
        "from google.colab import drive\n",
        "drive_path = \"/content/gdrive\"\n",
        "drive.mount(drive_path,force_remount=True)\n",
        "\n",
        "# Load the general config\n",
        "config_path = os.path.join(drive_path, \"MyDrive\", \"general_config.yml\")\n",
        "with open(config_path, 'r') as yml:\n",
        "  config = yaml.safe_load(yml)\n",
        "\n",
        "config_github = config[\"github\"]\n",
        "config_ngrok = config[\"ngrok\"]\n",
        "\n",
        "# Set git configs\n",
        "!git config --global user.email {config_github[\"email\"]}\n",
        "!git config --global user.name {config_github[\"username\"]}\n",
        "\n",
        "# Clone the repository\n",
        "repository_name = \"bad_buzz_detection\"\n",
        "git_repository = f\"https://github.com/dibalaba/\" + repository_name + \".git\"\n",
        "repository_path = \"/content/\" + repository_name\n",
        "!git clone {git_repository}\n",
        "\n",
        "# Change the current directory to the cloned directory\n",
        "%cd {repository_name}\n",
        "\n",
        "# Checkout branch\n",
        "branch_name = \"main\"\n",
        "!git checkout {branch_name}\n",
        "\n",
        "# Pull\n",
        "!git pull origin"
      ]
    },
    {
      "cell_type": "code",
      "source": [],
      "metadata": {
        "id": "fAY-lOG2aLyF"
      },
      "execution_count": null,
      "outputs": []
    },
    {
      "cell_type": "code",
      "source": [],
      "metadata": {
        "id": "WBioZ2bVaL1b"
      },
      "execution_count": null,
      "outputs": []
    },
    {
      "cell_type": "code",
      "execution_count": null,
      "metadata": {
        "colab": {
          "base_uri": "https://localhost:8080/"
        },
        "id": "MbRFodfaWKTJ",
        "outputId": "f1cd11eb-a0da-41ee-dfcf-6a8ad4f37d2b"
      },
      "outputs": [
        {
          "output_type": "stream",
          "name": "stdout",
          "text": [
            "Please provide your Kaggle credentials to download this dataset. Learn more: http://bit.ly/kaggle-creds\n",
            "Your Kaggle username: dowtadibalaba\n",
            "Your Kaggle Key: ··········\n",
            "Downloading sentiment-train.zip to ./sentiment-train\n"
          ]
        },
        {
          "output_type": "stream",
          "name": "stderr",
          "text": [
            "100%|██████████| 80.9M/80.9M [00:00<00:00, 129MB/s]\n"
          ]
        },
        {
          "output_type": "stream",
          "name": "stdout",
          "text": [
            "\n"
          ]
        }
      ],
      "source": [
        "dataset_url = 'https://www.kaggle.com/datasets/dowtadibalaba/sentiment-train'\n",
        "od.download(dataset_url)"
      ]
    },
    {
      "cell_type": "code",
      "execution_count": null,
      "metadata": {
        "id": "ihRL8Zu0WKVq"
      },
      "outputs": [],
      "source": []
    },
    {
      "cell_type": "code",
      "execution_count": null,
      "metadata": {
        "colab": {
          "base_uri": "https://localhost:8080/",
          "height": 206
        },
        "id": "siI_JtOgWKX9",
        "outputId": "33816ac4-5645-4585-8b57-4b471ed1744d"
      },
      "outputs": [
        {
          "output_type": "execute_result",
          "data": {
            "text/plain": [
              "   target          id                          date      flag  \\\n",
              "0       0  1467810369  Mon Apr 06 22:19:45 PDT 2009  NO_QUERY   \n",
              "1       0  1467810672  Mon Apr 06 22:19:49 PDT 2009  NO_QUERY   \n",
              "2       0  1467810917  Mon Apr 06 22:19:53 PDT 2009  NO_QUERY   \n",
              "3       0  1467811184  Mon Apr 06 22:19:57 PDT 2009  NO_QUERY   \n",
              "4       0  1467811193  Mon Apr 06 22:19:57 PDT 2009  NO_QUERY   \n",
              "\n",
              "              user                                               text  \n",
              "0  _TheSpecialOne_  @switchfoot http://twitpic.com/2y1zl - Awww, t...  \n",
              "1    scotthamilton  is upset that he can't update his Facebook by ...  \n",
              "2         mattycus  @Kenichan I dived many times for the ball. Man...  \n",
              "3          ElleCTF    my whole body feels itchy and like its on fire   \n",
              "4           Karoli  @nationwideclass no, it's not behaving at all....  "
            ],
            "text/html": [
              "\n",
              "  <div id=\"df-a11ccc1a-06f5-4baf-82d1-abf11476eca1\" class=\"colab-df-container\">\n",
              "    <div>\n",
              "<style scoped>\n",
              "    .dataframe tbody tr th:only-of-type {\n",
              "        vertical-align: middle;\n",
              "    }\n",
              "\n",
              "    .dataframe tbody tr th {\n",
              "        vertical-align: top;\n",
              "    }\n",
              "\n",
              "    .dataframe thead th {\n",
              "        text-align: right;\n",
              "    }\n",
              "</style>\n",
              "<table border=\"1\" class=\"dataframe\">\n",
              "  <thead>\n",
              "    <tr style=\"text-align: right;\">\n",
              "      <th></th>\n",
              "      <th>target</th>\n",
              "      <th>id</th>\n",
              "      <th>date</th>\n",
              "      <th>flag</th>\n",
              "      <th>user</th>\n",
              "      <th>text</th>\n",
              "    </tr>\n",
              "  </thead>\n",
              "  <tbody>\n",
              "    <tr>\n",
              "      <th>0</th>\n",
              "      <td>0</td>\n",
              "      <td>1467810369</td>\n",
              "      <td>Mon Apr 06 22:19:45 PDT 2009</td>\n",
              "      <td>NO_QUERY</td>\n",
              "      <td>_TheSpecialOne_</td>\n",
              "      <td>@switchfoot http://twitpic.com/2y1zl - Awww, t...</td>\n",
              "    </tr>\n",
              "    <tr>\n",
              "      <th>1</th>\n",
              "      <td>0</td>\n",
              "      <td>1467810672</td>\n",
              "      <td>Mon Apr 06 22:19:49 PDT 2009</td>\n",
              "      <td>NO_QUERY</td>\n",
              "      <td>scotthamilton</td>\n",
              "      <td>is upset that he can't update his Facebook by ...</td>\n",
              "    </tr>\n",
              "    <tr>\n",
              "      <th>2</th>\n",
              "      <td>0</td>\n",
              "      <td>1467810917</td>\n",
              "      <td>Mon Apr 06 22:19:53 PDT 2009</td>\n",
              "      <td>NO_QUERY</td>\n",
              "      <td>mattycus</td>\n",
              "      <td>@Kenichan I dived many times for the ball. Man...</td>\n",
              "    </tr>\n",
              "    <tr>\n",
              "      <th>3</th>\n",
              "      <td>0</td>\n",
              "      <td>1467811184</td>\n",
              "      <td>Mon Apr 06 22:19:57 PDT 2009</td>\n",
              "      <td>NO_QUERY</td>\n",
              "      <td>ElleCTF</td>\n",
              "      <td>my whole body feels itchy and like its on fire</td>\n",
              "    </tr>\n",
              "    <tr>\n",
              "      <th>4</th>\n",
              "      <td>0</td>\n",
              "      <td>1467811193</td>\n",
              "      <td>Mon Apr 06 22:19:57 PDT 2009</td>\n",
              "      <td>NO_QUERY</td>\n",
              "      <td>Karoli</td>\n",
              "      <td>@nationwideclass no, it's not behaving at all....</td>\n",
              "    </tr>\n",
              "  </tbody>\n",
              "</table>\n",
              "</div>\n",
              "    <div class=\"colab-df-buttons\">\n",
              "\n",
              "  <div class=\"colab-df-container\">\n",
              "    <button class=\"colab-df-convert\" onclick=\"convertToInteractive('df-a11ccc1a-06f5-4baf-82d1-abf11476eca1')\"\n",
              "            title=\"Convert this dataframe to an interactive table.\"\n",
              "            style=\"display:none;\">\n",
              "\n",
              "  <svg xmlns=\"http://www.w3.org/2000/svg\" height=\"24px\" viewBox=\"0 -960 960 960\">\n",
              "    <path d=\"M120-120v-720h720v720H120Zm60-500h600v-160H180v160Zm220 220h160v-160H400v160Zm0 220h160v-160H400v160ZM180-400h160v-160H180v160Zm440 0h160v-160H620v160ZM180-180h160v-160H180v160Zm440 0h160v-160H620v160Z\"/>\n",
              "  </svg>\n",
              "    </button>\n",
              "\n",
              "  <style>\n",
              "    .colab-df-container {\n",
              "      display:flex;\n",
              "      gap: 12px;\n",
              "    }\n",
              "\n",
              "    .colab-df-convert {\n",
              "      background-color: #E8F0FE;\n",
              "      border: none;\n",
              "      border-radius: 50%;\n",
              "      cursor: pointer;\n",
              "      display: none;\n",
              "      fill: #1967D2;\n",
              "      height: 32px;\n",
              "      padding: 0 0 0 0;\n",
              "      width: 32px;\n",
              "    }\n",
              "\n",
              "    .colab-df-convert:hover {\n",
              "      background-color: #E2EBFA;\n",
              "      box-shadow: 0px 1px 2px rgba(60, 64, 67, 0.3), 0px 1px 3px 1px rgba(60, 64, 67, 0.15);\n",
              "      fill: #174EA6;\n",
              "    }\n",
              "\n",
              "    .colab-df-buttons div {\n",
              "      margin-bottom: 4px;\n",
              "    }\n",
              "\n",
              "    [theme=dark] .colab-df-convert {\n",
              "      background-color: #3B4455;\n",
              "      fill: #D2E3FC;\n",
              "    }\n",
              "\n",
              "    [theme=dark] .colab-df-convert:hover {\n",
              "      background-color: #434B5C;\n",
              "      box-shadow: 0px 1px 3px 1px rgba(0, 0, 0, 0.15);\n",
              "      filter: drop-shadow(0px 1px 2px rgba(0, 0, 0, 0.3));\n",
              "      fill: #FFFFFF;\n",
              "    }\n",
              "  </style>\n",
              "\n",
              "    <script>\n",
              "      const buttonEl =\n",
              "        document.querySelector('#df-a11ccc1a-06f5-4baf-82d1-abf11476eca1 button.colab-df-convert');\n",
              "      buttonEl.style.display =\n",
              "        google.colab.kernel.accessAllowed ? 'block' : 'none';\n",
              "\n",
              "      async function convertToInteractive(key) {\n",
              "        const element = document.querySelector('#df-a11ccc1a-06f5-4baf-82d1-abf11476eca1');\n",
              "        const dataTable =\n",
              "          await google.colab.kernel.invokeFunction('convertToInteractive',\n",
              "                                                    [key], {});\n",
              "        if (!dataTable) return;\n",
              "\n",
              "        const docLinkHtml = 'Like what you see? Visit the ' +\n",
              "          '<a target=\"_blank\" href=https://colab.research.google.com/notebooks/data_table.ipynb>data table notebook</a>'\n",
              "          + ' to learn more about interactive tables.';\n",
              "        element.innerHTML = '';\n",
              "        dataTable['output_type'] = 'display_data';\n",
              "        await google.colab.output.renderOutput(dataTable, element);\n",
              "        const docLink = document.createElement('div');\n",
              "        docLink.innerHTML = docLinkHtml;\n",
              "        element.appendChild(docLink);\n",
              "      }\n",
              "    </script>\n",
              "  </div>\n",
              "\n",
              "\n",
              "<div id=\"df-59b4ccfb-4405-42f7-8841-21e8016178fa\">\n",
              "  <button class=\"colab-df-quickchart\" onclick=\"quickchart('df-59b4ccfb-4405-42f7-8841-21e8016178fa')\"\n",
              "            title=\"Suggest charts.\"\n",
              "            style=\"display:none;\">\n",
              "\n",
              "<svg xmlns=\"http://www.w3.org/2000/svg\" height=\"24px\"viewBox=\"0 0 24 24\"\n",
              "     width=\"24px\">\n",
              "    <g>\n",
              "        <path d=\"M19 3H5c-1.1 0-2 .9-2 2v14c0 1.1.9 2 2 2h14c1.1 0 2-.9 2-2V5c0-1.1-.9-2-2-2zM9 17H7v-7h2v7zm4 0h-2V7h2v10zm4 0h-2v-4h2v4z\"/>\n",
              "    </g>\n",
              "</svg>\n",
              "  </button>\n",
              "\n",
              "<style>\n",
              "  .colab-df-quickchart {\n",
              "      --bg-color: #E8F0FE;\n",
              "      --fill-color: #1967D2;\n",
              "      --hover-bg-color: #E2EBFA;\n",
              "      --hover-fill-color: #174EA6;\n",
              "      --disabled-fill-color: #AAA;\n",
              "      --disabled-bg-color: #DDD;\n",
              "  }\n",
              "\n",
              "  [theme=dark] .colab-df-quickchart {\n",
              "      --bg-color: #3B4455;\n",
              "      --fill-color: #D2E3FC;\n",
              "      --hover-bg-color: #434B5C;\n",
              "      --hover-fill-color: #FFFFFF;\n",
              "      --disabled-bg-color: #3B4455;\n",
              "      --disabled-fill-color: #666;\n",
              "  }\n",
              "\n",
              "  .colab-df-quickchart {\n",
              "    background-color: var(--bg-color);\n",
              "    border: none;\n",
              "    border-radius: 50%;\n",
              "    cursor: pointer;\n",
              "    display: none;\n",
              "    fill: var(--fill-color);\n",
              "    height: 32px;\n",
              "    padding: 0;\n",
              "    width: 32px;\n",
              "  }\n",
              "\n",
              "  .colab-df-quickchart:hover {\n",
              "    background-color: var(--hover-bg-color);\n",
              "    box-shadow: 0 1px 2px rgba(60, 64, 67, 0.3), 0 1px 3px 1px rgba(60, 64, 67, 0.15);\n",
              "    fill: var(--button-hover-fill-color);\n",
              "  }\n",
              "\n",
              "  .colab-df-quickchart-complete:disabled,\n",
              "  .colab-df-quickchart-complete:disabled:hover {\n",
              "    background-color: var(--disabled-bg-color);\n",
              "    fill: var(--disabled-fill-color);\n",
              "    box-shadow: none;\n",
              "  }\n",
              "\n",
              "  .colab-df-spinner {\n",
              "    border: 2px solid var(--fill-color);\n",
              "    border-color: transparent;\n",
              "    border-bottom-color: var(--fill-color);\n",
              "    animation:\n",
              "      spin 1s steps(1) infinite;\n",
              "  }\n",
              "\n",
              "  @keyframes spin {\n",
              "    0% {\n",
              "      border-color: transparent;\n",
              "      border-bottom-color: var(--fill-color);\n",
              "      border-left-color: var(--fill-color);\n",
              "    }\n",
              "    20% {\n",
              "      border-color: transparent;\n",
              "      border-left-color: var(--fill-color);\n",
              "      border-top-color: var(--fill-color);\n",
              "    }\n",
              "    30% {\n",
              "      border-color: transparent;\n",
              "      border-left-color: var(--fill-color);\n",
              "      border-top-color: var(--fill-color);\n",
              "      border-right-color: var(--fill-color);\n",
              "    }\n",
              "    40% {\n",
              "      border-color: transparent;\n",
              "      border-right-color: var(--fill-color);\n",
              "      border-top-color: var(--fill-color);\n",
              "    }\n",
              "    60% {\n",
              "      border-color: transparent;\n",
              "      border-right-color: var(--fill-color);\n",
              "    }\n",
              "    80% {\n",
              "      border-color: transparent;\n",
              "      border-right-color: var(--fill-color);\n",
              "      border-bottom-color: var(--fill-color);\n",
              "    }\n",
              "    90% {\n",
              "      border-color: transparent;\n",
              "      border-bottom-color: var(--fill-color);\n",
              "    }\n",
              "  }\n",
              "</style>\n",
              "\n",
              "  <script>\n",
              "    async function quickchart(key) {\n",
              "      const quickchartButtonEl =\n",
              "        document.querySelector('#' + key + ' button');\n",
              "      quickchartButtonEl.disabled = true;  // To prevent multiple clicks.\n",
              "      quickchartButtonEl.classList.add('colab-df-spinner');\n",
              "      try {\n",
              "        const charts = await google.colab.kernel.invokeFunction(\n",
              "            'suggestCharts', [key], {});\n",
              "      } catch (error) {\n",
              "        console.error('Error during call to suggestCharts:', error);\n",
              "      }\n",
              "      quickchartButtonEl.classList.remove('colab-df-spinner');\n",
              "      quickchartButtonEl.classList.add('colab-df-quickchart-complete');\n",
              "    }\n",
              "    (() => {\n",
              "      let quickchartButtonEl =\n",
              "        document.querySelector('#df-59b4ccfb-4405-42f7-8841-21e8016178fa button');\n",
              "      quickchartButtonEl.style.display =\n",
              "        google.colab.kernel.accessAllowed ? 'block' : 'none';\n",
              "    })();\n",
              "  </script>\n",
              "</div>\n",
              "    </div>\n",
              "  </div>\n"
            ]
          },
          "metadata": {},
          "execution_count": 8
        }
      ],
      "source": [
        "df=pd.read_csv('./sentiment-train/training_sentiment.csv',encoding=\"ISO-8859-1\",header=None,names=['target','id','date','flag','user','text'])\n",
        "df.head(5)"
      ]
    },
    {
      "cell_type": "code",
      "execution_count": null,
      "metadata": {
        "id": "mJ0CGATjWKal"
      },
      "outputs": [],
      "source": []
    },
    {
      "cell_type": "code",
      "execution_count": null,
      "metadata": {
        "id": "uidt8imOWYz7"
      },
      "outputs": [],
      "source": [
        "df_pos=df.loc[df['target']== 4]\n",
        "df_neg=df.loc[df['target']== 0]\n",
        "df_pos['target'].replace(4, 1, inplace=True)\n",
        "df=pd.concat([df_neg.sample(8000),df_pos.sample(8000)])\n"
      ]
    },
    {
      "cell_type": "code",
      "source": [],
      "metadata": {
        "id": "kln8U9xIz38e"
      },
      "execution_count": null,
      "outputs": []
    },
    {
      "cell_type": "code",
      "source": [
        "from google.colab import drive\n",
        "drive_path = \"/content/gdrive\"\n",
        "drive.mount(drive_path,force_remount=True)\n",
        "\n",
        "# Load the general config\n",
        "contractions_path = os.path.join(drive_path, \"MyDrive\", \"contractions.json\")\n",
        "with open(contractions_path, 'r') as yml:\n",
        "  contractions = yaml.safe_load(yml)\n",
        "\n"
      ],
      "metadata": {
        "colab": {
          "base_uri": "https://localhost:8080/"
        },
        "id": "4POAzVtlz4IU",
        "outputId": "b0dcad6b-67f3-4d62-e564-a37d65051f33"
      },
      "execution_count": null,
      "outputs": [
        {
          "output_type": "stream",
          "name": "stdout",
          "text": [
            "Mounted at /content/gdrive\n"
          ]
        }
      ]
    },
    {
      "cell_type": "code",
      "source": [],
      "metadata": {
        "id": "gduvhkMIz4Vr"
      },
      "execution_count": null,
      "outputs": []
    },
    {
      "cell_type": "code",
      "execution_count": null,
      "metadata": {
        "id": "t-SWcCYhWY2P"
      },
      "outputs": [],
      "source": [
        "def text_preprocessing(text):\n",
        "    import json\n",
        "    #contractions_path = os.path.join(drive_path, \"MyDrive\", \"contractions.json\")\n",
        "    #with open(contractions_path, 'r') as yml:\n",
        "     #contractions = yaml.safe_load(yml)\n",
        "\n",
        "    #with open('/content/contractions.json', 'r') as f:\n",
        "    # contractions = json.loads(f.read())\n",
        "    # Convert words to lower case\n",
        "    text = text.lower()\n",
        "\n",
        "    # Expand contractions\n",
        "    if True:\n",
        "        text = text.split()\n",
        "        new_text = []\n",
        "        for word in text:\n",
        "            if word in contractions:\n",
        "                new_text.append(contractions[word])\n",
        "            else:\n",
        "                new_text.append(word)\n",
        "        text = \" \".join(new_text)\n",
        "\n",
        "    # Format words and remove unwanted characters\n",
        "    text = re.sub(r'https?:\\/\\/.*[\\r\\n]*', '', text, flags=re.MULTILINE)\n",
        "    text = re.sub(r'\\<a href', ' ', text)\n",
        "    text = re.sub(r'&amp;', '', text)\n",
        "    text = re.sub(r'[_\"\\-;%()|+&=*%.,!?:#$@\\[\\]/]', ' ', text)\n",
        "    text = re.sub(r'<br />', ' ', text)\n",
        "    text = re.sub(r'\\'', ' ', text)\n",
        "\n",
        "    # Tokenize each word\n",
        "    #text = nltk.WordPunctTokenizer().tokenize(text)\n",
        "\n",
        "    # Lemmatize each word\n",
        "    #text = [nltk.stem.WordNetLemmatizer().lemmatize(token, pos='v') for token in text if len(token)>1]\n",
        "    #text= (x.lower() for x in text)\n",
        "\n",
        "    return str(text)"
      ]
    },
    {
      "cell_type": "code",
      "source": [],
      "metadata": {
        "id": "YaQpx1ZXw6TB"
      },
      "execution_count": null,
      "outputs": []
    },
    {
      "cell_type": "code",
      "source": [
        "\n",
        "\n",
        "def c_report(y_true, y_pred):\n",
        "   print(\"Classification Report\")\n",
        "   print(classification_report(y_true, y_pred))\n",
        "   acc_sc = accuracy_score(y_true, y_pred)\n",
        "   print(\"Accuracy : \"+ str(acc_sc))\n",
        "   return acc_sc\n",
        "\n",
        "def plot_confusion_matrix(y_true, y_pred):\n",
        "   mtx = confusion_matrix(y_true, y_pred)\n",
        "   sns.heatmap(mtx, annot=True, fmt='d', linewidths=.5,\n",
        "               cmap=\"Blues\", cbar=False)\n",
        "   plt.ylabel('True label')\n",
        "   plt.xlabel('Predicted label')"
      ],
      "metadata": {
        "id": "J4BNjj98w6bf"
      },
      "execution_count": null,
      "outputs": []
    },
    {
      "cell_type": "code",
      "execution_count": null,
      "metadata": {
        "colab": {
          "base_uri": "https://localhost:8080/",
          "height": 206
        },
        "id": "vogsxBL6WY4o",
        "outputId": "55ea1c4c-c2b0-4759-e4ae-4a38fed0b2f1"
      },
      "outputs": [
        {
          "output_type": "execute_result",
          "data": {
            "text/plain": [
              "        target                                               text\n",
              "249101       0  @casey887 i believe some people can still acce...\n",
              "664553       0     I really wish I were in NJ with everyone else \n",
              "296094       0  @JCINISTA My poor, little hometown does  Valle...\n",
              "652582       0                              @illmaticStill nope. \n",
              "675987       0  @amandamurphx imma miss chu too  when do you g..."
            ],
            "text/html": [
              "\n",
              "  <div id=\"df-888a4e18-9eec-4502-94dc-7d8ce5648880\" class=\"colab-df-container\">\n",
              "    <div>\n",
              "<style scoped>\n",
              "    .dataframe tbody tr th:only-of-type {\n",
              "        vertical-align: middle;\n",
              "    }\n",
              "\n",
              "    .dataframe tbody tr th {\n",
              "        vertical-align: top;\n",
              "    }\n",
              "\n",
              "    .dataframe thead th {\n",
              "        text-align: right;\n",
              "    }\n",
              "</style>\n",
              "<table border=\"1\" class=\"dataframe\">\n",
              "  <thead>\n",
              "    <tr style=\"text-align: right;\">\n",
              "      <th></th>\n",
              "      <th>target</th>\n",
              "      <th>text</th>\n",
              "    </tr>\n",
              "  </thead>\n",
              "  <tbody>\n",
              "    <tr>\n",
              "      <th>249101</th>\n",
              "      <td>0</td>\n",
              "      <td>@casey887 i believe some people can still acce...</td>\n",
              "    </tr>\n",
              "    <tr>\n",
              "      <th>664553</th>\n",
              "      <td>0</td>\n",
              "      <td>I really wish I were in NJ with everyone else</td>\n",
              "    </tr>\n",
              "    <tr>\n",
              "      <th>296094</th>\n",
              "      <td>0</td>\n",
              "      <td>@JCINISTA My poor, little hometown does  Valle...</td>\n",
              "    </tr>\n",
              "    <tr>\n",
              "      <th>652582</th>\n",
              "      <td>0</td>\n",
              "      <td>@illmaticStill nope.</td>\n",
              "    </tr>\n",
              "    <tr>\n",
              "      <th>675987</th>\n",
              "      <td>0</td>\n",
              "      <td>@amandamurphx imma miss chu too  when do you g...</td>\n",
              "    </tr>\n",
              "  </tbody>\n",
              "</table>\n",
              "</div>\n",
              "    <div class=\"colab-df-buttons\">\n",
              "\n",
              "  <div class=\"colab-df-container\">\n",
              "    <button class=\"colab-df-convert\" onclick=\"convertToInteractive('df-888a4e18-9eec-4502-94dc-7d8ce5648880')\"\n",
              "            title=\"Convert this dataframe to an interactive table.\"\n",
              "            style=\"display:none;\">\n",
              "\n",
              "  <svg xmlns=\"http://www.w3.org/2000/svg\" height=\"24px\" viewBox=\"0 -960 960 960\">\n",
              "    <path d=\"M120-120v-720h720v720H120Zm60-500h600v-160H180v160Zm220 220h160v-160H400v160Zm0 220h160v-160H400v160ZM180-400h160v-160H180v160Zm440 0h160v-160H620v160ZM180-180h160v-160H180v160Zm440 0h160v-160H620v160Z\"/>\n",
              "  </svg>\n",
              "    </button>\n",
              "\n",
              "  <style>\n",
              "    .colab-df-container {\n",
              "      display:flex;\n",
              "      gap: 12px;\n",
              "    }\n",
              "\n",
              "    .colab-df-convert {\n",
              "      background-color: #E8F0FE;\n",
              "      border: none;\n",
              "      border-radius: 50%;\n",
              "      cursor: pointer;\n",
              "      display: none;\n",
              "      fill: #1967D2;\n",
              "      height: 32px;\n",
              "      padding: 0 0 0 0;\n",
              "      width: 32px;\n",
              "    }\n",
              "\n",
              "    .colab-df-convert:hover {\n",
              "      background-color: #E2EBFA;\n",
              "      box-shadow: 0px 1px 2px rgba(60, 64, 67, 0.3), 0px 1px 3px 1px rgba(60, 64, 67, 0.15);\n",
              "      fill: #174EA6;\n",
              "    }\n",
              "\n",
              "    .colab-df-buttons div {\n",
              "      margin-bottom: 4px;\n",
              "    }\n",
              "\n",
              "    [theme=dark] .colab-df-convert {\n",
              "      background-color: #3B4455;\n",
              "      fill: #D2E3FC;\n",
              "    }\n",
              "\n",
              "    [theme=dark] .colab-df-convert:hover {\n",
              "      background-color: #434B5C;\n",
              "      box-shadow: 0px 1px 3px 1px rgba(0, 0, 0, 0.15);\n",
              "      filter: drop-shadow(0px 1px 2px rgba(0, 0, 0, 0.3));\n",
              "      fill: #FFFFFF;\n",
              "    }\n",
              "  </style>\n",
              "\n",
              "    <script>\n",
              "      const buttonEl =\n",
              "        document.querySelector('#df-888a4e18-9eec-4502-94dc-7d8ce5648880 button.colab-df-convert');\n",
              "      buttonEl.style.display =\n",
              "        google.colab.kernel.accessAllowed ? 'block' : 'none';\n",
              "\n",
              "      async function convertToInteractive(key) {\n",
              "        const element = document.querySelector('#df-888a4e18-9eec-4502-94dc-7d8ce5648880');\n",
              "        const dataTable =\n",
              "          await google.colab.kernel.invokeFunction('convertToInteractive',\n",
              "                                                    [key], {});\n",
              "        if (!dataTable) return;\n",
              "\n",
              "        const docLinkHtml = 'Like what you see? Visit the ' +\n",
              "          '<a target=\"_blank\" href=https://colab.research.google.com/notebooks/data_table.ipynb>data table notebook</a>'\n",
              "          + ' to learn more about interactive tables.';\n",
              "        element.innerHTML = '';\n",
              "        dataTable['output_type'] = 'display_data';\n",
              "        await google.colab.output.renderOutput(dataTable, element);\n",
              "        const docLink = document.createElement('div');\n",
              "        docLink.innerHTML = docLinkHtml;\n",
              "        element.appendChild(docLink);\n",
              "      }\n",
              "    </script>\n",
              "  </div>\n",
              "\n",
              "\n",
              "<div id=\"df-2a4c76f6-476f-4b0a-9a68-5869f1a19acb\">\n",
              "  <button class=\"colab-df-quickchart\" onclick=\"quickchart('df-2a4c76f6-476f-4b0a-9a68-5869f1a19acb')\"\n",
              "            title=\"Suggest charts.\"\n",
              "            style=\"display:none;\">\n",
              "\n",
              "<svg xmlns=\"http://www.w3.org/2000/svg\" height=\"24px\"viewBox=\"0 0 24 24\"\n",
              "     width=\"24px\">\n",
              "    <g>\n",
              "        <path d=\"M19 3H5c-1.1 0-2 .9-2 2v14c0 1.1.9 2 2 2h14c1.1 0 2-.9 2-2V5c0-1.1-.9-2-2-2zM9 17H7v-7h2v7zm4 0h-2V7h2v10zm4 0h-2v-4h2v4z\"/>\n",
              "    </g>\n",
              "</svg>\n",
              "  </button>\n",
              "\n",
              "<style>\n",
              "  .colab-df-quickchart {\n",
              "      --bg-color: #E8F0FE;\n",
              "      --fill-color: #1967D2;\n",
              "      --hover-bg-color: #E2EBFA;\n",
              "      --hover-fill-color: #174EA6;\n",
              "      --disabled-fill-color: #AAA;\n",
              "      --disabled-bg-color: #DDD;\n",
              "  }\n",
              "\n",
              "  [theme=dark] .colab-df-quickchart {\n",
              "      --bg-color: #3B4455;\n",
              "      --fill-color: #D2E3FC;\n",
              "      --hover-bg-color: #434B5C;\n",
              "      --hover-fill-color: #FFFFFF;\n",
              "      --disabled-bg-color: #3B4455;\n",
              "      --disabled-fill-color: #666;\n",
              "  }\n",
              "\n",
              "  .colab-df-quickchart {\n",
              "    background-color: var(--bg-color);\n",
              "    border: none;\n",
              "    border-radius: 50%;\n",
              "    cursor: pointer;\n",
              "    display: none;\n",
              "    fill: var(--fill-color);\n",
              "    height: 32px;\n",
              "    padding: 0;\n",
              "    width: 32px;\n",
              "  }\n",
              "\n",
              "  .colab-df-quickchart:hover {\n",
              "    background-color: var(--hover-bg-color);\n",
              "    box-shadow: 0 1px 2px rgba(60, 64, 67, 0.3), 0 1px 3px 1px rgba(60, 64, 67, 0.15);\n",
              "    fill: var(--button-hover-fill-color);\n",
              "  }\n",
              "\n",
              "  .colab-df-quickchart-complete:disabled,\n",
              "  .colab-df-quickchart-complete:disabled:hover {\n",
              "    background-color: var(--disabled-bg-color);\n",
              "    fill: var(--disabled-fill-color);\n",
              "    box-shadow: none;\n",
              "  }\n",
              "\n",
              "  .colab-df-spinner {\n",
              "    border: 2px solid var(--fill-color);\n",
              "    border-color: transparent;\n",
              "    border-bottom-color: var(--fill-color);\n",
              "    animation:\n",
              "      spin 1s steps(1) infinite;\n",
              "  }\n",
              "\n",
              "  @keyframes spin {\n",
              "    0% {\n",
              "      border-color: transparent;\n",
              "      border-bottom-color: var(--fill-color);\n",
              "      border-left-color: var(--fill-color);\n",
              "    }\n",
              "    20% {\n",
              "      border-color: transparent;\n",
              "      border-left-color: var(--fill-color);\n",
              "      border-top-color: var(--fill-color);\n",
              "    }\n",
              "    30% {\n",
              "      border-color: transparent;\n",
              "      border-left-color: var(--fill-color);\n",
              "      border-top-color: var(--fill-color);\n",
              "      border-right-color: var(--fill-color);\n",
              "    }\n",
              "    40% {\n",
              "      border-color: transparent;\n",
              "      border-right-color: var(--fill-color);\n",
              "      border-top-color: var(--fill-color);\n",
              "    }\n",
              "    60% {\n",
              "      border-color: transparent;\n",
              "      border-right-color: var(--fill-color);\n",
              "    }\n",
              "    80% {\n",
              "      border-color: transparent;\n",
              "      border-right-color: var(--fill-color);\n",
              "      border-bottom-color: var(--fill-color);\n",
              "    }\n",
              "    90% {\n",
              "      border-color: transparent;\n",
              "      border-bottom-color: var(--fill-color);\n",
              "    }\n",
              "  }\n",
              "</style>\n",
              "\n",
              "  <script>\n",
              "    async function quickchart(key) {\n",
              "      const quickchartButtonEl =\n",
              "        document.querySelector('#' + key + ' button');\n",
              "      quickchartButtonEl.disabled = true;  // To prevent multiple clicks.\n",
              "      quickchartButtonEl.classList.add('colab-df-spinner');\n",
              "      try {\n",
              "        const charts = await google.colab.kernel.invokeFunction(\n",
              "            'suggestCharts', [key], {});\n",
              "      } catch (error) {\n",
              "        console.error('Error during call to suggestCharts:', error);\n",
              "      }\n",
              "      quickchartButtonEl.classList.remove('colab-df-spinner');\n",
              "      quickchartButtonEl.classList.add('colab-df-quickchart-complete');\n",
              "    }\n",
              "    (() => {\n",
              "      let quickchartButtonEl =\n",
              "        document.querySelector('#df-2a4c76f6-476f-4b0a-9a68-5869f1a19acb button');\n",
              "      quickchartButtonEl.style.display =\n",
              "        google.colab.kernel.accessAllowed ? 'block' : 'none';\n",
              "    })();\n",
              "  </script>\n",
              "</div>\n",
              "    </div>\n",
              "  </div>\n"
            ]
          },
          "metadata": {},
          "execution_count": 13
        }
      ],
      "source": [
        "df_copy=df\n",
        "data=df.drop(columns=[ 'id', 'date', 'flag', 'user'])\n",
        "data.head()"
      ]
    },
    {
      "cell_type": "code",
      "execution_count": null,
      "metadata": {
        "id": "iCvwSO7ZWY8N"
      },
      "outputs": [],
      "source": [
        "ratio_train = 0.8\n",
        "ratio_val = 0.1\n",
        "ratio_test = 0.1\n",
        "\n",
        "X_remaining, X_test, y_remaining, y_test = train_test_split(data['text'],data['target'], stratify=data['target'],test_size=ratio_test)\n",
        "ratio_remaining = 1 - ratio_test\n",
        "ratio_val_adjusted = ratio_val / ratio_remaining\n",
        "X_train, X_val, y_train, y_val = train_test_split(\n",
        "                X_remaining, y_remaining, test_size=ratio_val_adjusted)\n",
        "\n"
      ]
    },
    {
      "cell_type": "code",
      "source": [],
      "metadata": {
        "id": "V9LDctZuxst6"
      },
      "execution_count": null,
      "outputs": []
    },
    {
      "cell_type": "code",
      "source": [
        "\n",
        "\n",
        "def simple_model(experiment_name: str, run_name: str):\n",
        "\n",
        "\n",
        "\n",
        "        # Fix and log seed value\n",
        "        seed=123\n",
        "        np.random.seed(seed)\n",
        "        #mlflow.log_param(\"numpy seed\", seed)\n",
        "\n",
        "\n",
        "\n",
        "\n",
        "        # Defines ratios, w.r.t. whole dataset.\n",
        "        ratio_train = 0.8\n",
        "        ratio_val = 0.1\n",
        "        ratio_test = 0.1\n",
        "        #mlflow.log_param(\"train size\", ratio_train)\n",
        "        #mlflow.log_param(\"test size\", ratio_test)\n",
        "        #mlflow.log_param(\"validation size\", ratio_val)\n",
        "\n",
        "        # Produces test split.\n",
        "        x_remaining, x_test, y_remaining, y_test = train_test_split(\n",
        "            df.text, df.target, test_size=ratio_test)\n",
        "\n",
        "        # Adjusts val ratio, w.r.t. remaining dataset.\n",
        "        ratio_remaining = 1 - ratio_test\n",
        "        ratio_val_adjusted = ratio_val / ratio_remaining\n",
        "        x_train, x_val, y_train, y_val = train_test_split(\n",
        "                x_remaining, y_remaining, test_size=ratio_val_adjusted)\n",
        "        mlflow.end_run()\n",
        "        # Produces train and val splits.\n",
        "        mlflow.set_experiment(experiment_name)\n",
        "        with mlflow.start_run(run_name=run_name):\n",
        "            #mlflow.log_param(\"numpy seed\", seed)\n",
        "            #mlflow.log_param(\"train size\", ratio_train)\n",
        "            #mlflow.log_param(\"test size\", ratio_test)\n",
        "            #mlflow.log_param(\"validation size\", ratio_val)\n",
        "\n",
        "        # Log automatically\n",
        "            mlflow.sklearn.autolog()\n",
        "\n",
        "            vectorizer = TfidfVectorizer()\n",
        "            x_train_vectorized = vectorizer.fit_transform(x_train)\n",
        "            x_test_vectorized = vectorizer.transform(x_test)\n",
        "            x_val_vectorized  = vectorizer.transform(x_val)\n",
        "\n",
        "            naive_bayes = MultinomialNB()\n",
        "            naive_bayes.fit(x_train_vectorized, y_train)\n",
        "            mlflow.log_param(\"validation size\", ratio_val)\n",
        "            scores = cross_val_score(naive_bayes,x_val_vectorized,y_val, cv = 10, scoring='accuracy')\n",
        "            print(scores)\n",
        "            #test_predicted = np.argmax(analyser.predict(x_test_vectorized), axis=0)\n",
        "            test_predicted = naive_bayes.predict(x_test_vectorized)\n",
        "            accuracy=accuracy_score(y_test, test_predicted, normalize=True)\n",
        "            f1_Score= f1_score(y_test, test_predicted)\n",
        "            #accuracy = sum(test_predicted == y_test) / len(test_predicted)\n",
        "            mlflow.log_metric(\"accuracy\", accuracy)\n",
        "            mlflow.log_metric(\"f1_Score\", f1_Score)\n",
        "\n",
        "            #print(f\"accuracy is {accuracy}.\")"
      ],
      "metadata": {
        "id": "V2XoD1mdxswb"
      },
      "execution_count": null,
      "outputs": []
    },
    {
      "cell_type": "code",
      "source": [],
      "metadata": {
        "id": "F1vzX3l0xszJ"
      },
      "execution_count": null,
      "outputs": []
    },
    {
      "cell_type": "code",
      "source": [
        "def regLog_model(experiment_name: str, run_name: str):\n",
        "\n",
        "\n",
        "\n",
        "        # Fix and log seed value\n",
        "        seed=123\n",
        "        np.random.seed(seed)\n",
        "        mlflow.log_param(\"numpy seed\", seed)\n",
        "\n",
        "\n",
        "\n",
        "\n",
        "        # Defines ratios, w.r.t. whole dataset.\n",
        "        ratio_train = 0.8\n",
        "        ratio_val = 0.1\n",
        "        ratio_test = 0.1\n",
        "        #mlflow.log_param(\"train size\", ratio_train)\n",
        "        #mlflow.log_param(\"test size\", ratio_test)\n",
        "        #mlflow.log_param(\"validation size\", ratio_val)\n",
        "\n",
        "        # Produces test split.\n",
        "        x_remaining, x_test, y_remaining, y_test = train_test_split(\n",
        "            df.text, df.target, test_size=ratio_test)\n",
        "\n",
        "        # Adjusts val ratio, w.r.t. remaining dataset.\n",
        "        ratio_remaining = 1 - ratio_test\n",
        "        ratio_val_adjusted = ratio_val / ratio_remaining\n",
        "        x_train, x_val, y_train, y_val = train_test_split(\n",
        "                x_remaining, y_remaining, test_size=ratio_val_adjusted)\n",
        "\n",
        "\n",
        "        mlflow.end_run()\n",
        "        # Produces train and val splits.\n",
        "        mlflow.set_experiment(experiment_name)\n",
        "        with mlflow.start_run(run_name=run_name):\n",
        "        # Log automatically\n",
        "            mlflow.sklearn.autolog()\n",
        "            vectorizer = TfidfVectorizer()\n",
        "            x_train_vectorized = vectorizer.fit_transform(x_train)\n",
        "            x_test_vectorized = vectorizer.transform(x_test)\n",
        "            x_val_vectorized  = vectorizer.transform(x_val)\n",
        "\n",
        "\n",
        "            analyser=LogisticRegressionCV(cv=5,\n",
        "                      scoring='accuracy',\n",
        "                      random_state=0,\n",
        "                      n_jobs=-1,\n",
        "                      verbose=3,\n",
        "                      max_iter=300)\n",
        "            analyser.fit(x_train_vectorized, y_train)\n",
        "\n",
        "            scores = cross_val_score(analyser,x_val_vectorized,y_val, cv = 10, scoring='accuracy')\n",
        "            mlflow.log_param(\"score\", scores)\n",
        "            print(scores)\n",
        "            #test_predicted = np.argmax(analyser.predict(x_test_vectorized), axis=0)\n",
        "            test_predicted = analyser.predict(x_test_vectorized)\n",
        "            accuracy=accuracy_score(y_test, test_predicted, normalize=True)\n",
        "            f1_Score= f1_score(y_test, test_predicted)\n",
        "            mlflow.log_metric(\"accuracy\", accuracy)\n",
        "            mlflow.log_metric(\"f1_Score\", f1_Score)"
      ],
      "metadata": {
        "id": "uCWQgZtdxs1y"
      },
      "execution_count": null,
      "outputs": []
    },
    {
      "cell_type": "code",
      "source": [],
      "metadata": {
        "id": "rqQkWhoMxs4b"
      },
      "execution_count": null,
      "outputs": []
    },
    {
      "cell_type": "code",
      "source": [
        "def rnn_model(experiment_name: str, run_name: str):\n",
        "    X = data['text'].values\n",
        "    y = data['target'].values\n",
        "    X_train, X_test, y_train, y_test = train_test_split(X, y, test_size=0.20, random_state=42)\n",
        "    mlflow.end_run()\n",
        "        # Produces train and val splits.\n",
        "    mlflow.set_experiment(experiment_name)\n",
        "    with mlflow.start_run(run_name=run_name):\n",
        "      mlflow.sklearn.autolog()\n",
        "      t = Tokenizer()\n",
        "      t.fit_on_texts(X_train)\n",
        "\n",
        "      encoded_train = t.texts_to_sequences(X_train)\n",
        "      encoded_test = t.texts_to_sequences(X_test)\n",
        "      print(encoded_train[0:2])\n",
        "\n",
        "      max_length = 8\n",
        "      padded_train = pad_sequences(encoded_train, maxlen=max_length, padding='post')\n",
        "      padded_test = pad_sequences(encoded_test, maxlen=max_length, padding='post')\n",
        "      print(padded_train)\n",
        "\n",
        "      vocab_size = len(t.word_index) + 1\n",
        "\n",
        "      # define the model\n",
        "      model = Sequential()\n",
        "      model.add(Embedding(vocab_size, 24, input_length=max_length))\n",
        "      model.add(SimpleRNN(24, return_sequences=False))\n",
        "      model.add(Dense(1, activation='sigmoid'))\n",
        "\n",
        "      # compile the model\n",
        "      model.compile(optimizer='rmsprop', loss='binary_crossentropy', metrics=['accuracy'])\n",
        "\n",
        "      # summarize the model\n",
        "      print(model.summary())\n",
        "\n",
        "      early_stop = EarlyStopping(monitor='val_loss', mode='min', verbose=1, patience=10)\n",
        "\n",
        "      # fit the model\n",
        "      model.fit(x=padded_train,\n",
        "         y=y_train,\n",
        "         epochs=100,\n",
        "         validation_data=(padded_test, y_test), verbose=1,\n",
        "         #callbacks=[early_stop]\n",
        "         )\n",
        "\n",
        "      preds = (model.predict(padded_test) > 0.7).astype(\"int32\")\n",
        "      c_report(y_test, preds)\n",
        "      plot_confusion_matrix(y_test, preds)\n",
        "      accuracy=accuracy_score(y_test, preds, normalize=True)\n",
        "      mlflow.log_metric(\"accuracy\", accuracy)"
      ],
      "metadata": {
        "id": "HCu2mGzSxs67"
      },
      "execution_count": null,
      "outputs": []
    },
    {
      "cell_type": "code",
      "source": [],
      "metadata": {
        "id": "n_o06q5Exs_r"
      },
      "execution_count": null,
      "outputs": []
    },
    {
      "cell_type": "code",
      "source": [
        "simple_model('first model','basic run')"
      ],
      "metadata": {
        "colab": {
          "base_uri": "https://localhost:8080/"
        },
        "id": "qB_8DfQNx_pW",
        "outputId": "5ea643af-3e98-4f03-fb7f-260e7d70a2bc"
      },
      "execution_count": null,
      "outputs": [
        {
          "output_type": "stream",
          "name": "stderr",
          "text": [
            "2023/10/04 08:01:02 INFO mlflow.tracking.fluent: Experiment with name 'first model' does not exist. Creating a new experiment.\n",
            "2023/10/04 08:01:04 WARNING mlflow.sklearn: Failed to log training dataset information to MLflow Tracking. Reason: 'Series' object has no attribute 'toarray'\n",
            "2023/10/04 08:01:08 WARNING mlflow.utils.autologging_utils: MLflow autologging encountered a warning: \"/usr/local/lib/python3.10/dist-packages/_distutils_hack/__init__.py:33: UserWarning: Setuptools is replacing distutils.\"\n",
            "2023/10/04 08:01:08 WARNING mlflow.sklearn: Failed to log training dataset information to MLflow Tracking. Reason: 'Series' object has no attribute 'toarray'\n",
            "2023/10/04 08:01:10 WARNING mlflow.sklearn: Failed to log training dataset information to MLflow Tracking. Reason: 'Series' object has no attribute 'toarray'\n",
            "2023/10/04 08:01:14 WARNING mlflow.sklearn: Failed to log training dataset information to MLflow Tracking. Reason: 'Series' object has no attribute 'toarray'\n",
            "2023/10/04 08:01:16 WARNING mlflow.sklearn: Failed to log training dataset information to MLflow Tracking. Reason: 'Series' object has no attribute 'toarray'\n",
            "2023/10/04 08:01:19 WARNING mlflow.sklearn: Failed to log training dataset information to MLflow Tracking. Reason: 'Series' object has no attribute 'toarray'\n",
            "2023/10/04 08:01:22 WARNING mlflow.sklearn: Failed to log training dataset information to MLflow Tracking. Reason: 'Series' object has no attribute 'toarray'\n",
            "2023/10/04 08:01:24 WARNING mlflow.sklearn: Failed to log training dataset information to MLflow Tracking. Reason: 'Series' object has no attribute 'toarray'\n",
            "2023/10/04 08:01:27 WARNING mlflow.sklearn: Failed to log training dataset information to MLflow Tracking. Reason: 'Series' object has no attribute 'toarray'\n",
            "2023/10/04 08:01:30 WARNING mlflow.sklearn: Failed to log training dataset information to MLflow Tracking. Reason: 'Series' object has no attribute 'toarray'\n",
            "2023/10/04 08:01:33 WARNING mlflow.sklearn: Failed to log training dataset information to MLflow Tracking. Reason: 'Series' object has no attribute 'toarray'\n"
          ]
        },
        {
          "output_type": "stream",
          "name": "stdout",
          "text": [
            "[0.675   0.675   0.64375 0.65625 0.70625 0.7     0.6875  0.71875 0.6375\n",
            " 0.69375]\n"
          ]
        }
      ]
    },
    {
      "cell_type": "code",
      "source": [
        "regLog_model('run logistic regression','log reg')"
      ],
      "metadata": {
        "colab": {
          "base_uri": "https://localhost:8080/"
        },
        "id": "R4NDLTlxx_qL",
        "outputId": "766a71d3-9b10-41fc-c2ea-c9b41d1b104b"
      },
      "execution_count": null,
      "outputs": [
        {
          "output_type": "stream",
          "name": "stderr",
          "text": [
            "2023/10/04 08:05:00 WARNING mlflow.sklearn: Failed to log training dataset information to MLflow Tracking. Reason: 'Series' object has no attribute 'toarray'\n",
            "[Parallel(n_jobs=-1)]: Using backend LokyBackend with 40 concurrent workers.\n",
            "[Parallel(n_jobs=-1)]: Done   2 out of   5 | elapsed:    6.2s remaining:    9.4s\n",
            "[Parallel(n_jobs=-1)]: Done   5 out of   5 | elapsed:    6.6s finished\n",
            "2023/10/04 08:05:10 WARNING mlflow.sklearn: Failed to log training dataset information to MLflow Tracking. Reason: 'Series' object has no attribute 'toarray'\n",
            "[Parallel(n_jobs=-1)]: Using backend LokyBackend with 40 concurrent workers.\n",
            "[Parallel(n_jobs=-1)]: Done   2 out of   5 | elapsed:    2.8s remaining:    4.2s\n",
            "[Parallel(n_jobs=-1)]: Done   5 out of   5 | elapsed:    3.2s finished\n",
            "2023/10/04 08:05:16 WARNING mlflow.sklearn: Failed to log training dataset information to MLflow Tracking. Reason: 'Series' object has no attribute 'toarray'\n",
            "[Parallel(n_jobs=-1)]: Using backend LokyBackend with 40 concurrent workers.\n",
            "[Parallel(n_jobs=-1)]: Done   2 out of   5 | elapsed:    2.6s remaining:    4.0s\n",
            "[Parallel(n_jobs=-1)]: Done   5 out of   5 | elapsed:    3.1s finished\n",
            "2023/10/04 08:05:23 WARNING mlflow.sklearn: Failed to log training dataset information to MLflow Tracking. Reason: 'Series' object has no attribute 'toarray'\n",
            "[Parallel(n_jobs=-1)]: Using backend LokyBackend with 40 concurrent workers.\n",
            "[Parallel(n_jobs=-1)]: Done   2 out of   5 | elapsed:    3.0s remaining:    4.6s\n",
            "[Parallel(n_jobs=-1)]: Done   5 out of   5 | elapsed:    3.2s finished\n",
            "2023/10/04 08:05:29 WARNING mlflow.sklearn: Failed to log training dataset information to MLflow Tracking. Reason: 'Series' object has no attribute 'toarray'\n",
            "[Parallel(n_jobs=-1)]: Using backend LokyBackend with 40 concurrent workers.\n",
            "[Parallel(n_jobs=-1)]: Done   2 out of   5 | elapsed:    2.8s remaining:    4.2s\n",
            "[Parallel(n_jobs=-1)]: Done   5 out of   5 | elapsed:    3.0s finished\n",
            "2023/10/04 08:05:35 WARNING mlflow.sklearn: Failed to log training dataset information to MLflow Tracking. Reason: 'Series' object has no attribute 'toarray'\n",
            "[Parallel(n_jobs=-1)]: Using backend LokyBackend with 40 concurrent workers.\n",
            "[Parallel(n_jobs=-1)]: Done   2 out of   5 | elapsed:    2.9s remaining:    4.3s\n",
            "[Parallel(n_jobs=-1)]: Done   5 out of   5 | elapsed:    3.1s finished\n",
            "2023/10/04 08:05:42 WARNING mlflow.sklearn: Failed to log training dataset information to MLflow Tracking. Reason: 'Series' object has no attribute 'toarray'\n",
            "[Parallel(n_jobs=-1)]: Using backend LokyBackend with 40 concurrent workers.\n",
            "[Parallel(n_jobs=-1)]: Done   2 out of   5 | elapsed:    2.9s remaining:    4.3s\n",
            "[Parallel(n_jobs=-1)]: Done   5 out of   5 | elapsed:    3.0s finished\n",
            "2023/10/04 08:05:48 WARNING mlflow.sklearn: Failed to log training dataset information to MLflow Tracking. Reason: 'Series' object has no attribute 'toarray'\n",
            "[Parallel(n_jobs=-1)]: Using backend LokyBackend with 40 concurrent workers.\n",
            "[Parallel(n_jobs=-1)]: Done   2 out of   5 | elapsed:    2.5s remaining:    3.8s\n",
            "[Parallel(n_jobs=-1)]: Done   5 out of   5 | elapsed:    2.8s finished\n",
            "2023/10/04 08:05:54 WARNING mlflow.sklearn: Failed to log training dataset information to MLflow Tracking. Reason: 'Series' object has no attribute 'toarray'\n",
            "[Parallel(n_jobs=-1)]: Using backend LokyBackend with 40 concurrent workers.\n",
            "[Parallel(n_jobs=-1)]: Done   2 out of   5 | elapsed:    3.0s remaining:    4.5s\n",
            "[Parallel(n_jobs=-1)]: Done   5 out of   5 | elapsed:    3.2s finished\n",
            "2023/10/04 08:06:00 WARNING mlflow.sklearn: Failed to log training dataset information to MLflow Tracking. Reason: 'Series' object has no attribute 'toarray'\n",
            "[Parallel(n_jobs=-1)]: Using backend LokyBackend with 40 concurrent workers.\n",
            "[Parallel(n_jobs=-1)]: Done   2 out of   5 | elapsed:    3.1s remaining:    4.6s\n",
            "[Parallel(n_jobs=-1)]: Done   5 out of   5 | elapsed:    3.5s finished\n",
            "2023/10/04 08:06:06 WARNING mlflow.sklearn: Failed to log training dataset information to MLflow Tracking. Reason: 'Series' object has no attribute 'toarray'\n",
            "[Parallel(n_jobs=-1)]: Using backend LokyBackend with 40 concurrent workers.\n",
            "[Parallel(n_jobs=-1)]: Done   2 out of   5 | elapsed:    2.7s remaining:    4.0s\n",
            "[Parallel(n_jobs=-1)]: Done   5 out of   5 | elapsed:    3.1s finished\n"
          ]
        },
        {
          "output_type": "stream",
          "name": "stdout",
          "text": [
            "[0.75625 0.6875  0.6375  0.675   0.71875 0.73125 0.725   0.75625 0.64375\n",
            " 0.71875]\n"
          ]
        }
      ]
    },
    {
      "cell_type": "code",
      "source": [
        "rnn_model('rnn_model','rnn_model')"
      ],
      "metadata": {
        "colab": {
          "base_uri": "https://localhost:8080/",
          "height": 1000
        },
        "id": "2pkKGxvvx_q_",
        "outputId": "8068b24a-b0e0-4547-e696-c03b06c60bab"
      },
      "execution_count": null,
      "outputs": [
        {
          "output_type": "stream",
          "name": "stdout",
          "text": [
            "[[6758, 6759, 1, 61, 753, 17, 368, 608, 1860, 1129, 1196, 241, 13, 808, 1695, 241, 13, 515, 67, 43, 88, 11, 1695, 809], [1, 70, 110, 549, 1861, 117]]\n",
            "[[  13  515   67 ...   11 1695  809]\n",
            " [   1   70  110 ...  117    0    0]\n",
            " [3355  103    7 ...   78  492  270]\n",
            " ...\n",
            " [  75 1228   31 ...    0    0    0]\n",
            " [ 770   15  387 ...   14    5  547]\n",
            " [ 224    6   19 ... 1080   12    8]]\n",
            "Model: \"sequential_1\"\n",
            "_________________________________________________________________\n",
            " Layer (type)                Output Shape              Param #   \n",
            "=================================================================\n",
            " embedding_1 (Embedding)     (None, 8, 24)             545808    \n",
            "                                                                 \n",
            " simple_rnn_1 (SimpleRNN)    (None, 24)                1176      \n",
            "                                                                 \n",
            " dense_1 (Dense)             (None, 1)                 25        \n",
            "                                                                 \n",
            "=================================================================\n",
            "Total params: 547009 (2.09 MB)\n",
            "Trainable params: 547009 (2.09 MB)\n",
            "Non-trainable params: 0 (0.00 Byte)\n",
            "_________________________________________________________________\n",
            "None\n",
            "Epoch 1/100\n",
            "400/400 [==============================] - 2s 4ms/step - loss: 0.6197 - accuracy: 0.6465 - val_loss: 0.5619 - val_accuracy: 0.7116\n",
            "Epoch 2/100\n",
            "400/400 [==============================] - 1s 3ms/step - loss: 0.4970 - accuracy: 0.7635 - val_loss: 0.5530 - val_accuracy: 0.7216\n",
            "Epoch 3/100\n",
            "400/400 [==============================] - 1s 3ms/step - loss: 0.4261 - accuracy: 0.8087 - val_loss: 0.5820 - val_accuracy: 0.7259\n",
            "Epoch 4/100\n",
            "400/400 [==============================] - 1s 3ms/step - loss: 0.3667 - accuracy: 0.8400 - val_loss: 0.6029 - val_accuracy: 0.7147\n",
            "Epoch 5/100\n",
            "400/400 [==============================] - 1s 3ms/step - loss: 0.3094 - accuracy: 0.8725 - val_loss: 0.6634 - val_accuracy: 0.6991\n",
            "Epoch 6/100\n",
            "400/400 [==============================] - 1s 3ms/step - loss: 0.2568 - accuracy: 0.8952 - val_loss: 0.7134 - val_accuracy: 0.6797\n",
            "Epoch 7/100\n",
            "400/400 [==============================] - 1s 3ms/step - loss: 0.2105 - accuracy: 0.9182 - val_loss: 0.7912 - val_accuracy: 0.6791\n",
            "Epoch 8/100\n",
            "400/400 [==============================] - 1s 3ms/step - loss: 0.1713 - accuracy: 0.9327 - val_loss: 0.8160 - val_accuracy: 0.6616\n",
            "Epoch 9/100\n",
            "400/400 [==============================] - 1s 3ms/step - loss: 0.1392 - accuracy: 0.9476 - val_loss: 0.9090 - val_accuracy: 0.6647\n",
            "Epoch 10/100\n",
            "400/400 [==============================] - 1s 3ms/step - loss: 0.1151 - accuracy: 0.9577 - val_loss: 0.9490 - val_accuracy: 0.6534\n",
            "Epoch 11/100\n",
            "400/400 [==============================] - 1s 3ms/step - loss: 0.0949 - accuracy: 0.9657 - val_loss: 1.0098 - val_accuracy: 0.6656\n",
            "Epoch 12/100\n",
            "400/400 [==============================] - 1s 3ms/step - loss: 0.0796 - accuracy: 0.9723 - val_loss: 1.0213 - val_accuracy: 0.6653\n",
            "Epoch 13/100\n",
            "400/400 [==============================] - 1s 3ms/step - loss: 0.0651 - accuracy: 0.9779 - val_loss: 1.1275 - val_accuracy: 0.6538\n",
            "Epoch 14/100\n",
            "400/400 [==============================] - 1s 3ms/step - loss: 0.0555 - accuracy: 0.9801 - val_loss: 1.2448 - val_accuracy: 0.6281\n",
            "Epoch 15/100\n",
            "400/400 [==============================] - 1s 3ms/step - loss: 0.0468 - accuracy: 0.9840 - val_loss: 1.2575 - val_accuracy: 0.6447\n",
            "Epoch 16/100\n",
            "400/400 [==============================] - 1s 3ms/step - loss: 0.0404 - accuracy: 0.9858 - val_loss: 1.3731 - val_accuracy: 0.6147\n",
            "Epoch 17/100\n",
            "400/400 [==============================] - 1s 3ms/step - loss: 0.0354 - accuracy: 0.9884 - val_loss: 1.3625 - val_accuracy: 0.6459\n",
            "Epoch 18/100\n",
            "400/400 [==============================] - 1s 3ms/step - loss: 0.0299 - accuracy: 0.9905 - val_loss: 1.4995 - val_accuracy: 0.6291\n",
            "Epoch 19/100\n",
            "400/400 [==============================] - 1s 3ms/step - loss: 0.0250 - accuracy: 0.9913 - val_loss: 1.5792 - val_accuracy: 0.6253\n",
            "Epoch 20/100\n",
            "400/400 [==============================] - 1s 3ms/step - loss: 0.0221 - accuracy: 0.9929 - val_loss: 1.5796 - val_accuracy: 0.6456\n",
            "Epoch 21/100\n",
            "400/400 [==============================] - 1s 3ms/step - loss: 0.0187 - accuracy: 0.9943 - val_loss: 1.6380 - val_accuracy: 0.6488\n",
            "Epoch 22/100\n",
            "400/400 [==============================] - 1s 3ms/step - loss: 0.0174 - accuracy: 0.9937 - val_loss: 1.6457 - val_accuracy: 0.6425\n",
            "Epoch 23/100\n",
            "400/400 [==============================] - 1s 3ms/step - loss: 0.0146 - accuracy: 0.9952 - val_loss: 1.7912 - val_accuracy: 0.6281\n",
            "Epoch 24/100\n",
            "400/400 [==============================] - 1s 3ms/step - loss: 0.0119 - accuracy: 0.9963 - val_loss: 1.9012 - val_accuracy: 0.6297\n",
            "Epoch 25/100\n",
            "400/400 [==============================] - 1s 3ms/step - loss: 0.0110 - accuracy: 0.9963 - val_loss: 1.8863 - val_accuracy: 0.6316\n",
            "Epoch 26/100\n",
            "400/400 [==============================] - 1s 3ms/step - loss: 0.0089 - accuracy: 0.9970 - val_loss: 2.0420 - val_accuracy: 0.6288\n",
            "Epoch 27/100\n",
            "400/400 [==============================] - 1s 3ms/step - loss: 0.0078 - accuracy: 0.9975 - val_loss: 1.9774 - val_accuracy: 0.6428\n",
            "Epoch 28/100\n",
            "400/400 [==============================] - 1s 3ms/step - loss: 0.0062 - accuracy: 0.9980 - val_loss: 2.1582 - val_accuracy: 0.6356\n",
            "Epoch 29/100\n",
            "400/400 [==============================] - 1s 3ms/step - loss: 0.0060 - accuracy: 0.9982 - val_loss: 2.2782 - val_accuracy: 0.6263\n",
            "Epoch 30/100\n",
            "400/400 [==============================] - 1s 3ms/step - loss: 0.0049 - accuracy: 0.9985 - val_loss: 2.2787 - val_accuracy: 0.6347\n",
            "Epoch 31/100\n",
            "400/400 [==============================] - 1s 3ms/step - loss: 0.0042 - accuracy: 0.9988 - val_loss: 2.4006 - val_accuracy: 0.6334\n",
            "Epoch 32/100\n",
            "400/400 [==============================] - 1s 3ms/step - loss: 0.0033 - accuracy: 0.9991 - val_loss: 2.5809 - val_accuracy: 0.6231\n",
            "Epoch 33/100\n",
            "400/400 [==============================] - 1s 3ms/step - loss: 0.0029 - accuracy: 0.9991 - val_loss: 2.6340 - val_accuracy: 0.6278\n",
            "Epoch 34/100\n",
            "400/400 [==============================] - 1s 3ms/step - loss: 0.0030 - accuracy: 0.9991 - val_loss: 2.6873 - val_accuracy: 0.6291\n",
            "Epoch 35/100\n",
            "400/400 [==============================] - 1s 3ms/step - loss: 0.0021 - accuracy: 0.9995 - val_loss: 2.7535 - val_accuracy: 0.6341\n",
            "Epoch 36/100\n",
            "400/400 [==============================] - 1s 3ms/step - loss: 0.0023 - accuracy: 0.9996 - val_loss: 2.9541 - val_accuracy: 0.6256\n",
            "Epoch 37/100\n",
            "400/400 [==============================] - 1s 3ms/step - loss: 0.0024 - accuracy: 0.9995 - val_loss: 3.0181 - val_accuracy: 0.6187\n",
            "Epoch 38/100\n",
            "400/400 [==============================] - 1s 3ms/step - loss: 0.0011 - accuracy: 0.9998 - val_loss: 3.1762 - val_accuracy: 0.6122\n",
            "Epoch 39/100\n",
            "400/400 [==============================] - 1s 3ms/step - loss: 0.0015 - accuracy: 0.9997 - val_loss: 3.1094 - val_accuracy: 0.6291\n",
            "Epoch 40/100\n",
            "400/400 [==============================] - 1s 3ms/step - loss: 0.0013 - accuracy: 0.9997 - val_loss: 3.0211 - val_accuracy: 0.6394\n",
            "Epoch 41/100\n",
            "400/400 [==============================] - 1s 3ms/step - loss: 0.0010 - accuracy: 0.9999 - val_loss: 3.2181 - val_accuracy: 0.6237\n",
            "Epoch 42/100\n",
            "400/400 [==============================] - 1s 3ms/step - loss: 8.9036e-04 - accuracy: 0.9999 - val_loss: 3.3259 - val_accuracy: 0.6209\n",
            "Epoch 43/100\n",
            "400/400 [==============================] - 1s 3ms/step - loss: 8.1989e-04 - accuracy: 0.9999 - val_loss: 3.3410 - val_accuracy: 0.6144\n",
            "Epoch 44/100\n",
            "400/400 [==============================] - 1s 3ms/step - loss: 9.8165e-04 - accuracy: 0.9998 - val_loss: 3.3350 - val_accuracy: 0.6244\n",
            "Epoch 45/100\n",
            "400/400 [==============================] - 1s 3ms/step - loss: 7.4959e-04 - accuracy: 0.9999 - val_loss: 3.4465 - val_accuracy: 0.6219\n",
            "Epoch 46/100\n",
            "400/400 [==============================] - 1s 3ms/step - loss: 9.2468e-04 - accuracy: 0.9999 - val_loss: 3.4396 - val_accuracy: 0.6344\n",
            "Epoch 47/100\n",
            "400/400 [==============================] - 1s 3ms/step - loss: 7.1472e-04 - accuracy: 0.9999 - val_loss: 3.7117 - val_accuracy: 0.6137\n",
            "Epoch 48/100\n",
            "400/400 [==============================] - 1s 3ms/step - loss: 1.3407e-04 - accuracy: 0.9999 - val_loss: 3.5617 - val_accuracy: 0.6237\n",
            "Epoch 49/100\n",
            "400/400 [==============================] - 1s 3ms/step - loss: 7.5331e-04 - accuracy: 0.9999 - val_loss: 3.6046 - val_accuracy: 0.6219\n",
            "Epoch 50/100\n",
            "400/400 [==============================] - 1s 3ms/step - loss: 8.2470e-04 - accuracy: 0.9998 - val_loss: 3.6158 - val_accuracy: 0.6203\n",
            "Epoch 51/100\n",
            "400/400 [==============================] - 1s 3ms/step - loss: 8.0981e-04 - accuracy: 0.9998 - val_loss: 3.4984 - val_accuracy: 0.6309\n",
            "Epoch 52/100\n",
            "400/400 [==============================] - 1s 3ms/step - loss: 7.7831e-04 - accuracy: 0.9998 - val_loss: 3.5546 - val_accuracy: 0.6231\n",
            "Epoch 53/100\n",
            "400/400 [==============================] - 1s 3ms/step - loss: 7.9958e-04 - accuracy: 0.9998 - val_loss: 3.6202 - val_accuracy: 0.6203\n",
            "Epoch 54/100\n",
            "400/400 [==============================] - 1s 3ms/step - loss: 7.1797e-04 - accuracy: 0.9999 - val_loss: 3.5943 - val_accuracy: 0.6272\n",
            "Epoch 55/100\n",
            "400/400 [==============================] - 1s 3ms/step - loss: 8.6605e-04 - accuracy: 0.9998 - val_loss: 3.6113 - val_accuracy: 0.6237\n",
            "Epoch 56/100\n",
            "400/400 [==============================] - 1s 3ms/step - loss: 4.8855e-04 - accuracy: 0.9999 - val_loss: 3.6293 - val_accuracy: 0.6237\n",
            "Epoch 57/100\n",
            "400/400 [==============================] - 1s 3ms/step - loss: 6.0123e-04 - accuracy: 0.9999 - val_loss: 3.5419 - val_accuracy: 0.6369\n",
            "Epoch 58/100\n",
            "400/400 [==============================] - 1s 3ms/step - loss: 6.2131e-04 - accuracy: 0.9999 - val_loss: 3.8393 - val_accuracy: 0.6131\n",
            "Epoch 59/100\n",
            "400/400 [==============================] - 1s 3ms/step - loss: 3.6064e-04 - accuracy: 0.9998 - val_loss: 3.5411 - val_accuracy: 0.6294\n",
            "Epoch 60/100\n",
            "400/400 [==============================] - 1s 3ms/step - loss: 7.1176e-04 - accuracy: 0.9998 - val_loss: 3.6401 - val_accuracy: 0.6275\n",
            "Epoch 61/100\n",
            "400/400 [==============================] - 1s 3ms/step - loss: 7.3999e-04 - accuracy: 0.9999 - val_loss: 3.6481 - val_accuracy: 0.6272\n",
            "Epoch 62/100\n",
            "400/400 [==============================] - 1s 3ms/step - loss: 7.4701e-04 - accuracy: 0.9999 - val_loss: 3.6857 - val_accuracy: 0.6253\n",
            "Epoch 63/100\n",
            "400/400 [==============================] - 1s 3ms/step - loss: 6.9071e-04 - accuracy: 0.9999 - val_loss: 3.7084 - val_accuracy: 0.6237\n",
            "Epoch 64/100\n",
            "400/400 [==============================] - 1s 3ms/step - loss: 7.2650e-04 - accuracy: 0.9999 - val_loss: 3.6875 - val_accuracy: 0.6244\n",
            "Epoch 65/100\n",
            "400/400 [==============================] - 1s 3ms/step - loss: 8.3816e-04 - accuracy: 0.9998 - val_loss: 3.6570 - val_accuracy: 0.6231\n",
            "Epoch 66/100\n",
            "400/400 [==============================] - 1s 3ms/step - loss: 7.1180e-04 - accuracy: 0.9999 - val_loss: 3.7182 - val_accuracy: 0.6222\n",
            "Epoch 67/100\n",
            "400/400 [==============================] - 1s 3ms/step - loss: 7.3415e-04 - accuracy: 0.9999 - val_loss: 3.6921 - val_accuracy: 0.6253\n",
            "Epoch 68/100\n",
            "400/400 [==============================] - 1s 3ms/step - loss: 7.3462e-04 - accuracy: 0.9999 - val_loss: 3.8104 - val_accuracy: 0.6131\n",
            "Epoch 69/100\n",
            "400/400 [==============================] - 1s 3ms/step - loss: 6.6054e-04 - accuracy: 0.9999 - val_loss: 3.8672 - val_accuracy: 0.6112\n",
            "Epoch 70/100\n",
            "400/400 [==============================] - 1s 3ms/step - loss: 1.3367e-04 - accuracy: 0.9999 - val_loss: 3.7071 - val_accuracy: 0.6228\n",
            "Epoch 71/100\n",
            "400/400 [==============================] - 1s 4ms/step - loss: 7.0440e-04 - accuracy: 0.9999 - val_loss: 3.7673 - val_accuracy: 0.6191\n",
            "Epoch 72/100\n",
            "400/400 [==============================] - 1s 3ms/step - loss: 7.4143e-04 - accuracy: 0.9999 - val_loss: 3.7613 - val_accuracy: 0.6209\n",
            "Epoch 73/100\n",
            "400/400 [==============================] - 1s 3ms/step - loss: 5.8117e-04 - accuracy: 0.9998 - val_loss: 3.7118 - val_accuracy: 0.6263\n",
            "Epoch 74/100\n",
            "400/400 [==============================] - 1s 3ms/step - loss: 7.1116e-04 - accuracy: 0.9999 - val_loss: 3.7137 - val_accuracy: 0.6269\n",
            "Epoch 75/100\n",
            "400/400 [==============================] - 1s 3ms/step - loss: 5.9817e-04 - accuracy: 0.9998 - val_loss: 3.7206 - val_accuracy: 0.6275\n",
            "Epoch 76/100\n",
            "400/400 [==============================] - 1s 3ms/step - loss: 7.8539e-04 - accuracy: 0.9999 - val_loss: 3.7252 - val_accuracy: 0.6269\n",
            "Epoch 77/100\n",
            "400/400 [==============================] - 1s 3ms/step - loss: 7.0137e-04 - accuracy: 0.9999 - val_loss: 3.8812 - val_accuracy: 0.6106\n",
            "Epoch 78/100\n",
            "400/400 [==============================] - 1s 3ms/step - loss: 6.7878e-04 - accuracy: 0.9998 - val_loss: 3.8538 - val_accuracy: 0.6100\n",
            "Epoch 79/100\n",
            "400/400 [==============================] - 1s 3ms/step - loss: 3.4208e-04 - accuracy: 0.9999 - val_loss: 3.7169 - val_accuracy: 0.6244\n",
            "Epoch 80/100\n",
            "400/400 [==============================] - 1s 3ms/step - loss: 5.0711e-04 - accuracy: 0.9998 - val_loss: 3.6305 - val_accuracy: 0.6356\n",
            "Epoch 81/100\n",
            "400/400 [==============================] - 1s 3ms/step - loss: 8.3042e-04 - accuracy: 0.9998 - val_loss: 3.7139 - val_accuracy: 0.6231\n",
            "Epoch 82/100\n",
            "400/400 [==============================] - 1s 3ms/step - loss: 5.3228e-04 - accuracy: 0.9998 - val_loss: 3.7086 - val_accuracy: 0.6266\n",
            "Epoch 83/100\n",
            "400/400 [==============================] - 1s 3ms/step - loss: 4.5326e-04 - accuracy: 0.9999 - val_loss: 3.8227 - val_accuracy: 0.6162\n",
            "Epoch 84/100\n",
            "400/400 [==============================] - 1s 3ms/step - loss: 6.9021e-04 - accuracy: 0.9999 - val_loss: 3.7302 - val_accuracy: 0.6212\n",
            "Epoch 85/100\n",
            "400/400 [==============================] - 1s 3ms/step - loss: 7.4924e-04 - accuracy: 0.9998 - val_loss: 3.6791 - val_accuracy: 0.6269\n",
            "Epoch 86/100\n",
            "400/400 [==============================] - 1s 3ms/step - loss: 8.3239e-04 - accuracy: 0.9999 - val_loss: 3.7047 - val_accuracy: 0.6225\n",
            "Epoch 87/100\n",
            "400/400 [==============================] - 1s 3ms/step - loss: 6.2628e-04 - accuracy: 0.9999 - val_loss: 3.8680 - val_accuracy: 0.6122\n",
            "Epoch 88/100\n",
            "400/400 [==============================] - 1s 3ms/step - loss: 6.9624e-04 - accuracy: 0.9998 - val_loss: 3.7633 - val_accuracy: 0.6181\n",
            "Epoch 89/100\n",
            "400/400 [==============================] - 1s 3ms/step - loss: 6.9417e-04 - accuracy: 0.9999 - val_loss: 3.7802 - val_accuracy: 0.6166\n",
            "Epoch 90/100\n",
            "400/400 [==============================] - 1s 3ms/step - loss: 3.9155e-04 - accuracy: 0.9998 - val_loss: 3.6898 - val_accuracy: 0.6284\n",
            "Epoch 91/100\n",
            "400/400 [==============================] - 1s 3ms/step - loss: 5.2992e-04 - accuracy: 0.9998 - val_loss: 3.6752 - val_accuracy: 0.6313\n",
            "Epoch 92/100\n",
            "400/400 [==============================] - 1s 3ms/step - loss: 6.5009e-04 - accuracy: 0.9998 - val_loss: 3.6906 - val_accuracy: 0.6269\n",
            "Epoch 93/100\n",
            "400/400 [==============================] - 1s 3ms/step - loss: 6.7620e-04 - accuracy: 0.9999 - val_loss: 3.8621 - val_accuracy: 0.6134\n",
            "Epoch 94/100\n",
            "400/400 [==============================] - 1s 3ms/step - loss: 6.8786e-04 - accuracy: 0.9998 - val_loss: 3.7825 - val_accuracy: 0.6156\n",
            "Epoch 95/100\n",
            "400/400 [==============================] - 1s 3ms/step - loss: 7.3353e-04 - accuracy: 0.9999 - val_loss: 3.7620 - val_accuracy: 0.6191\n",
            "Epoch 96/100\n",
            "400/400 [==============================] - 1s 3ms/step - loss: 4.2487e-04 - accuracy: 0.9998 - val_loss: 3.6645 - val_accuracy: 0.6347\n",
            "Epoch 97/100\n",
            "400/400 [==============================] - 1s 3ms/step - loss: 5.9555e-04 - accuracy: 0.9998 - val_loss: 3.6565 - val_accuracy: 0.6381\n",
            "Epoch 98/100\n",
            "400/400 [==============================] - 1s 3ms/step - loss: 3.9073e-04 - accuracy: 0.9999 - val_loss: 3.9123 - val_accuracy: 0.6137\n",
            "Epoch 99/100\n",
            "400/400 [==============================] - 1s 3ms/step - loss: 6.8685e-04 - accuracy: 0.9998 - val_loss: 3.8289 - val_accuracy: 0.6150\n",
            "Epoch 100/100\n",
            "400/400 [==============================] - 1s 3ms/step - loss: 1.4498e-04 - accuracy: 0.9999 - val_loss: 3.7377 - val_accuracy: 0.6272\n",
            "100/100 [==============================] - 0s 1ms/step\n",
            "Classification Report\n",
            "              precision    recall  f1-score   support\n",
            "\n",
            "           0       0.64      0.59      0.61      1604\n",
            "           1       0.62      0.67      0.64      1596\n",
            "\n",
            "    accuracy                           0.63      3200\n",
            "   macro avg       0.63      0.63      0.63      3200\n",
            "weighted avg       0.63      0.63      0.63      3200\n",
            "\n",
            "Accuracy : 0.62875\n"
          ]
        },
        {
          "output_type": "display_data",
          "data": {
            "text/plain": [
              "<Figure size 640x480 with 1 Axes>"
            ],
            "image/png": "[encoded data removed]"
          },
          "metadata": {}
        }
      ]
    },
    {
      "cell_type": "code",
      "source": [],
      "metadata": {
        "id": "0ISc4sJrx_rx"
      },
      "execution_count": null,
      "outputs": []
    },
    {
      "cell_type": "code",
      "source": [
        "\n",
        "\n",
        "X_train_ds = tf.convert_to_tensor(X_train)\n",
        "X_val_ds = tf.convert_to_tensor(X_val)\n",
        "X_test_ds = tf.convert_to_tensor(X_test)\n",
        "y_train_ds = tf.convert_to_tensor(y_train)\n",
        "y_val_ds = tf.convert_to_tensor(y_val)\n",
        "y_test_ds= tf.convert_to_tensor(y_test)"
      ],
      "metadata": {
        "id": "b5quvm2ix_sk"
      },
      "execution_count": null,
      "outputs": []
    },
    {
      "cell_type": "code",
      "source": [
        "VOCAB_SIZE = 1000\n",
        "encoder = tf.keras.layers.TextVectorization(\n",
        "    max_tokens=VOCAB_SIZE)\n",
        "encoder.adapt(X_train_ds)"
      ],
      "metadata": {
        "id": "UR2-rhTKx_tc"
      },
      "execution_count": null,
      "outputs": []
    },
    {
      "cell_type": "code",
      "source": [
        "def lstm_model(experiment_name: str, run_name: str):\n",
        "    X = data['text'].values\n",
        "    y = data['target'].values\n",
        "    X_train, X_test, y_train, y_test = train_test_split(X, y, test_size=0.20, random_state=42)\n",
        "    mlflow.end_run()\n",
        "        # Produces train and val splits.\n",
        "    mlflow.set_experiment(experiment_name)\n",
        "    with mlflow.start_run(run_name=run_name):\n",
        "      mlflow.sklearn.autolog()\n",
        "      t = Tokenizer()\n",
        "      t.fit_on_texts(X_train)\n",
        "\n",
        "      encoded_train = t.texts_to_sequences(X_train)\n",
        "      encoded_test = t.texts_to_sequences(X_test)\n",
        "      print(encoded_train[0:2])\n",
        "\n",
        "      max_length = 8\n",
        "      padded_train = pad_sequences(encoded_train, maxlen=max_length, padding='post')\n",
        "      padded_test = pad_sequences(encoded_test, maxlen=max_length, padding='post')\n",
        "      #print(padded_train)\n",
        "\n",
        "      vocab_size = len(t.word_index) + 1\n",
        "\n",
        "      # define the model\n",
        "      model = Sequential()\n",
        "      #model.add(Embedding(vocab_size, 128, input_length=max_length))\n",
        "      tf.keras.layers.Embedding(len(encoder.get_vocabulary()), 64, mask_zero=True)\n",
        "      #tf.keras.layers.Embedding(800, 64, mask_zero=True)\n",
        "      tf.keras.layers.Bidirectional(tf.keras.layers.LSTM(64,  return_sequences=False)),\n",
        "      tf.keras.layers.Bidirectional(tf.keras.layers.LSTM(32)),\n",
        "      model.add(Dense(1, activation='relu'))\n",
        "\n",
        "      # compile the model\n",
        "      model.compile(optimizer='rmsprop', loss='binary_crossentropy', metrics=['accuracy'])\n",
        "\n",
        "      # summarize the model\n",
        "      #print(model.summary())\n",
        "\n",
        "      early_stop = EarlyStopping(monitor='val_loss', mode='min', verbose=1, patience=10)\n",
        "\n",
        "      # fit the model\n",
        "      model.fit(x=padded_train,\n",
        "         y=y_train,\n",
        "         epochs=100,\n",
        "         validation_data=(padded_test, y_test), verbose=1,\n",
        "         callbacks=[early_stop]\n",
        "         )\n",
        "\n",
        "      preds = (model.predict(padded_test) > 0.5).astype(\"int32\")\n",
        "      c_report(y_test, preds)\n",
        "      plot_confusion_matrix(y_test, preds)\n",
        "      accuracy=accuracy_score(y_test, preds, normalize=True)\n",
        "      mlflow.log_metric(\"accuracy\", accuracy)"
      ],
      "metadata": {
        "id": "K2mR7Bj60igd"
      },
      "execution_count": null,
      "outputs": []
    },
    {
      "cell_type": "code",
      "source": [],
      "metadata": {
        "id": "POFesSJZ0ijM"
      },
      "execution_count": null,
      "outputs": []
    },
    {
      "cell_type": "code",
      "source": [
        "lstm_model('lstm model','lstm first model')"
      ],
      "metadata": {
        "colab": {
          "base_uri": "https://localhost:8080/",
          "height": 1000
        },
        "id": "g_gYe9Y-0imJ",
        "outputId": "a1c452c5-a0f6-4e2d-9eda-eb2f4d0035b2"
      },
      "execution_count": null,
      "outputs": [
        {
          "output_type": "stream",
          "name": "stderr",
          "text": [
            "2023/10/04 08:08:58 INFO mlflow.tracking.fluent: Experiment with name 'lstm model' does not exist. Creating a new experiment.\n"
          ]
        },
        {
          "output_type": "stream",
          "name": "stdout",
          "text": [
            "[[6758, 6759, 1, 61, 753, 17, 368, 608, 1860, 1129, 1196, 241, 13, 808, 1695, 241, 13, 515, 67, 43, 88, 11, 1695, 809], [1, 70, 110, 549, 1861, 117]]\n",
            "Epoch 1/100\n",
            "400/400 [==============================] - 1s 2ms/step - loss: 7.9070 - accuracy: 0.4843 - val_loss: 7.7516 - val_accuracy: 0.4944\n",
            "Epoch 2/100\n",
            "400/400 [==============================] - 1s 1ms/step - loss: 7.9145 - accuracy: 0.4837 - val_loss: 7.7565 - val_accuracy: 0.4941\n",
            "Epoch 3/100\n",
            "400/400 [==============================] - 1s 1ms/step - loss: 7.9020 - accuracy: 0.4848 - val_loss: 7.7621 - val_accuracy: 0.4931\n",
            "Epoch 4/100\n",
            "400/400 [==============================] - 1s 1ms/step - loss: 7.9078 - accuracy: 0.4843 - val_loss: 7.7522 - val_accuracy: 0.4938\n",
            "Epoch 5/100\n",
            "400/400 [==============================] - 1s 1ms/step - loss: 7.8958 - accuracy: 0.4851 - val_loss: 7.7610 - val_accuracy: 0.4934\n",
            "Epoch 6/100\n",
            "400/400 [==============================] - 1s 1ms/step - loss: 7.8991 - accuracy: 0.4848 - val_loss: 7.7614 - val_accuracy: 0.4931\n",
            "Epoch 7/100\n",
            "400/400 [==============================] - 1s 1ms/step - loss: 7.8927 - accuracy: 0.4852 - val_loss: 7.7629 - val_accuracy: 0.4931\n",
            "Epoch 8/100\n",
            "400/400 [==============================] - 1s 1ms/step - loss: 7.8974 - accuracy: 0.4850 - val_loss: 7.7659 - val_accuracy: 0.4931\n",
            "Epoch 9/100\n",
            "400/400 [==============================] - 1s 1ms/step - loss: 7.9011 - accuracy: 0.4847 - val_loss: 7.7439 - val_accuracy: 0.4944\n",
            "Epoch 10/100\n",
            "400/400 [==============================] - 1s 1ms/step - loss: 7.9138 - accuracy: 0.4840 - val_loss: 7.7686 - val_accuracy: 0.4934\n",
            "Epoch 11/100\n",
            "400/400 [==============================] - 1s 1ms/step - loss: 7.9158 - accuracy: 0.4841 - val_loss: 7.7501 - val_accuracy: 0.4947\n",
            "Epoch 12/100\n",
            "400/400 [==============================] - 1s 1ms/step - loss: 7.9107 - accuracy: 0.4841 - val_loss: 7.7368 - val_accuracy: 0.4953\n",
            "Epoch 13/100\n",
            "400/400 [==============================] - 1s 1ms/step - loss: 7.9180 - accuracy: 0.4841 - val_loss: 7.7567 - val_accuracy: 0.4938\n",
            "Epoch 14/100\n",
            "400/400 [==============================] - 1s 1ms/step - loss: 7.9147 - accuracy: 0.4842 - val_loss: 7.7510 - val_accuracy: 0.4938\n",
            "Epoch 15/100\n",
            "400/400 [==============================] - 1s 1ms/step - loss: 7.9085 - accuracy: 0.4845 - val_loss: 7.7394 - val_accuracy: 0.4944\n",
            "Epoch 16/100\n",
            "400/400 [==============================] - 1s 1ms/step - loss: 7.9063 - accuracy: 0.4846 - val_loss: 7.7580 - val_accuracy: 0.4928\n",
            "Epoch 17/100\n",
            "400/400 [==============================] - 1s 1ms/step - loss: 7.8989 - accuracy: 0.4852 - val_loss: 7.7484 - val_accuracy: 0.4941\n",
            "Epoch 18/100\n",
            "400/400 [==============================] - 1s 1ms/step - loss: 7.9127 - accuracy: 0.4842 - val_loss: 7.7517 - val_accuracy: 0.4944\n",
            "Epoch 19/100\n",
            "400/400 [==============================] - 1s 1ms/step - loss: 7.8882 - accuracy: 0.4859 - val_loss: 7.7149 - val_accuracy: 0.4969\n",
            "Epoch 20/100\n",
            "400/400 [==============================] - 1s 1ms/step - loss: 7.8505 - accuracy: 0.4885 - val_loss: 7.7074 - val_accuracy: 0.4959\n",
            "Epoch 21/100\n",
            "400/400 [==============================] - 1s 1ms/step - loss: 7.8529 - accuracy: 0.4884 - val_loss: 7.7022 - val_accuracy: 0.4972\n",
            "Epoch 22/100\n",
            "400/400 [==============================] - 1s 1ms/step - loss: 7.8599 - accuracy: 0.4879 - val_loss: 7.6966 - val_accuracy: 0.4984\n",
            "Epoch 23/100\n",
            "400/400 [==============================] - 1s 1ms/step - loss: 7.8772 - accuracy: 0.4866 - val_loss: 7.6875 - val_accuracy: 0.4981\n",
            "Epoch 24/100\n",
            "400/400 [==============================] - 1s 1ms/step - loss: 7.8580 - accuracy: 0.4880 - val_loss: 7.7524 - val_accuracy: 0.4944\n",
            "Epoch 25/100\n",
            "400/400 [==============================] - 1s 1ms/step - loss: 7.8869 - accuracy: 0.4860 - val_loss: 7.7488 - val_accuracy: 0.4938\n",
            "Epoch 26/100\n",
            "400/400 [==============================] - 1s 1ms/step - loss: 7.9041 - accuracy: 0.4851 - val_loss: 7.7480 - val_accuracy: 0.4941\n",
            "Epoch 27/100\n",
            "400/400 [==============================] - 1s 1ms/step - loss: 7.8949 - accuracy: 0.4855 - val_loss: 7.7517 - val_accuracy: 0.4944\n",
            "Epoch 28/100\n",
            "400/400 [==============================] - 1s 1ms/step - loss: 7.9016 - accuracy: 0.4851 - val_loss: 7.7524 - val_accuracy: 0.4941\n",
            "Epoch 29/100\n",
            "400/400 [==============================] - 1s 1ms/step - loss: 7.8979 - accuracy: 0.4853 - val_loss: 7.7347 - val_accuracy: 0.4947\n",
            "Epoch 30/100\n",
            "400/400 [==============================] - 1s 1ms/step - loss: 7.8845 - accuracy: 0.4864 - val_loss: 7.7161 - val_accuracy: 0.4966\n",
            "Epoch 31/100\n",
            "400/400 [==============================] - 1s 1ms/step - loss: 7.8530 - accuracy: 0.4882 - val_loss: 7.6834 - val_accuracy: 0.4991\n",
            "Epoch 32/100\n",
            "400/400 [==============================] - 1s 1ms/step - loss: 7.8584 - accuracy: 0.4880 - val_loss: 7.6928 - val_accuracy: 0.4978\n",
            "Epoch 33/100\n",
            "400/400 [==============================] - 1s 1ms/step - loss: 7.8606 - accuracy: 0.4878 - val_loss: 7.7060 - val_accuracy: 0.4972\n",
            "Epoch 34/100\n",
            "400/400 [==============================] - 1s 1ms/step - loss: 7.8622 - accuracy: 0.4877 - val_loss: 7.6879 - val_accuracy: 0.4978\n",
            "Epoch 35/100\n",
            "400/400 [==============================] - 1s 1ms/step - loss: 7.8689 - accuracy: 0.4873 - val_loss: 7.7046 - val_accuracy: 0.4966\n",
            "Epoch 36/100\n",
            "400/400 [==============================] - 1s 1ms/step - loss: 7.8587 - accuracy: 0.4879 - val_loss: 7.6783 - val_accuracy: 0.4988\n",
            "Epoch 37/100\n",
            "400/400 [==============================] - 1s 1ms/step - loss: 7.8467 - accuracy: 0.4888 - val_loss: 7.7071 - val_accuracy: 0.4975\n",
            "Epoch 38/100\n",
            "400/400 [==============================] - 1s 1ms/step - loss: 7.8559 - accuracy: 0.4880 - val_loss: 7.7055 - val_accuracy: 0.4975\n",
            "Epoch 39/100\n",
            "400/400 [==============================] - 1s 1ms/step - loss: 7.8522 - accuracy: 0.4884 - val_loss: 7.6825 - val_accuracy: 0.4988\n",
            "Epoch 40/100\n",
            "400/400 [==============================] - 1s 1ms/step - loss: 7.8580 - accuracy: 0.4880 - val_loss: 7.7019 - val_accuracy: 0.4975\n",
            "Epoch 41/100\n",
            "400/400 [==============================] - 1s 1ms/step - loss: 7.8536 - accuracy: 0.4884 - val_loss: 7.7012 - val_accuracy: 0.4975\n",
            "Epoch 42/100\n",
            "400/400 [==============================] - 1s 1ms/step - loss: 7.8543 - accuracy: 0.4884 - val_loss: 7.7062 - val_accuracy: 0.4972\n",
            "Epoch 43/100\n",
            "400/400 [==============================] - 1s 1ms/step - loss: 7.8610 - accuracy: 0.4879 - val_loss: 7.7060 - val_accuracy: 0.4975\n",
            "Epoch 44/100\n",
            "400/400 [==============================] - 1s 1ms/step - loss: 7.8629 - accuracy: 0.4877 - val_loss: 7.7020 - val_accuracy: 0.4975\n",
            "Epoch 45/100\n",
            "400/400 [==============================] - 1s 1ms/step - loss: 7.8604 - accuracy: 0.4879 - val_loss: 7.7020 - val_accuracy: 0.4975\n",
            "Epoch 46/100\n",
            "400/400 [==============================] - 1s 1ms/step - loss: 7.8520 - accuracy: 0.4884 - val_loss: 7.6750 - val_accuracy: 0.4988\n",
            "Epoch 47/100\n",
            "400/400 [==============================] - 1s 1ms/step - loss: 7.8753 - accuracy: 0.4870 - val_loss: 7.6838 - val_accuracy: 0.4988\n",
            "Epoch 48/100\n",
            "400/400 [==============================] - 1s 1ms/step - loss: 7.8741 - accuracy: 0.4872 - val_loss: 7.6700 - val_accuracy: 0.4994\n",
            "Epoch 49/100\n",
            "400/400 [==============================] - 1s 1ms/step - loss: 7.8577 - accuracy: 0.4883 - val_loss: 7.7048 - val_accuracy: 0.4975\n",
            "Epoch 50/100\n",
            "400/400 [==============================] - 1s 1ms/step - loss: 7.8575 - accuracy: 0.4880 - val_loss: 7.6979 - val_accuracy: 0.4984\n",
            "Epoch 51/100\n",
            "400/400 [==============================] - 1s 1ms/step - loss: 7.8574 - accuracy: 0.4880 - val_loss: 7.7039 - val_accuracy: 0.4978\n",
            "Epoch 52/100\n",
            "400/400 [==============================] - 1s 1ms/step - loss: 7.8589 - accuracy: 0.4883 - val_loss: 7.6998 - val_accuracy: 0.4981\n",
            "Epoch 53/100\n",
            "400/400 [==============================] - 1s 1ms/step - loss: 7.8539 - accuracy: 0.4887 - val_loss: 7.7141 - val_accuracy: 0.4972\n",
            "Epoch 54/100\n",
            "400/400 [==============================] - 1s 1ms/step - loss: 7.8446 - accuracy: 0.4891 - val_loss: 7.6774 - val_accuracy: 0.4991\n",
            "Epoch 55/100\n",
            "400/400 [==============================] - 1s 1ms/step - loss: 7.8496 - accuracy: 0.4888 - val_loss: 7.7189 - val_accuracy: 0.4969\n",
            "Epoch 56/100\n",
            "400/400 [==============================] - 1s 1ms/step - loss: 7.8632 - accuracy: 0.4877 - val_loss: 7.7200 - val_accuracy: 0.4959\n",
            "Epoch 57/100\n",
            "400/400 [==============================] - 1s 1ms/step - loss: 7.8659 - accuracy: 0.4877 - val_loss: 7.7178 - val_accuracy: 0.4969\n",
            "Epoch 58/100\n",
            "400/400 [==============================] - 1s 1ms/step - loss: 7.8594 - accuracy: 0.4882 - val_loss: 7.7041 - val_accuracy: 0.4978\n",
            "Epoch 58: early stopping\n",
            "100/100 [==============================] - 0s 900us/step\n",
            "Classification Report\n",
            "              precision    recall  f1-score   support\n",
            "\n",
            "           0       0.50      0.56      0.53      1604\n",
            "           1       0.50      0.43      0.46      1596\n",
            "\n",
            "    accuracy                           0.50      3200\n",
            "   macro avg       0.50      0.50      0.50      3200\n",
            "weighted avg       0.50      0.50      0.50      3200\n",
            "\n",
            "Accuracy : 0.4978125\n"
          ]
        },
        {
          "output_type": "display_data",
          "data": {
            "text/plain": [
              "<Figure size 640x480 with 1 Axes>"
            ],
            "image/png": "[encoded data removed]"
          },
          "metadata": {}
        }
      ]
    },
    {
      "cell_type": "code",
      "source": [],
      "metadata": {
        "id": "6iMZS7V00ipq"
      },
      "execution_count": null,
      "outputs": []
    },
    {
      "cell_type": "code",
      "source": [],
      "metadata": {
        "id": "Ct99Zo3extDL"
      },
      "execution_count": null,
      "outputs": []
    },
    {
      "cell_type": "code",
      "execution_count": null,
      "metadata": {
        "id": "54vvl7-dWKd-"
      },
      "outputs": [],
      "source": [
        "bert_preprocess = hub.KerasLayer(\"https://tfhub.dev/tensorflow/bert_en_uncased_preprocess/3\")\n",
        "bert_encoder = hub.KerasLayer(\"https://tfhub.dev/tensorflow/bert_en_uncased_L-12_H-768_A-12/4\")"
      ]
    },
    {
      "cell_type": "code",
      "execution_count": null,
      "metadata": {
        "colab": {
          "base_uri": "https://localhost:8080/"
        },
        "id": "9JHRu3rMXsjE",
        "outputId": "c7a97101-ce65-4d6e-b813-263f742f9ea7"
      },
      "outputs": [
        {
          "output_type": "execute_result",
          "data": {
            "text/plain": [
              "<tf.Tensor: shape=(2, 768), dtype=float32, numpy=\n",
              "array([[-0.84351724, -0.51327294, -0.88845766, ..., -0.7474892 ,\n",
              "        -0.7531475 ,  0.91964495],\n",
              "       [-0.84345585, -0.32694775, -0.01910432, ...,  0.30374062,\n",
              "        -0.593991  ,  0.86496323]], dtype=float32)>"
            ]
          },
          "metadata": {},
          "execution_count": 29
        }
      ],
      "source": [
        "def get_sentence_embeding(sentences):\n",
        "    preprocessed_text = bert_preprocess(sentences)\n",
        "    return bert_encoder(preprocessed_text)['pooled_output']\n",
        "\n",
        "get_sentence_embeding([\n",
        "    \"500$ discount. hurry up\",\n",
        "    \"lebron james is the goat\"]\n",
        ")"
      ]
    },
    {
      "cell_type": "code",
      "execution_count": null,
      "metadata": {
        "id": "gXmviG2EYCU6"
      },
      "outputs": [],
      "source": []
    },
    {
      "cell_type": "code",
      "execution_count": null,
      "metadata": {
        "id": "Sthxh_sBYR13"
      },
      "outputs": [],
      "source": [
        "# Bert layers\n",
        "text_input = tf.keras.layers.Input(shape=(), dtype=tf.string, name='text')\n",
        "preprocessed_text = bert_preprocess(text_input)\n",
        "outputs = bert_encoder(preprocessed_text)\n",
        "\n",
        "# Neural network layers\n",
        "l = tf.keras.layers.Dropout(0.1, name=\"dropout\")(outputs['pooled_output'])\n",
        "l = tf.keras.layers.Dense(1, activation='sigmoid', name=\"output\")(l)\n",
        "\n",
        "# Use inputs and outputs to construct a final model\n",
        "model = tf.keras.Model(inputs=[text_input], outputs = [l])"
      ]
    },
    {
      "cell_type": "code",
      "source": [],
      "metadata": {
        "id": "7nUcU3E0Dg1O"
      },
      "execution_count": null,
      "outputs": []
    },
    {
      "cell_type": "code",
      "source": [],
      "metadata": {
        "id": "t5wwjGNd6gG3"
      },
      "execution_count": null,
      "outputs": []
    },
    {
      "cell_type": "code",
      "source": [
        "def bert_analyser(experiment_name,run_name,activation,epochs):\n",
        "\n",
        " mlflow.end_run()\n",
        " mlflow.set_experiment(experiment_name)\n",
        " with mlflow.start_run(run_name=run_name):\n",
        "    mlflow.sklearn.autolog()\n",
        "    bert_preprocess = hub.KerasLayer(\"https://tfhub.dev/tensorflow/bert_en_uncased_preprocess/3\")\n",
        "    bert_encoder = hub.KerasLayer(\"https://tfhub.dev/tensorflow/bert_en_uncased_L-12_H-768_A-12/4\")\n",
        "\n",
        "    # Bert layers\n",
        "    text_input = tf.keras.layers.Input(shape=(), dtype=tf.string, name='text')\n",
        "    preprocessed_text = bert_preprocess(text_input)\n",
        "    outputs = bert_encoder(preprocessed_text)\n",
        "\n",
        "    # Neural network layers\n",
        "    l = tf.keras.layers.Dropout(0.1, name=\"dropout\")(outputs['pooled_output'])\n",
        "    l = tf.keras.layers.Dense(1, activation= activation, name=\"output\")(l)\n",
        "\n",
        "    # Use inputs and outputs to construct a final model\n",
        "    model = tf.keras.Model(inputs=[text_input], outputs = [l])\n",
        "\n",
        "    METRICS = [\n",
        "      tf.keras.metrics.BinaryAccuracy(name='accuracy'),\n",
        "      tf.keras.metrics.Precision(name='precision'),\n",
        "      tf.keras.metrics.Recall(name='recall')\n",
        "        ]\n",
        "\n",
        "    model.compile(optimizer='adam',\n",
        "              loss='binary_crossentropy',\n",
        "              metrics=METRICS)\n",
        "    #mlflow.log_metric(\"METRICS\", tf.keras.metrics.BinaryAccuracy(name='accuracy'))\n",
        "    model.fit(X_train, y_train, epochs=epochs)\n",
        "\n",
        "    model.evaluate(X_train, y_train)\n",
        "\n",
        "    #model.evaluate(X_train, y_train)\n",
        "\n",
        "    y_predicted = model.predict(X_test)\n",
        "\n",
        "    y_predicted = y_predicted.flatten()\n",
        "\n",
        "\n",
        "    y_predicted = np.where(y_predicted > 0.5, 1, 0)\n",
        "\n",
        "    accuracy= accuracy_score(y_test,y_predicted)\n",
        "    F1_score= f1_score(y_test,y_predicted)\n",
        "    mlflow.log_metric(\"accuracy\", accuracy)\n",
        "    mlflow.log_metric(\"F1_score\", F1_score)\n",
        "\n",
        "    return model\n",
        "\n",
        "\n"
      ],
      "metadata": {
        "id": "nMWpsVoX6cfZ"
      },
      "execution_count": null,
      "outputs": []
    },
    {
      "cell_type": "code",
      "source": [
        "model= bert_analyser('bert_sig','bert_sig','sigmoid',10)"
      ],
      "metadata": {
        "id": "xYMLs4_n6cpO",
        "colab": {
          "base_uri": "https://localhost:8080/"
        },
        "outputId": "bb691643-6fde-4d04-f128-5aaf19c47d28"
      },
      "execution_count": null,
      "outputs": [
        {
          "output_type": "stream",
          "name": "stderr",
          "text": [
            "2023/10/04 09:39:14 INFO mlflow.tracking.fluent: Experiment with name 'bert_sig' does not exist. Creating a new experiment.\n"
          ]
        },
        {
          "output_type": "stream",
          "name": "stdout",
          "text": [
            "Epoch 1/10\n",
            "400/400 [==============================] - 709s 2s/step - loss: 0.6658 - accuracy: 0.5920 - precision: 0.5904 - recall: 0.5933\n",
            "Epoch 2/10\n",
            "400/400 [==============================] - 691s 2s/step - loss: 0.6223 - accuracy: 0.6538 - precision: 0.6472 - recall: 0.6718\n",
            "Epoch 3/10\n",
            "400/400 [==============================] - 632s 2s/step - loss: 0.6018 - accuracy: 0.6808 - precision: 0.6757 - recall: 0.6920\n",
            "Epoch 4/10\n",
            "400/400 [==============================] - 615s 2s/step - loss: 0.5873 - accuracy: 0.6913 - precision: 0.6852 - recall: 0.7045\n",
            "Epoch 5/10\n",
            "400/400 [==============================] - 632s 2s/step - loss: 0.5750 - accuracy: 0.7018 - precision: 0.6944 - recall: 0.7180\n",
            "Epoch 6/10\n",
            "400/400 [==============================] - 630s 2s/step - loss: 0.5708 - accuracy: 0.7088 - precision: 0.7055 - recall: 0.7142\n",
            "Epoch 7/10\n",
            "400/400 [==============================] - 618s 2s/step - loss: 0.5626 - accuracy: 0.7114 - precision: 0.7058 - recall: 0.7224\n",
            "Epoch 8/10\n",
            "400/400 [==============================] - 635s 2s/step - loss: 0.5615 - accuracy: 0.7167 - precision: 0.7113 - recall: 0.7269\n",
            "Epoch 9/10\n",
            "400/400 [==============================] - 621s 2s/step - loss: 0.5558 - accuracy: 0.7138 - precision: 0.7090 - recall: 0.7225\n",
            "Epoch 10/10\n",
            "400/400 [==============================] - 621s 2s/step - loss: 0.5549 - accuracy: 0.7185 - precision: 0.7129 - recall: 0.7291\n",
            "400/400 [==============================] - 620s 2s/step - loss: 0.5496 - accuracy: 0.7254 - precision: 0.8067 - recall: 0.5909\n",
            "50/50 [==============================] - 76s 1s/step\n"
          ]
        }
      ]
    },
    {
      "cell_type": "code",
      "execution_count": null,
      "metadata": {
        "id": "nJSKZ5eHYR31"
      },
      "outputs": [],
      "source": [
        "METRICS = [\n",
        "      tf.keras.metrics.BinaryAccuracy(name='accuracy'),\n",
        "      tf.keras.metrics.Precision(name='precision'),\n",
        "      tf.keras.metrics.Recall(name='recall')\n",
        "]\n",
        "\n",
        "model.compile(optimizer='adam',\n",
        "              loss='binary_crossentropy',\n",
        "              metrics=METRICS)"
      ]
    },
    {
      "cell_type": "code",
      "execution_count": null,
      "metadata": {
        "id": "4MaknFnyYR6Q"
      },
      "outputs": [],
      "source": []
    },
    {
      "cell_type": "code",
      "execution_count": null,
      "metadata": {
        "colab": {
          "base_uri": "https://localhost:8080/"
        },
        "id": "E96rFga-YR9o",
        "outputId": "7221d06e-70bc-4b70-ac31-bd4200c1b1c7"
      },
      "outputs": [
        {
          "output_type": "stream",
          "name": "stdout",
          "text": [
            "Epoch 1/10\n",
            "400/400 [==============================] - 592s 1s/step - loss: 0.6706 - accuracy: 0.5832 - precision: 0.5847 - recall: 0.5851\n",
            "Epoch 2/10\n",
            "400/400 [==============================] - 589s 1s/step - loss: 0.6288 - accuracy: 0.6448 - precision: 0.6407 - recall: 0.6656\n",
            "Epoch 3/10\n",
            "400/400 [==============================] - 594s 1s/step - loss: 0.6075 - accuracy: 0.6722 - precision: 0.6688 - recall: 0.6870\n",
            "Epoch 4/10\n",
            "400/400 [==============================] - 588s 1s/step - loss: 0.5913 - accuracy: 0.6845 - precision: 0.6818 - recall: 0.6961\n",
            "Epoch 5/10\n",
            "400/400 [==============================] - 586s 1s/step - loss: 0.5848 - accuracy: 0.6928 - precision: 0.6893 - recall: 0.7063\n",
            "Epoch 6/10\n",
            "400/400 [==============================] - 587s 1s/step - loss: 0.5782 - accuracy: 0.7013 - precision: 0.6979 - recall: 0.7136\n",
            "Epoch 7/10\n",
            "400/400 [==============================] - 596s 1s/step - loss: 0.5735 - accuracy: 0.7002 - precision: 0.6971 - recall: 0.7122\n",
            "Epoch 8/10\n",
            "400/400 [==============================] - 597s 1s/step - loss: 0.5674 - accuracy: 0.7059 - precision: 0.7056 - recall: 0.7101\n",
            "Epoch 9/10\n",
            "400/400 [==============================] - 585s 1s/step - loss: 0.5693 - accuracy: 0.7053 - precision: 0.7028 - recall: 0.7154\n",
            "Epoch 10/10\n",
            "400/400 [==============================] - 591s 1s/step - loss: 0.5649 - accuracy: 0.7096 - precision: 0.7078 - recall: 0.7178\n"
          ]
        },
        {
          "output_type": "execute_result",
          "data": {
            "text/plain": [
              "<keras.src.callbacks.History at 0x79eb848f3b50>"
            ]
          },
          "metadata": {},
          "execution_count": 27
        }
      ],
      "source": [
        "model.fit(X_train, y_train, epochs=10)"
      ]
    },
    {
      "cell_type": "code",
      "execution_count": null,
      "metadata": {
        "colab": {
          "base_uri": "https://localhost:8080/"
        },
        "id": "EQodun_fZJQf",
        "outputId": "70dd655d-b8a4-4764-d780-f8e70986759e"
      },
      "outputs": [
        {
          "output_type": "stream",
          "name": "stdout",
          "text": [
            "400/400 [==============================] - 599s 1s/step - loss: 0.5626 - accuracy: 0.7116 - precision: 0.8048 - recall: 0.5615\n"
          ]
        },
        {
          "output_type": "execute_result",
          "data": {
            "text/plain": [
              "[0.5626154541969299, 0.7115625143051147, 0.8047746419906616, 0.561488151550293]"
            ]
          },
          "metadata": {},
          "execution_count": 28
        }
      ],
      "source": [
        "model.evaluate(X_train, y_train)"
      ]
    },
    {
      "cell_type": "code",
      "execution_count": null,
      "metadata": {
        "colab": {
          "base_uri": "https://localhost:8080/"
        },
        "id": "kGvhLe_B11WN",
        "outputId": "76a9c519-6cfa-4b70-8a58-450554312535"
      },
      "outputs": [
        {
          "output_type": "stream",
          "name": "stdout",
          "text": [
            "50/50 [==============================] - 97s 2s/step\n"
          ]
        }
      ],
      "source": [
        "y_predicted = model.predict(X_test)\n",
        "y_predicted = y_predicted.flatten()"
      ]
    },
    {
      "cell_type": "code",
      "execution_count": null,
      "metadata": {
        "id": "loFBtbDXfP0K"
      },
      "outputs": [],
      "source": []
    },
    {
      "cell_type": "code",
      "execution_count": null,
      "metadata": {
        "colab": {
          "base_uri": "https://localhost:8080/"
        },
        "id": "uTgp0mvy4MMS",
        "outputId": "db03f65e-118a-40b7-d211-9b6c79cf6cc5"
      },
      "outputs": [
        {
          "output_type": "execute_result",
          "data": {
            "text/plain": [
              "array([0, 1, 0, ..., 1, 0, 1])"
            ]
          },
          "metadata": {},
          "execution_count": 36
        }
      ],
      "source": [
        "y_predicted = np.where(y_predicted > 0.5, 1, 0)\n",
        "y_predicted"
      ]
    },
    {
      "cell_type": "code",
      "execution_count": null,
      "metadata": {
        "id": "AFPKksHF4itt"
      },
      "outputs": [],
      "source": []
    },
    {
      "cell_type": "code",
      "execution_count": null,
      "metadata": {
        "colab": {
          "base_uri": "https://localhost:8080/"
        },
        "id": "r_c5hw4Y4rxf",
        "outputId": "c3177767-b4c3-4082-a4e6-7343f2d0a402"
      },
      "outputs": [
        {
          "output_type": "execute_result",
          "data": {
            "text/plain": [
              "array([[466, 334],\n",
              "       [106, 694]])"
            ]
          },
          "metadata": {},
          "execution_count": 37
        }
      ],
      "source": [
        "\n",
        "cm = confusion_matrix(y_test, y_predicted)\n",
        "cm"
      ]
    },
    {
      "cell_type": "code",
      "execution_count": null,
      "metadata": {
        "colab": {
          "base_uri": "https://localhost:8080/"
        },
        "id": "5CTBgp9b4rz7",
        "outputId": "2f89948a-5708-4268-ec2f-a039819701b9"
      },
      "outputs": [
        {
          "output_type": "stream",
          "name": "stdout",
          "text": [
            "1/1 [==============================] - 0s 171ms/step\n"
          ]
        },
        {
          "output_type": "execute_result",
          "data": {
            "text/plain": [
              "array([['ok']], dtype='<U2')"
            ]
          },
          "metadata": {},
          "execution_count": 40
        }
      ],
      "source": [
        "say = [\n",
        "    'she is beautiful'\n",
        "]\n",
        "mod_pred=model.predict(say)\n",
        "np.where(mod_pred > 0.5, 'ok', 'ko')"
      ]
    },
    {
      "cell_type": "code",
      "execution_count": null,
      "metadata": {
        "id": "sOtFYZ4L4r3R"
      },
      "outputs": [],
      "source": [
        "def bert_analyser(experiment_name,run_name,activation):\n",
        "\n",
        " mlflow.end_run()\n",
        " mlflow.set_experiment(experiment_name)\n",
        " with mlflow.start_run(run_name=run_name):\n",
        "    mlflow.sklearn.autolog()\n",
        "    bert_preprocess = hub.KerasLayer(\"https://tfhub.dev/tensorflow/bert_en_uncased_preprocess/3\")\n",
        "    bert_encoder = hub.KerasLayer(\"https://tfhub.dev/tensorflow/bert_en_uncased_L-12_H-768_A-12/4\")\n",
        "\n",
        "    # Bert layers\n",
        "    text_input = tf.keras.layers.Input(shape=(), dtype=tf.string, name='text')\n",
        "    preprocessed_text = bert_preprocess(text_input)\n",
        "    outputs = bert_encoder(preprocessed_text)\n",
        "\n",
        "    # Neural network layers\n",
        "    l = tf.keras.layers.Dropout(0.1, name=\"dropout\")(outputs['pooled_output'])\n",
        "    l = tf.keras.layers.Dense(1, activation= activation, name=\"output\")(l)\n",
        "\n",
        "    # Use inputs and outputs to construct a final model\n",
        "    model = tf.keras.Model(inputs=[text_input], outputs = [l])\n",
        "\n",
        "    METRICS = [\n",
        "      tf.keras.metrics.BinaryAccuracy(name='accuracy'),\n",
        "      tf.keras.metrics.Precision(name='precision'),\n",
        "      tf.keras.metrics.Recall(name='recall')\n",
        "        ]\n",
        "\n",
        "    model.compile(optimizer='adam',\n",
        "              loss='binary_crossentropy',\n",
        "              metrics=METRICS)\n",
        "    #mlflow.log_metric(\"METRICS\", tf.keras.metrics.BinaryAccuracy(name='accuracy'))\n",
        "    model.fit(X_train, y_train, epochs=4)\n",
        "\n",
        "    model.evaluate(X_train, y_train)\n",
        "\n",
        "    #model.evaluate(X_train, y_train)\n",
        "\n",
        "    y_predicted = model.predict(X_test)\n",
        "\n",
        "    y_predicted = y_predicted.flatten()\n",
        "\n",
        "\n",
        "    y_predicted = np.where(y_predicted > 0.5, 1, 0)\n",
        "\n",
        "    accuracy= accuracy_score(y_test,y_predicted)\n",
        "    mlflow.log_metric(\"accuracy\", accuracy)\n",
        "    y_predicted\n",
        "\n",
        "    cm = confusion_matrix(y_test, y_predicted)\n",
        "    cm\n",
        "\n",
        "\n"
      ]
    },
    {
      "cell_type": "code",
      "execution_count": null,
      "metadata": {
        "colab": {
          "base_uri": "https://localhost:8080/"
        },
        "id": "0jF37mBNFCfY",
        "outputId": "783f14ce-8602-4507-c205-77074050576a"
      },
      "outputs": [
        {
          "output_type": "stream",
          "name": "stdout",
          "text": [
            "Epoch 1/4\n",
            "400/400 [==============================] - 616s 2s/step - loss: 7.7277 - accuracy: 0.4979 - precision: 0.2857 - recall: 3.1133e-04\n",
            "Epoch 2/4\n",
            "400/400 [==============================] - 603s 2s/step - loss: 7.6149 - accuracy: 0.4991 - precision: 0.5176 - recall: 0.0297\n",
            "Epoch 3/4\n",
            "400/400 [==============================] - 610s 2s/step - loss: 7.7393 - accuracy: 0.4980 - precision: 0.4000 - recall: 3.1133e-04\n",
            "Epoch 4/4\n",
            "400/400 [==============================] - 612s 2s/step - loss: 7.7381 - accuracy: 0.4980 - precision: 0.4000 - recall: 3.1133e-04\n",
            "400/400 [==============================] - 625s 2s/step - loss: 7.7393 - accuracy: 0.4981 - precision: 0.5000 - recall: 3.1133e-04\n",
            "50/50 [==============================] - 78s 2s/step\n"
          ]
        }
      ],
      "source": [
        "bert_analyser('bert_relu','relu','relu',4)"
      ]
    },
    {
      "cell_type": "code",
      "execution_count": null,
      "metadata": {
        "id": "65mP9WobSL1c"
      },
      "outputs": [],
      "source": []
    },
    {
      "cell_type": "code",
      "execution_count": null,
      "metadata": {
        "colab": {
          "base_uri": "https://localhost:8080/"
        },
        "id": "YnY8Q1jWSL4F",
        "outputId": "247f9cae-3924-4f3a-8cef-234cae8da3ca"
      },
      "outputs": [
        {
          "output_type": "stream",
          "name": "stdout",
          "text": [
            "Epoch 1/10\n",
            "400/400 [==============================] - 638s 2s/step - loss: 0.9086 - accuracy: 0.5387 - precision: 0.5261 - recall: 0.7573\n",
            "Epoch 2/10\n",
            "400/400 [==============================] - 629s 2s/step - loss: 0.8404 - accuracy: 0.5777 - precision: 0.5549 - recall: 0.7739\n",
            "Epoch 3/10\n",
            "400/400 [==============================] - 626s 2s/step - loss: 1.1422 - accuracy: 0.5810 - precision: 0.5562 - recall: 0.7912\n",
            "Epoch 4/10\n",
            "400/400 [==============================] - 621s 2s/step - loss: 5.5322 - accuracy: 0.5185 - precision: 0.5093 - recall: 0.9417\n",
            "Epoch 5/10\n",
            "400/400 [==============================] - 624s 2s/step - loss: 1.9674 - accuracy: 0.5436 - precision: 0.5256 - recall: 0.8703\n",
            "Epoch 6/10\n",
            "400/400 [==============================] - 634s 2s/step - loss: 0.9142 - accuracy: 0.5785 - precision: 0.5533 - recall: 0.8032\n",
            "Epoch 7/10\n",
            "400/400 [==============================] - 643s 2s/step - loss: 0.8879 - accuracy: 0.5855 - precision: 0.5590 - recall: 0.8006\n",
            "Epoch 8/10\n",
            "400/400 [==============================] - 648s 2s/step - loss: 2.6721 - accuracy: 0.5596 - precision: 0.5358 - recall: 0.8748\n",
            "Epoch 9/10\n",
            "400/400 [==============================] - 645s 2s/step - loss: 2.8886 - accuracy: 0.5193 - precision: 0.5095 - recall: 0.9619\n",
            "Epoch 10/10\n",
            "400/400 [==============================] - 647s 2s/step - loss: 1.4958 - accuracy: 0.5441 - precision: 0.5253 - recall: 0.8894\n",
            "400/400 [==============================] - 649s 2s/step - loss: 1.0368 - accuracy: 0.5765 - precision: 0.5519 - recall: 0.8020\n",
            "50/50 [==============================] - 82s 2s/step\n"
          ]
        },
        {
          "output_type": "execute_result",
          "data": {
            "text/plain": [
              "<keras.src.engine.functional.Functional at 0x77f972cf0c70>"
            ]
          },
          "metadata": {},
          "execution_count": 38
        }
      ],
      "source": [
        "bert_analyser('bert_tanh','tanh','tanh',10)"
      ]
    },
    {
      "cell_type": "code",
      "execution_count": null,
      "metadata": {
        "id": "fn0epgE3SL6t"
      },
      "outputs": [],
      "source": []
    },
    {
      "cell_type": "code",
      "execution_count": null,
      "metadata": {
        "colab": {
          "base_uri": "https://localhost:8080/"
        },
        "id": "41MkboXBSL9j",
        "outputId": "f42dc652-4eff-4f1b-b32e-f41615a11e3f"
      },
      "outputs": [
        {
          "output_type": "stream",
          "name": "stderr",
          "text": [
            "2023/10/04 18:10:11 INFO mlflow.tracking.fluent: Experiment with name 'bert_sigmoid' does not exist. Creating a new experiment.\n"
          ]
        },
        {
          "output_type": "stream",
          "name": "stdout",
          "text": [
            "Epoch 1/10\n",
            "400/400 [==============================] - 659s 2s/step - loss: 0.6695 - accuracy: 0.5870 - precision: 0.5853 - recall: 0.5895\n",
            "Epoch 2/10\n",
            "400/400 [==============================] - 648s 2s/step - loss: 0.6207 - accuracy: 0.6557 - precision: 0.6510 - recall: 0.6674\n",
            "Epoch 3/10\n",
            "400/400 [==============================] - 647s 2s/step - loss: 0.6010 - accuracy: 0.6791 - precision: 0.6731 - recall: 0.6934\n",
            "Epoch 4/10\n",
            "400/400 [==============================] - 668s 2s/step - loss: 0.5868 - accuracy: 0.6929 - precision: 0.6867 - recall: 0.7066\n",
            "Epoch 5/10\n",
            "177/400 [============>.................] - ETA: 6:17 - loss: 0.5852 - accuracy: 0.6951 - precision: 0.6930 - recall: 0.7040"
          ]
        }
      ],
      "source": [
        "bert_analyser('bert_sigmoid','sigmoid','sigmoid',10)"
      ]
    },
    {
      "cell_type": "code",
      "execution_count": null,
      "metadata": {
        "id": "yak7BfpzSMA8"
      },
      "outputs": [],
      "source": []
    },
    {
      "cell_type": "code",
      "source": [
        "def bert_analyser(experiment_name,run_name,activation,epochs):\n",
        "\n",
        " mlflow.end_run()\n",
        " mlflow.set_experiment(experiment_name)\n",
        " with mlflow.start_run(run_name=run_name):\n",
        "    mlflow.sklearn.autolog()\n",
        "    bert_preprocess = hub.KerasLayer(\"https://tfhub.dev/tensorflow/bert_en_uncased_preprocess/3\")\n",
        "    bert_encoder = hub.KerasLayer(\"https://tfhub.dev/tensorflow/bert_en_uncased_L-12_H-768_A-12/4\")\n",
        "\n",
        "    # Bert layers\n",
        "    text_input = tf.keras.layers.Input(shape=(), dtype=tf.string, name='text')\n",
        "    preprocessed_text = bert_preprocess(text_input)\n",
        "    outputs = bert_encoder(preprocessed_text)\n",
        "\n",
        "    # Neural network layers\n",
        "    l = tf.keras.layers.Dropout(0.1, name=\"dropout\")(outputs['pooled_output'])\n",
        "    l = tf.keras.layers.Dense(1, activation= activation, name=\"output\")(l)\n",
        "\n",
        "    # Use inputs and outputs to construct a final model\n",
        "    model = tf.keras.Model(inputs=[text_input], outputs = [l])\n",
        "\n",
        "    METRICS = [\n",
        "      tf.keras.metrics.BinaryAccuracy(name='accuracy'),\n",
        "      tf.keras.metrics.Precision(name='precision'),\n",
        "      tf.keras.metrics.Recall(name='recall')\n",
        "        ]\n",
        "\n",
        "    model.compile(optimizer='adam',\n",
        "              loss='binary_crossentropy',\n",
        "              metrics=METRICS)\n",
        "    #mlflow.log_metric(\"METRICS\", tf.keras.metrics.BinaryAccuracy(name='accuracy'))\n",
        "    model.fit(X_train, y_train, epochs=epochs)\n",
        "\n",
        "    model.evaluate(X_train, y_train)\n",
        "\n",
        "    #model.evaluate(X_train, y_train)\n",
        "\n",
        "    y_predicted = model.predict(X_test)\n",
        "\n",
        "    y_predicted = y_predicted.flatten()\n",
        "\n",
        "\n",
        "    y_predicted = np.where(y_predicted > 0.5, 1, 0)\n",
        "\n",
        "    accuracy= accuracy_score(y_test,y_predicted)\n",
        "    f1_score= f1_score(y_test,y_predicted)\n",
        "    mlflow.log_metric(\"accuracy\", accuracy)\n",
        "\n",
        "    return model\n",
        "\n",
        "\n"
      ],
      "metadata": {
        "id": "j2RaAStd08EB"
      },
      "execution_count": null,
      "outputs": []
    },
    {
      "cell_type": "code",
      "source": [],
      "metadata": {
        "id": "XKg1W5T508KB"
      },
      "execution_count": null,
      "outputs": []
    },
    {
      "cell_type": "code",
      "execution_count": null,
      "metadata": {
        "colab": {
          "base_uri": "https://localhost:8080/"
        },
        "id": "JP7O-MXpFiqg",
        "outputId": "6df7f281-1a60-4897-f499-58bb4c1c9a01"
      },
      "outputs": [
        {
          "name": "stdout",
          "output_type": "stream",
          "text": [
            "Requirement already satisfied: pyngrok in /usr/local/lib/python3.10/dist-packages (7.0.0)\n",
            "Requirement already satisfied: PyYAML in /usr/local/lib/python3.10/dist-packages (from pyngrok) (6.0.1)\n"
          ]
        }
      ],
      "source": []
    },
    {
      "cell_type": "code",
      "execution_count": null,
      "metadata": {
        "id": "yYzhWVuhFt_a"
      },
      "outputs": [],
      "source": [
        "def serve_model_experiment(NGROK_AUTH_TOKEN):\n",
        "  # Terminate open tunnels if exist\n",
        "  #ngrok.kill(NGROK_AUTH_TOKEN)\n",
        "\n",
        "  # Setting the authtoken (optional)\n",
        "  # Get your authtoken from https://dashboard.ngrok.com/auth\n",
        "  NGROK_AUTH_TOKEN = NGROK_AUTH_TOKEN\n",
        "  ngrok.set_auth_token(NGROK_AUTH_TOKEN)\n",
        "\n",
        "  # Open an HTTPs tunnel on port 5000 for http://localhost:5000\n",
        "  ngrok_tunnel = ngrok.connect(addr=\"5000\", proto=\"http\", bind_tls=True)\n",
        "  print(\"MLflow Tracking UI:\", ngrok_tunnel.public_url)\n",
        "\n",
        "\n",
        "token=config_ngrok['token']\n"
      ]
    },
    {
      "cell_type": "code",
      "execution_count": null,
      "metadata": {
        "colab": {
          "base_uri": "https://localhost:8080/"
        },
        "id": "uR4_YpPyCxEW",
        "outputId": "33f57a3d-4ba9-46ba-8026-df224f66f1af"
      },
      "outputs": [
        {
          "output_type": "stream",
          "name": "stdout",
          "text": [
            "MLflow Tracking UI: https://d179-35-239-83-44.ngrok-free.app\n"
          ]
        }
      ],
      "source": [
        "serve_model_experiment(token)"
      ]
    },
    {
      "cell_type": "code",
      "execution_count": null,
      "metadata": {
        "colab": {
          "base_uri": "https://localhost:8080/"
        },
        "id": "0SjSVRjsFuCJ",
        "outputId": "040d5fe0-b901-4687-e1af-b26d0182d4ab"
      },
      "outputs": [
        {
          "output_type": "stream",
          "name": "stdout",
          "text": [
            "Traceback (most recent call last):\n",
            "  File \"/usr/local/bin/mlflow\", line 8, in <module>\n",
            "    sys.exit(cli())\n",
            "  File \"/usr/local/lib/python3.10/dist-packages/click/core.py\", line 829, in __call__\n",
            "    return self.main(*args, **kwargs)\n",
            "  File \"/usr/local/lib/python3.10/dist-packages/click/core.py\", line 782, in main\n",
            "    rv = self.invoke(ctx)\n",
            "  File \"/usr/local/lib/python3.10/dist-packages/click/core.py\", line 1259, in invoke\n",
            "    return _process_result(sub_ctx.command.invoke(sub_ctx))\n",
            "  File \"/usr/local/lib/python3.10/dist-packages/click/core.py\", line 1066, in invoke\n",
            "    return ctx.invoke(self.callback, **ctx.params)\n",
            "  File \"/usr/local/lib/python3.10/dist-packages/click/core.py\", line 610, in invoke\n",
            "    return callback(*args, **kwargs)\n",
            "  File \"/usr/local/lib/python3.10/dist-packages/mlflow/cli.py\", line 400, in server\n",
            "    from mlflow.server import _run_server\n",
            "  File \"/usr/local/lib/python3.10/dist-packages/mlflow/server/__init__.py\", line 9, in <module>\n",
            "    from flask import Flask, Response, send_from_directory\n",
            "  File \"/usr/local/lib/python3.10/dist-packages/flask/__init__.py\", line 5, in <module>\n",
            "    from .app import Flask as Flask\n",
            "  File \"/usr/local/lib/python3.10/dist-packages/flask/app.py\", line 34, in <module>\n",
            "    from . import cli\n",
            "  File \"/usr/local/lib/python3.10/dist-packages/flask/cli.py\", line 15, in <module>\n",
            "    from click.core import ParameterSource\n",
            "ImportError: cannot import name 'ParameterSource' from 'click.core' (/usr/local/lib/python3.10/dist-packages/click/core.py)\n"
          ]
        }
      ],
      "source": [
        "!mlflow ui"
      ]
    },
    {
      "cell_type": "code",
      "execution_count": null,
      "metadata": {
        "id": "Nu7cnijXFuFi"
      },
      "outputs": [],
      "source": []
    },
    {
      "cell_type": "code",
      "execution_count": null,
      "metadata": {
        "id": "sdz3jr9YpngJ"
      },
      "outputs": [],
      "source": [
        "#import pickle\n",
        "#Pkl_Filename = \"/content/bad_buzz_detection/model_bert.pkl\"\n",
        "\n",
        "#with open(Pkl_Filename, 'wb') as file:\n",
        "#    pickle.dump(model, file)"
      ]
    },
    {
      "cell_type": "code",
      "execution_count": null,
      "metadata": {
        "id": "-Om_IRlipniq"
      },
      "outputs": [],
      "source": [
        "model.save('model.pkl')"
      ]
    },
    {
      "cell_type": "code",
      "execution_count": null,
      "metadata": {
        "id": "GNWBdi2lpnlD"
      },
      "outputs": [],
      "source": [
        "from pydantic import BaseModel\n",
        "#from string import string\n",
        "class Tweet(BaseModel):\n",
        "    text: str\n",
        "\n",
        "class Item(BaseModel):\n",
        "    sentiment: str\n",
        "\n"
      ]
    },
    {
      "cell_type": "code",
      "execution_count": null,
      "metadata": {
        "id": "KWIeiIaLpnnd"
      },
      "outputs": [],
      "source": []
    },
    {
      "cell_type": "code",
      "execution_count": null,
      "metadata": {
        "id": "54zbtLxmpnp5"
      },
      "outputs": [],
      "source": [
        "from fastapi import FastAPI,Response\n",
        "import pickle\n",
        "import json\n",
        "from fastapi import FastAPI\n",
        "from fastapi.encoders import jsonable_encoder\n",
        "from fastapi.responses import JSONResponse\n",
        "from pydantic import BaseModel\n",
        "\n",
        "app = FastAPI()\n",
        "\n",
        "@app.on_event(\"startup\")\n",
        "def load_model():\n",
        "    global model\n",
        "    #model = pickle.load(open(\"/content/bad_buzz_detection/model_bert.pkl\", \"rb\"))\n",
        "    model = tf.keras.models.load_model('/content/bad_buzz_detection/model.pkl')\n",
        "\n",
        "@app.get('/')\n",
        "def index():\n",
        "    return {'message': 'This is the homepage of the API '}\n",
        "\n",
        "\n",
        "@app.post('/predict',response_model=Item)\n",
        "def analyse_sentiment(data: Tweet):\n",
        "    received = data.dict()\n",
        "    text = received['text']\n",
        "\n",
        "    pred_name = model.predict([text])\n",
        "\n",
        "\n",
        "    result = 'You\\'re sentiment is positive thank you' if pred_name > 0.5 else 'Thank you anyway'\n",
        "\n",
        "    return {\"sentiment\" : str(result)}\n"
      ]
    },
    {
      "cell_type": "code",
      "execution_count": null,
      "metadata": {
        "id": "SFuBKiE5cdXO"
      },
      "outputs": [],
      "source": []
    },
    {
      "cell_type": "code",
      "execution_count": null,
      "metadata": {
        "id": "HgmOHsd1fHZv"
      },
      "outputs": [],
      "source": []
    },
    {
      "cell_type": "code",
      "execution_count": null,
      "metadata": {
        "id": "4gE3IpXypnu6"
      },
      "outputs": [],
      "source": [
        "from colabcode import ColabCode\n",
        "server = ColabCode(port=10000, code=False)"
      ]
    },
    {
      "cell_type": "code",
      "execution_count": null,
      "metadata": {
        "colab": {
          "base_uri": "https://localhost:8080/"
        },
        "id": "MJJmtDeHpnyT",
        "outputId": "ed448d8d-a93e-43ea-b84d-ebefe817f670"
      },
      "outputs": [
        {
          "output_type": "stream",
          "name": "stdout",
          "text": [
            "Public URL: NgrokTunnel: \"https://f54f-35-239-83-44.ngrok-free.app\" -> \"http://localhost:10000\"\n"
          ]
        },
        {
          "output_type": "stream",
          "name": "stderr",
          "text": [
            "INFO:     Started server process [3813]\n",
            "INFO:uvicorn.error:Started server process [3813]\n",
            "INFO:     Waiting for application startup.\n",
            "INFO:uvicorn.error:Waiting for application startup.\n",
            "INFO:     Application startup complete.\n",
            "INFO:uvicorn.error:Application startup complete.\n",
            "INFO:     Uvicorn running on http://127.0.0.1:10000 (Press CTRL+C to quit)\n",
            "INFO:uvicorn.error:Uvicorn running on http://127.0.0.1:10000 (Press CTRL+C to quit)\n"
          ]
        },
        {
          "output_type": "stream",
          "name": "stdout",
          "text": [
            "1/1 [==============================] - 1s 1s/step\n",
            "INFO:     88.180.43.200:0 - \"POST /predict HTTP/1.1\" 200 OK\n",
            "1/1 [==============================] - 0s 172ms/step\n",
            "INFO:     88.180.43.200:0 - \"POST /predict HTTP/1.1\" 200 OK\n",
            "1/1 [==============================] - 0s 158ms/step\n",
            "INFO:     88.180.43.200:0 - \"POST /predict HTTP/1.1\" 200 OK\n",
            "1/1 [==============================] - 0s 155ms/step\n",
            "INFO:     88.180.43.200:0 - \"POST /predict HTTP/1.1\" 200 OK\n",
            "1/1 [==============================] - 0s 148ms/step\n",
            "INFO:     88.180.43.200:0 - \"POST /predict HTTP/1.1\" 200 OK\n",
            "1/1 [==============================] - 0s 165ms/step\n",
            "INFO:     88.180.43.200:0 - \"POST /predict HTTP/1.1\" 200 OK\n",
            "1/1 [==============================] - 0s 158ms/step\n",
            "INFO:     88.180.43.200:0 - \"POST /predict HTTP/1.1\" 200 OK\n",
            "1/1 [==============================] - 0s 153ms/step\n",
            "INFO:     88.180.43.200:0 - \"POST /predict HTTP/1.1\" 200 OK\n",
            "1/1 [==============================] - 0s 164ms/step\n",
            "INFO:     88.180.43.200:0 - \"POST /predict HTTP/1.1\" 200 OK\n",
            "1/1 [==============================] - 0s 146ms/step\n",
            "INFO:     88.180.43.200:0 - \"POST /predict HTTP/1.1\" 200 OK\n",
            "INFO:     2a01:e0a:d0a:f200:7847:f0fc:2295:feed:0 - \"POST /predict HTTP/1.1\" 422 Unprocessable Entity\n",
            "INFO:     2a01:e0a:d0a:f200:7847:f0fc:2295:feed:0 - \"POST /predict HTTP/1.1\" 422 Unprocessable Entity\n",
            "INFO:     2a01:e0a:d0a:f200:7847:f0fc:2295:feed:0 - \"POST /predict HTTP/1.1\" 422 Unprocessable Entity\n",
            "INFO:     2a01:e0a:d0a:f200:7847:f0fc:2295:feed:0 - \"POST /predict HTTP/1.1\" 422 Unprocessable Entity\n",
            "1/1 [==============================] - 0s 168ms/step\n",
            "INFO:     2a01:e0a:d0a:f200:7847:f0fc:2295:feed:0 - \"POST /predict HTTP/1.1\" 200 OK\n",
            "1/1 [==============================] - 0s 150ms/step\n",
            "INFO:     2a01:e0a:d0a:f200:7847:f0fc:2295:feed:0 - \"POST /predict HTTP/1.1\" 200 OK\n",
            "1/1 [==============================] - 0s 158ms/step\n",
            "INFO:     2a01:e0a:d0a:f200:7847:f0fc:2295:feed:0 - \"POST /predict HTTP/1.1\" 200 OK\n",
            "1/1 [==============================] - 0s 163ms/step\n",
            "INFO:     2a01:e0a:d0a:f200:7847:f0fc:2295:feed:0 - \"POST /predict HTTP/1.1\" 200 OK\n",
            "1/1 [==============================] - 0s 159ms/step\n",
            "INFO:     2a01:e0a:d0a:f200:7847:f0fc:2295:feed:0 - \"POST /predict HTTP/1.1\" 200 OK\n",
            "1/1 [==============================] - 0s 160ms/step\n",
            "INFO:     2a01:e0a:d0a:f200:7847:f0fc:2295:feed:0 - \"POST /predict HTTP/1.1\" 200 OK\n",
            "1/1 [==============================] - 0s 149ms/step\n",
            "INFO:     2a01:e0a:d0a:f200:7847:f0fc:2295:feed:0 - \"POST /predict HTTP/1.1\" 200 OK\n",
            "1/1 [==============================] - 0s 167ms/step\n",
            "INFO:     2a01:e0a:d0a:f200:7847:f0fc:2295:feed:0 - \"POST /predict HTTP/1.1\" 200 OK\n"
          ]
        },
        {
          "output_type": "stream",
          "name": "stderr",
          "text": [
            "INFO:     Shutting down\n",
            "INFO:uvicorn.error:Shutting down\n",
            "INFO:     Waiting for application shutdown.\n",
            "INFO:uvicorn.error:Waiting for application shutdown.\n",
            "INFO:     Application shutdown complete.\n",
            "INFO:uvicorn.error:Application shutdown complete.\n",
            "INFO:     Finished server process [3813]\n",
            "INFO:uvicorn.error:Finished server process [3813]\n"
          ]
        }
      ],
      "source": [
        "server.run_app(app=app)"
      ]
    },
    {
      "cell_type": "code",
      "execution_count": null,
      "metadata": {
        "id": "ZJylY0HQfSFH"
      },
      "outputs": [],
      "source": []
    }
  ],
  "metadata": {
    "accelerator": "TPU",
    "colab": {
      "machine_shape": "hm",
      "provenance": [],
      "authorship_tag": "ABX9TyNH1gbE+fS5pEdVpjFyn9cG",
      "include_colab_link": true
    },
    "kernelspec": {
      "display_name": "Python 3",
      "name": "python3"
    },
    "language_info": {
      "name": "python"
    }
  },
  "nbformat": 4,
  "nbformat_minor": 0
}